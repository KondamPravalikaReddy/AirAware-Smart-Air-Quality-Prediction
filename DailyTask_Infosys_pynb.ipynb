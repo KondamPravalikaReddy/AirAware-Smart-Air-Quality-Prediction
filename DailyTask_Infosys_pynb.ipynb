{
  "nbformat": 4,
  "nbformat_minor": 0,
  "metadata": {
    "colab": {
      "provenance": [],
      "authorship_tag": "ABX9TyNXWs5ZHVjCaqTHfn84fsWP",
      "include_colab_link": true
    },
    "kernelspec": {
      "name": "python3",
      "display_name": "Python 3"
    },
    "language_info": {
      "name": "python"
    }
  },
  "cells": [
    {
      "cell_type": "markdown",
      "metadata": {
        "id": "view-in-github",
        "colab_type": "text"
      },
      "source": [
        "<a href=\"https://colab.research.google.com/github/KondamPravalikaReddy/AirAware-Smart-Air-Quality-Prediction/blob/main/DailyTask_Infosys_pynb.ipynb\" target=\"_parent\"><img src=\"https://colab.research.google.com/assets/colab-badge.svg\" alt=\"Open In Colab\"/></a>"
      ]
    },
    {
      "cell_type": "code",
      "source": [
        "print('Pravalika')"
      ],
      "metadata": {
        "colab": {
          "base_uri": "https://localhost:8080/"
        },
        "id": "JvvzQoctLHE_",
        "outputId": "edc1466b-6542-4bd7-ead8-26d4e16640ea"
      },
      "execution_count": 1,
      "outputs": [
        {
          "output_type": "stream",
          "name": "stdout",
          "text": [
            "Pravalika\n"
          ]
        }
      ]
    },
    {
      "cell_type": "code",
      "source": [
        "company='Infosys'\n",
        "age=17\n",
        "Percentage=97.2\n",
        "print(type(age))\n",
        "print(type(company))\n",
        "print(type(Percentage))"
      ],
      "metadata": {
        "colab": {
          "base_uri": "https://localhost:8080/"
        },
        "id": "4Ss_lDtvLr-7",
        "outputId": "58061921-c4fa-4406-c420-be18ccfaef0a"
      },
      "execution_count": 2,
      "outputs": [
        {
          "output_type": "stream",
          "name": "stdout",
          "text": [
            "<class 'int'>\n",
            "<class 'str'>\n",
            "<class 'float'>\n"
          ]
        }
      ]
    },
    {
      "cell_type": "code",
      "source": [
        "id(age) #gives address of variable 'age'"
      ],
      "metadata": {
        "colab": {
          "base_uri": "https://localhost:8080/"
        },
        "id": "lbiKVe8zLycn",
        "outputId": "bba7c36d-bb93-424b-b2a2-08ff6ff20f08"
      },
      "execution_count": 3,
      "outputs": [
        {
          "output_type": "execute_result",
          "data": {
            "text/plain": [
              "11642600"
            ]
          },
          "metadata": {},
          "execution_count": 3
        }
      ]
    },
    {
      "cell_type": "code",
      "source": [
        "#TASK:1--codes for 1.numeric, 2.integer(Positive,Negative, Binary,Octal,Hexadecimal),3.Float, 4.Boolean(True,False)\n",
        "number=88\n",
        "print(\"Decimal Integer:\" ,number)\n",
        "Positive=24\n",
        "Negative=-4\n",
        "print(\"Positive Integer:\",Positive)\n",
        "print(\"Negative Integer:\",Negative)\n",
        "bin=0b101\n",
        "print(\"Binary: \",bin)\n",
        "Octal=0o5\n",
        "print(\"Octal Number:\",Octal)\n",
        "Hexa=0x2F\n",
        "print(\"Hexadecimal Number:\",Hexa)\n",
        "F=9.78\n",
        "print(\"Float: \",F)\n",
        "Value1=1\n",
        "Value2=0\n",
        "print(\"Hexadecimal Number:\",Hexa)\n",
        "print(\"Boolean True :\",Value1)\n",
        "print(\"Boolean  False :\",Value2)\n",
        "is_bool=89\n",
        "print(bool(is_bool))"
      ],
      "metadata": {
        "colab": {
          "base_uri": "https://localhost:8080/"
        },
        "id": "qVNPs5q5MWpZ",
        "outputId": "64690cc5-a1bb-4c78-af3a-405b6d6c8ecd"
      },
      "execution_count": 4,
      "outputs": [
        {
          "output_type": "stream",
          "name": "stdout",
          "text": [
            "Decimal Integer: 88\n",
            "Positive Integer: 24\n",
            "Negative Integer: -4\n",
            "Binary:  5\n",
            "Octal Number: 5\n",
            "Hexadecimal Number: 47\n",
            "Float:  9.78\n",
            "Hexadecimal Number: 47\n",
            "Boolean True : 1\n",
            "Boolean  False : 0\n",
            "True\n"
          ]
        }
      ]
    },
    {
      "cell_type": "code",
      "source": [
        "#Task 2:Code for all Arithmetic Operators(+,-,*,/,//)\n",
        "a = 10\n",
        "b = 3\n",
        "\n",
        "print(\"Addition:\", a + b)\n",
        "print(\"Subtraction:\", a - b)\n",
        "print(\"Multiplication:\", a * b)\n",
        "print(\"Division:\", a / b)\n",
        "print(\"Floor Division:\", a // b)\n",
        "print(\"Modulus:\", a % b)\n",
        "print(\"Exponentiation:\", a ** b)"
      ],
      "metadata": {
        "colab": {
          "base_uri": "https://localhost:8080/"
        },
        "id": "qW3PAk0QMjU9",
        "outputId": "640feeb1-5d8b-4e9d-f6ff-13b90d226050"
      },
      "execution_count": 5,
      "outputs": [
        {
          "output_type": "stream",
          "name": "stdout",
          "text": [
            "Addition: 13\n",
            "Subtraction: 7\n",
            "Multiplication: 30\n",
            "Division: 3.3333333333333335\n",
            "Floor Division: 3\n",
            "Modulus: 1\n",
            "Exponentiation: 1000\n"
          ]
        }
      ]
    },
    {
      "cell_type": "code",
      "source": [
        "#Task 3:String Operators\n",
        "str1 = \"Hello\"\n",
        "str2 = \"World\"\n",
        "\n",
        "# 1. Concatenation [+]\n",
        "print(\"Concatenation:\", str1 + \" \" + str2)\n",
        "\n",
        "# 2. Repetition [*]\n",
        "print(\"Repetition:\", str1 * 3)\n",
        "\n",
        "# 3. Slice []\n",
        "print(\"Slice:\", str1[1])\n",
        "\n",
        "# 4. Range Slice [:]\n",
        "print(\"Range Slice:\", str1[1:4])\n",
        "\n",
        "# 5. In Membership [in]\n",
        "print(\"In Membership:\", \"H\" in str1)\n",
        "\n",
        "# 6. Not in Membership [not in]\n",
        "print(\"Not in Membership:\", \"z\" not in str1)"
      ],
      "metadata": {
        "colab": {
          "base_uri": "https://localhost:8080/"
        },
        "id": "DmRGDeOZMwHc",
        "outputId": "33fbb30e-dd16-4a3d-c6c8-9390adbec4c7"
      },
      "execution_count": 6,
      "outputs": [
        {
          "output_type": "stream",
          "name": "stdout",
          "text": [
            "Concatenation: Hello World\n",
            "Repetition: HelloHelloHello\n",
            "Slice: e\n",
            "Range Slice: ell\n",
            "In Membership: True\n",
            "Not in Membership: True\n"
          ]
        }
      ]
    },
    {
      "cell_type": "code",
      "source": [
        "#Task4:Write a code to create google form which has all data types using input command-giving user input at runtime.\n",
        "name = input(\"Enter your name: \")\n",
        "age = int(input(\"Enter your age: \"))\n",
        "marks = float(input(\"Enter your marks: \"))\n",
        "is_student = input(\"Are you a student? (yes/no): \")\n",
        "\n",
        "# Output with different methods\n",
        "print(\"Name:\", name, \"Age:\", age, \"Marks:\", marks, \"Student:\", is_student)\n",
        "print(\"Name: \" + name + \" Age: \" + str(age))\n",
        "print(\"Marks: %0.2f\" % marks)\n",
        "print(\"Student: {} Age: {}\".format(is_student, age))\n",
        "print(f\"Name: {name} Age: {age}\")"
      ],
      "metadata": {
        "colab": {
          "base_uri": "https://localhost:8080/"
        },
        "id": "28FFs-s7M-ZN",
        "outputId": "6f12ea28-437c-4043-850d-f65494975f98"
      },
      "execution_count": 7,
      "outputs": [
        {
          "output_type": "stream",
          "name": "stdout",
          "text": [
            "Enter your name: SONY\n",
            "Enter your age: 20\n",
            "Enter your marks: 98\n",
            "Are you a student? (yes/no): YES\n",
            "Name: SONY Age: 20 Marks: 98.0 Student: YES\n",
            "Name: SONY Age: 20\n",
            "Marks: 98.00\n",
            "Student: YES Age: 20\n",
            "Name: SONY Age: 20\n"
          ]
        }
      ]
    },
    {
      "cell_type": "code",
      "source": [
        "#Task5: Functions Manupulating Lists only\n",
        "Data=['MANI','Male','5.9']\n",
        "#max(Data)\n",
        "#min(Data)\n",
        "print(max(Data))\n",
        "print(min(Data))\n",
        "Data.append('RAJU') #Adds at end of the list\n",
        "print(Data)\n",
        "Data.insert(1,'REDDY') #insert according to index position\n",
        "print(Data)\n",
        "Data.pop() #Removes last element\n",
        "print(Data)\n",
        "print(Data[2]) #Accessing through Index\n",
        "Data[2:6] #Range Slicing\n",
        "Data.remove(\"5.9\") #Removes the element from the list\n",
        "print(Data)\n",
        "print(Data.count('35')) #Counts the repetition\n",
        "print(Data.index('Male')) #Index position of an element"
      ],
      "metadata": {
        "colab": {
          "base_uri": "https://localhost:8080/"
        },
        "id": "LsOLo9OfNMXM",
        "outputId": "2ac4d1b2-0d21-4f9d-c2ca-6f269d1059f9"
      },
      "execution_count": 9,
      "outputs": [
        {
          "output_type": "stream",
          "name": "stdout",
          "text": [
            "Male\n",
            "5.9\n",
            "['MANI', 'Male', '5.9', 'RAJU']\n",
            "['MANI', 'REDDY', 'Male', '5.9', 'RAJU']\n",
            "['MANI', 'REDDY', 'Male', '5.9']\n",
            "Male\n",
            "['MANI', 'REDDY', 'Male']\n",
            "0\n",
            "2\n"
          ]
        }
      ]
    },
    {
      "cell_type": "code",
      "source": [
        "#Task6: Builtin Functions for DICTIONARY\n",
        "d = {'x': 1, 'y': 2}\n",
        "print(d.keys())\n",
        "print(d.values())\n",
        "print(d.items())"
      ],
      "metadata": {
        "colab": {
          "base_uri": "https://localhost:8080/"
        },
        "id": "dD0qd2EDNujU",
        "outputId": "329dac99-75cf-490b-b751-566e3b0ec377"
      },
      "execution_count": 10,
      "outputs": [
        {
          "output_type": "stream",
          "name": "stdout",
          "text": [
            "dict_keys(['x', 'y'])\n",
            "dict_values([1, 2])\n",
            "dict_items([('x', 1), ('y', 2)])\n"
          ]
        }
      ]
    },
    {
      "cell_type": "code",
      "source": [
        "#Task7: Functions to modify set\n",
        "a={\"C\",\"France\",\"Python\"}\n",
        "b=a.copy()\n",
        "a.add(\"Ruby\")\n",
        "print(a)\n",
        "a.update(\"DJANGO\",\"POWER SHELL\")\n",
        "print(a)\n",
        "a.discard(\"ROM\") #Doesn't show any error for an item is not presented in list\n",
        "#a.remove(\"RAM\") --Shows error if item is not present\n",
        "print(a)\n",
        "print(b)\n",
        "print(a.clear()) #made set empty\n",
        "print(a)"
      ],
      "metadata": {
        "colab": {
          "base_uri": "https://localhost:8080/"
        },
        "id": "RaD1q8sbN1Oi",
        "outputId": "89182254-1390-4021-e841-ccf620e2012e"
      },
      "execution_count": 11,
      "outputs": [
        {
          "output_type": "stream",
          "name": "stdout",
          "text": [
            "{'C', 'Python', 'France', 'Ruby'}\n",
            "{'O', 'C', 'A', ' ', 'S', 'R', 'H', 'E', 'L', 'France', 'Python', 'N', 'P', 'W', 'D', 'Ruby', 'G', 'J'}\n",
            "{'O', 'C', 'A', ' ', 'S', 'R', 'H', 'E', 'L', 'France', 'Python', 'N', 'P', 'W', 'D', 'Ruby', 'G', 'J'}\n",
            "{'C', 'Python', 'France'}\n",
            "None\n",
            "set()\n"
          ]
        }
      ]
    },
    {
      "cell_type": "code",
      "source": [
        "#Task8:SET operations\n",
        "a = {1, 2, 3}\n",
        "b = {3, 4, 5}\n",
        "\n",
        "print(a.union(b))\n",
        "print(a.intersection(b))\n",
        "print(a.difference(b))\n",
        "print(a.symmetric_difference(b))"
      ],
      "metadata": {
        "colab": {
          "base_uri": "https://localhost:8080/"
        },
        "id": "HgmzsKOJOQNf",
        "outputId": "6165583b-de21-45b6-968e-4e2a2a3f1807"
      },
      "execution_count": 12,
      "outputs": [
        {
          "output_type": "stream",
          "name": "stdout",
          "text": [
            "{1, 2, 3, 4, 5}\n",
            "{3}\n",
            "{1, 2}\n",
            "{1, 2, 4, 5}\n"
          ]
        }
      ]
    },
    {
      "cell_type": "code",
      "source": [
        "# Task 9: Calculator with + - * / % // ** using if elif else\n",
        "\n",
        "a = float(input(\"Enter first number: \"))\n",
        "b = float(input(\"Enter second number: \"))\n",
        "op = input(\"Enter operator (+, -, *, /, %, //, **): \")\n",
        "\n",
        "if op == '+':\n",
        "    print(\"Result:\", a + b)\n",
        "elif op == '-':\n",
        "    print(\"Result:\", a - b)\n",
        "elif op == '*':\n",
        "    print(\"Result:\", a * b)\n",
        "elif op == '/':\n",
        "    if b != 0:\n",
        "        print(\"Result:\", a / b)\n",
        "    else:\n",
        "        print(\"Error: Division by zero!\")\n",
        "elif op == '%':\n",
        "    print(\"Result:\", a % b)\n",
        "elif op == '//':\n",
        "    print(\"Result:\", a // b)\n",
        "elif op == '':\n",
        "    print(\"Result:\", a ** b)\n",
        "else:\n",
        "    print(\"Invalid Operator\")\n"
      ],
      "metadata": {
        "colab": {
          "base_uri": "https://localhost:8080/"
        },
        "id": "I676_wT8OiaT",
        "outputId": "3caf30a7-e878-4b47-b37e-61d9d397bef8"
      },
      "execution_count": 13,
      "outputs": [
        {
          "output_type": "stream",
          "name": "stdout",
          "text": [
            "Enter first number: 22\n",
            "Enter second number: 23\n",
            "Enter operator (+, -, *, /, %, //, **): +\n",
            "Result: 45.0\n"
          ]
        }
      ]
    },
    {
      "cell_type": "code",
      "source": [
        "#Task 10: For loop using tuple, dictionary, set\n",
        "# Tuple\n",
        "my_tuple = (10, 20, 30, 40)\n",
        "print(\"Tuple elements:\")\n",
        "for item in my_tuple:\n",
        "    print(item)\n",
        "\n",
        "# Dictionary\n",
        "my_dict = {\"name\": \"Alice\", \"age\": 22, \"city\": \"Hyderabad\"}\n",
        "print(\"\\nDictionary elements:\")\n",
        "for key, value in my_dict.items():\n",
        "    print(key, \":\", value)\n",
        "\n",
        "# Set\n",
        "my_set = {100, 200, 300, 400}\n",
        "print(\"\\nSet elements:\")\n",
        "for item in my_set:\n",
        "    print(item)"
      ],
      "metadata": {
        "colab": {
          "base_uri": "https://localhost:8080/"
        },
        "id": "Y4m_1CcaOwvM",
        "outputId": "9a8232c8-6052-4930-b33f-341eb4fbba40"
      },
      "execution_count": 14,
      "outputs": [
        {
          "output_type": "stream",
          "name": "stdout",
          "text": [
            "Tuple elements:\n",
            "10\n",
            "20\n",
            "30\n",
            "40\n",
            "\n",
            "Dictionary elements:\n",
            "name : Alice\n",
            "age : 22\n",
            "city : Hyderabad\n",
            "\n",
            "Set elements:\n",
            "200\n",
            "100\n",
            "400\n",
            "300\n"
          ]
        }
      ]
    },
    {
      "cell_type": "code",
      "source": [
        "#task11-Structural Pattern Matching Calculator\n",
        "\n",
        "a = float(input(\"Enter first number: \"))\n",
        "b = float(input(\"Enter second number: \"))\n",
        "op = input(\"Enter operator (+, -, *, /, %, //, **): \")\n",
        "\n",
        "match op:\n",
        "    case '+':\n",
        "        print(\"Result:\", a + b)\n",
        "    case '-':\n",
        "        print(\"Result:\", a - b)\n",
        "    case '*':\n",
        "        print(\"Result:\", a * b)\n",
        "    case '/':\n",
        "        if b != 0:\n",
        "            print(\"Result:\", a / b)\n",
        "        else:\n",
        "            print(\"Error: Division by zero!\")\n",
        "    case '%':\n",
        "        print(\"Result:\", a % b)\n",
        "    case '//':\n",
        "        print(\"Result:\", a // b)\n",
        "    case '':\n",
        "        print(\"Result:\", a ** b)\n",
        "    case _:\n",
        "        print(\"Invalid Operator\")\n"
      ],
      "metadata": {
        "colab": {
          "base_uri": "https://localhost:8080/"
        },
        "id": "b_SfFnm8O7Zi",
        "outputId": "dfba5707-34d3-43a1-b69c-f23b49820fa8"
      },
      "execution_count": 15,
      "outputs": [
        {
          "output_type": "stream",
          "name": "stdout",
          "text": [
            "Enter first number: 23\n",
            "Enter second number: 90\n",
            "Enter operator (+, -, *, /, %, //, **): -\n",
            "Result: -67.0\n"
          ]
        }
      ]
    },
    {
      "cell_type": "code",
      "source": [
        "#task12-write all file concept commands\n",
        "# Writing to a file\n",
        "f = open(\"example.txt\", \"w\")\n",
        "f.write(\"Hello, this is a file write example.\\n\")\n",
        "f.close()\n",
        "\n",
        "# Reading from a file\n",
        "f = open(\"example.txt\", \"r\")\n",
        "print(\"File Content:\\n\", f.read())\n",
        "f.close()\n",
        "\n",
        "# Appending to a file\n",
        "f = open(\"example.txt\", \"a\")\n",
        "f.write(\"This line is appended.\\n\")\n",
        "f.close()\n",
        "\n",
        "# Reading line by line\n",
        "f = open(\"example.txt\", \"r\")\n",
        "for line in f:\n",
        "    print(\"Line:\", line.strip())\n",
        "f.close()\n",
        "\n",
        "# Using with-statement (auto-closes file)\n",
        "with open(\"example.txt\", \"r\") as f:\n",
        "    data = f.read()\n",
        "    print(\"\\nUsing with-statement:\\n\", data)\n"
      ],
      "metadata": {
        "colab": {
          "base_uri": "https://localhost:8080/"
        },
        "id": "eex5pGX7PSAz",
        "outputId": "b0075b97-031c-4e5a-c81e-d711d48b2121"
      },
      "execution_count": 16,
      "outputs": [
        {
          "output_type": "stream",
          "name": "stdout",
          "text": [
            "File Content:\n",
            " Hello, this is a file write example.\n",
            "\n",
            "Line: Hello, this is a file write example.\n",
            "Line: This line is appended.\n",
            "\n",
            "Using with-statement:\n",
            " Hello, this is a file write example.\n",
            "This line is appended.\n",
            "\n"
          ]
        }
      ]
    }
  ]
}