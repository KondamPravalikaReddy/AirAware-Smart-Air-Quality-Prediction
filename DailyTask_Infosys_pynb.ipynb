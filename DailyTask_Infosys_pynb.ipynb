{
  "nbformat": 4,
  "nbformat_minor": 0,
  "metadata": {
    "colab": {
      "provenance": [],
      "authorship_tag": "ABX9TyPqn8W7vFKgknHxWvxnWR15",
      "include_colab_link": true
    },
    "kernelspec": {
      "name": "python3",
      "display_name": "Python 3"
    },
    "language_info": {
      "name": "python"
    }
  },
  "cells": [
    {
      "cell_type": "markdown",
      "metadata": {
        "id": "view-in-github",
        "colab_type": "text"
      },
      "source": [
        "<a href=\"https://colab.research.google.com/github/KondamPravalikaReddy/AirAware-Smart-Air-Quality-Prediction/blob/main/DailyTask_Infosys_pynb.ipynb\" target=\"_parent\"><img src=\"https://colab.research.google.com/assets/colab-badge.svg\" alt=\"Open In Colab\"/></a>"
      ]
    },
    {
      "cell_type": "code",
      "source": [
        "print('Pravalika')"
      ],
      "metadata": {
        "colab": {
          "base_uri": "https://localhost:8080/"
        },
        "id": "JvvzQoctLHE_",
        "outputId": "edc1466b-6542-4bd7-ead8-26d4e16640ea"
      },
      "execution_count": null,
      "outputs": [
        {
          "output_type": "stream",
          "name": "stdout",
          "text": [
            "Pravalika\n"
          ]
        }
      ]
    },
    {
      "cell_type": "code",
      "source": [
        "company='Infosys'\n",
        "age=17\n",
        "Percentage=97.2\n",
        "print(type(age))\n",
        "print(type(company))\n",
        "print(type(Percentage))"
      ],
      "metadata": {
        "colab": {
          "base_uri": "https://localhost:8080/"
        },
        "id": "4Ss_lDtvLr-7",
        "outputId": "58061921-c4fa-4406-c420-be18ccfaef0a"
      },
      "execution_count": null,
      "outputs": [
        {
          "output_type": "stream",
          "name": "stdout",
          "text": [
            "<class 'int'>\n",
            "<class 'str'>\n",
            "<class 'float'>\n"
          ]
        }
      ]
    },
    {
      "cell_type": "code",
      "source": [
        "id(age) #gives address of variable 'age'"
      ],
      "metadata": {
        "colab": {
          "base_uri": "https://localhost:8080/"
        },
        "id": "lbiKVe8zLycn",
        "outputId": "bba7c36d-bb93-424b-b2a2-08ff6ff20f08"
      },
      "execution_count": null,
      "outputs": [
        {
          "output_type": "execute_result",
          "data": {
            "text/plain": [
              "11642600"
            ]
          },
          "metadata": {},
          "execution_count": 3
        }
      ]
    },
    {
      "cell_type": "code",
      "source": [
        "#TASK:1--codes for 1.numeric, 2.integer(Positive,Negative, Binary,Octal,Hexadecimal),3.Float, 4.Boolean(True,False)\n",
        "number=88\n",
        "print(\"Decimal Integer:\" ,number)\n",
        "Positive=24\n",
        "Negative=-4\n",
        "print(\"Positive Integer:\",Positive)\n",
        "print(\"Negative Integer:\",Negative)\n",
        "bin=0b101\n",
        "print(\"Binary: \",bin)\n",
        "Octal=0o5\n",
        "print(\"Octal Number:\",Octal)\n",
        "Hexa=0x2F\n",
        "print(\"Hexadecimal Number:\",Hexa)\n",
        "F=9.78\n",
        "print(\"Float: \",F)\n",
        "Value1=1\n",
        "Value2=0\n",
        "print(\"Hexadecimal Number:\",Hexa)\n",
        "print(\"Boolean True :\",Value1)\n",
        "print(\"Boolean  False :\",Value2)\n",
        "is_bool=89\n",
        "print(bool(is_bool))"
      ],
      "metadata": {
        "colab": {
          "base_uri": "https://localhost:8080/"
        },
        "id": "qVNPs5q5MWpZ",
        "outputId": "64690cc5-a1bb-4c78-af3a-405b6d6c8ecd"
      },
      "execution_count": null,
      "outputs": [
        {
          "output_type": "stream",
          "name": "stdout",
          "text": [
            "Decimal Integer: 88\n",
            "Positive Integer: 24\n",
            "Negative Integer: -4\n",
            "Binary:  5\n",
            "Octal Number: 5\n",
            "Hexadecimal Number: 47\n",
            "Float:  9.78\n",
            "Hexadecimal Number: 47\n",
            "Boolean True : 1\n",
            "Boolean  False : 0\n",
            "True\n"
          ]
        }
      ]
    },
    {
      "cell_type": "code",
      "source": [
        "#Task 2:Code for all Arithmetic Operators(+,-,*,/,//)\n",
        "a = 10\n",
        "b = 3\n",
        "\n",
        "print(\"Addition:\", a + b)\n",
        "print(\"Subtraction:\", a - b)\n",
        "print(\"Multiplication:\", a * b)\n",
        "print(\"Division:\", a / b)\n",
        "print(\"Floor Division:\", a // b)\n",
        "print(\"Modulus:\", a % b)\n",
        "print(\"Exponentiation:\", a ** b)"
      ],
      "metadata": {
        "colab": {
          "base_uri": "https://localhost:8080/"
        },
        "id": "qW3PAk0QMjU9",
        "outputId": "640feeb1-5d8b-4e9d-f6ff-13b90d226050"
      },
      "execution_count": null,
      "outputs": [
        {
          "output_type": "stream",
          "name": "stdout",
          "text": [
            "Addition: 13\n",
            "Subtraction: 7\n",
            "Multiplication: 30\n",
            "Division: 3.3333333333333335\n",
            "Floor Division: 3\n",
            "Modulus: 1\n",
            "Exponentiation: 1000\n"
          ]
        }
      ]
    },
    {
      "cell_type": "code",
      "source": [
        "#Task 3:String Operators\n",
        "str1 = \"Hello\"\n",
        "str2 = \"World\"\n",
        "\n",
        "# 1. Concatenation [+]\n",
        "print(\"Concatenation:\", str1 + \" \" + str2)\n",
        "\n",
        "# 2. Repetition [*]\n",
        "print(\"Repetition:\", str1 * 3)\n",
        "\n",
        "# 3. Slice []\n",
        "print(\"Slice:\", str1[1])\n",
        "\n",
        "# 4. Range Slice [:]\n",
        "print(\"Range Slice:\", str1[1:4])\n",
        "\n",
        "# 5. In Membership [in]\n",
        "print(\"In Membership:\", \"H\" in str1)\n",
        "\n",
        "# 6. Not in Membership [not in]\n",
        "print(\"Not in Membership:\", \"z\" not in str1)"
      ],
      "metadata": {
        "colab": {
          "base_uri": "https://localhost:8080/"
        },
        "id": "DmRGDeOZMwHc",
        "outputId": "33fbb30e-dd16-4a3d-c6c8-9390adbec4c7"
      },
      "execution_count": null,
      "outputs": [
        {
          "output_type": "stream",
          "name": "stdout",
          "text": [
            "Concatenation: Hello World\n",
            "Repetition: HelloHelloHello\n",
            "Slice: e\n",
            "Range Slice: ell\n",
            "In Membership: True\n",
            "Not in Membership: True\n"
          ]
        }
      ]
    },
    {
      "cell_type": "code",
      "source": [
        "#Task4:Write a code to create google form which has all data types using input command-giving user input at runtime.\n",
        "name = input(\"Enter your name: \")\n",
        "age = int(input(\"Enter your age: \"))\n",
        "marks = float(input(\"Enter your marks: \"))\n",
        "is_student = input(\"Are you a student? (yes/no): \")\n",
        "\n",
        "# Output with different methods\n",
        "print(\"Name:\", name, \"Age:\", age, \"Marks:\", marks, \"Student:\", is_student)\n",
        "print(\"Name: \" + name + \" Age: \" + str(age))\n",
        "print(\"Marks: %0.2f\" % marks)\n",
        "print(\"Student: {} Age: {}\".format(is_student, age))\n",
        "print(f\"Name: {name} Age: {age}\")"
      ],
      "metadata": {
        "colab": {
          "base_uri": "https://localhost:8080/"
        },
        "id": "28FFs-s7M-ZN",
        "outputId": "6f12ea28-437c-4043-850d-f65494975f98"
      },
      "execution_count": null,
      "outputs": [
        {
          "output_type": "stream",
          "name": "stdout",
          "text": [
            "Enter your name: SONY\n",
            "Enter your age: 20\n",
            "Enter your marks: 98\n",
            "Are you a student? (yes/no): YES\n",
            "Name: SONY Age: 20 Marks: 98.0 Student: YES\n",
            "Name: SONY Age: 20\n",
            "Marks: 98.00\n",
            "Student: YES Age: 20\n",
            "Name: SONY Age: 20\n"
          ]
        }
      ]
    },
    {
      "cell_type": "code",
      "source": [
        "#Task5: Functions Manupulating Lists only\n",
        "Data=['MANI','Male','5.9']\n",
        "#max(Data)\n",
        "#min(Data)\n",
        "print(max(Data))\n",
        "print(min(Data))\n",
        "Data.append('RAJU') #Adds at end of the list\n",
        "print(Data)\n",
        "Data.insert(1,'REDDY') #insert according to index position\n",
        "print(Data)\n",
        "Data.pop() #Removes last element\n",
        "print(Data)\n",
        "print(Data[2]) #Accessing through Index\n",
        "Data[2:6] #Range Slicing\n",
        "Data.remove(\"5.9\") #Removes the element from the list\n",
        "print(Data)\n",
        "print(Data.count('35')) #Counts the repetition\n",
        "print(Data.index('Male')) #Index position of an element"
      ],
      "metadata": {
        "colab": {
          "base_uri": "https://localhost:8080/"
        },
        "id": "LsOLo9OfNMXM",
        "outputId": "2ac4d1b2-0d21-4f9d-c2ca-6f269d1059f9"
      },
      "execution_count": null,
      "outputs": [
        {
          "output_type": "stream",
          "name": "stdout",
          "text": [
            "Male\n",
            "5.9\n",
            "['MANI', 'Male', '5.9', 'RAJU']\n",
            "['MANI', 'REDDY', 'Male', '5.9', 'RAJU']\n",
            "['MANI', 'REDDY', 'Male', '5.9']\n",
            "Male\n",
            "['MANI', 'REDDY', 'Male']\n",
            "0\n",
            "2\n"
          ]
        }
      ]
    },
    {
      "cell_type": "code",
      "source": [
        "#Task6: Builtin Functions for DICTIONARY\n",
        "d = {'x': 1, 'y': 2}\n",
        "print(d.keys())\n",
        "print(d.values())\n",
        "print(d.items())"
      ],
      "metadata": {
        "colab": {
          "base_uri": "https://localhost:8080/"
        },
        "id": "dD0qd2EDNujU",
        "outputId": "329dac99-75cf-490b-b751-566e3b0ec377"
      },
      "execution_count": null,
      "outputs": [
        {
          "output_type": "stream",
          "name": "stdout",
          "text": [
            "dict_keys(['x', 'y'])\n",
            "dict_values([1, 2])\n",
            "dict_items([('x', 1), ('y', 2)])\n"
          ]
        }
      ]
    },
    {
      "cell_type": "code",
      "source": [
        "#Task7: Functions to modify set\n",
        "a={\"C\",\"France\",\"Python\"}\n",
        "b=a.copy()\n",
        "a.add(\"Ruby\")\n",
        "print(a)\n",
        "a.update(\"DJANGO\",\"POWER SHELL\")\n",
        "print(a)\n",
        "a.discard(\"ROM\") #Doesn't show any error for an item is not presented in list\n",
        "#a.remove(\"RAM\") --Shows error if item is not present\n",
        "print(a)\n",
        "print(b)\n",
        "print(a.clear()) #made set empty\n",
        "print(a)"
      ],
      "metadata": {
        "colab": {
          "base_uri": "https://localhost:8080/"
        },
        "id": "RaD1q8sbN1Oi",
        "outputId": "89182254-1390-4021-e841-ccf620e2012e"
      },
      "execution_count": null,
      "outputs": [
        {
          "output_type": "stream",
          "name": "stdout",
          "text": [
            "{'C', 'Python', 'France', 'Ruby'}\n",
            "{'O', 'C', 'A', ' ', 'S', 'R', 'H', 'E', 'L', 'France', 'Python', 'N', 'P', 'W', 'D', 'Ruby', 'G', 'J'}\n",
            "{'O', 'C', 'A', ' ', 'S', 'R', 'H', 'E', 'L', 'France', 'Python', 'N', 'P', 'W', 'D', 'Ruby', 'G', 'J'}\n",
            "{'C', 'Python', 'France'}\n",
            "None\n",
            "set()\n"
          ]
        }
      ]
    },
    {
      "cell_type": "code",
      "source": [
        "#Task8:SET operations\n",
        "a = {1, 2, 3}\n",
        "b = {3, 4, 5}\n",
        "\n",
        "print(a.union(b))\n",
        "print(a.intersection(b))\n",
        "print(a.difference(b))\n",
        "print(a.symmetric_difference(b))"
      ],
      "metadata": {
        "colab": {
          "base_uri": "https://localhost:8080/"
        },
        "id": "HgmzsKOJOQNf",
        "outputId": "6165583b-de21-45b6-968e-4e2a2a3f1807"
      },
      "execution_count": null,
      "outputs": [
        {
          "output_type": "stream",
          "name": "stdout",
          "text": [
            "{1, 2, 3, 4, 5}\n",
            "{3}\n",
            "{1, 2}\n",
            "{1, 2, 4, 5}\n"
          ]
        }
      ]
    },
    {
      "cell_type": "code",
      "source": [
        "# Task 9: Calculator with + - * / % // ** using if elif else\n",
        "\n",
        "a = float(input(\"Enter first number: \"))\n",
        "b = float(input(\"Enter second number: \"))\n",
        "op = input(\"Enter operator (+, -, *, /, %, //, **): \")\n",
        "\n",
        "if op == '+':\n",
        "    print(\"Result:\", a + b)\n",
        "elif op == '-':\n",
        "    print(\"Result:\", a - b)\n",
        "elif op == '*':\n",
        "    print(\"Result:\", a * b)\n",
        "elif op == '/':\n",
        "    if b != 0:\n",
        "        print(\"Result:\", a / b)\n",
        "    else:\n",
        "        print(\"Error: Division by zero!\")\n",
        "elif op == '%':\n",
        "    print(\"Result:\", a % b)\n",
        "elif op == '//':\n",
        "    print(\"Result:\", a // b)\n",
        "elif op == '':\n",
        "    print(\"Result:\", a ** b)\n",
        "else:\n",
        "    print(\"Invalid Operator\")\n"
      ],
      "metadata": {
        "colab": {
          "base_uri": "https://localhost:8080/"
        },
        "id": "I676_wT8OiaT",
        "outputId": "3caf30a7-e878-4b47-b37e-61d9d397bef8"
      },
      "execution_count": null,
      "outputs": [
        {
          "output_type": "stream",
          "name": "stdout",
          "text": [
            "Enter first number: 22\n",
            "Enter second number: 23\n",
            "Enter operator (+, -, *, /, %, //, **): +\n",
            "Result: 45.0\n"
          ]
        }
      ]
    },
    {
      "cell_type": "code",
      "source": [
        "#Task 10: For loop using tuple, dictionary, set\n",
        "# Tuple\n",
        "my_tuple = (10, 20, 30, 40)\n",
        "print(\"Tuple elements:\")\n",
        "for item in my_tuple:\n",
        "    print(item)\n",
        "\n",
        "# Dictionary\n",
        "my_dict = {\"name\": \"Alice\", \"age\": 22, \"city\": \"Hyderabad\"}\n",
        "print(\"\\nDictionary elements:\")\n",
        "for key, value in my_dict.items():\n",
        "    print(key, \":\", value)\n",
        "\n",
        "# Set\n",
        "my_set = {100, 200, 300, 400}\n",
        "print(\"\\nSet elements:\")\n",
        "for item in my_set:\n",
        "    print(item)"
      ],
      "metadata": {
        "colab": {
          "base_uri": "https://localhost:8080/"
        },
        "id": "Y4m_1CcaOwvM",
        "outputId": "9a8232c8-6052-4930-b33f-341eb4fbba40"
      },
      "execution_count": null,
      "outputs": [
        {
          "output_type": "stream",
          "name": "stdout",
          "text": [
            "Tuple elements:\n",
            "10\n",
            "20\n",
            "30\n",
            "40\n",
            "\n",
            "Dictionary elements:\n",
            "name : Alice\n",
            "age : 22\n",
            "city : Hyderabad\n",
            "\n",
            "Set elements:\n",
            "200\n",
            "100\n",
            "400\n",
            "300\n"
          ]
        }
      ]
    },
    {
      "cell_type": "code",
      "source": [
        "#task11-Structural Pattern Matching Calculator\n",
        "\n",
        "a = float(input(\"Enter first number: \"))\n",
        "b = float(input(\"Enter second number: \"))\n",
        "op = input(\"Enter operator (+, -, *, /, %, //, **): \")\n",
        "\n",
        "match op:\n",
        "    case '+':\n",
        "        print(\"Result:\", a + b)\n",
        "    case '-':\n",
        "        print(\"Result:\", a - b)\n",
        "    case '*':\n",
        "        print(\"Result:\", a * b)\n",
        "    case '/':\n",
        "        if b != 0:\n",
        "            print(\"Result:\", a / b)\n",
        "        else:\n",
        "            print(\"Error: Division by zero!\")\n",
        "    case '%':\n",
        "        print(\"Result:\", a % b)\n",
        "    case '//':\n",
        "        print(\"Result:\", a // b)\n",
        "    case '':\n",
        "        print(\"Result:\", a ** b)\n",
        "    case _:\n",
        "        print(\"Invalid Operator\")\n"
      ],
      "metadata": {
        "colab": {
          "base_uri": "https://localhost:8080/"
        },
        "id": "b_SfFnm8O7Zi",
        "outputId": "dfba5707-34d3-43a1-b69c-f23b49820fa8"
      },
      "execution_count": null,
      "outputs": [
        {
          "output_type": "stream",
          "name": "stdout",
          "text": [
            "Enter first number: 23\n",
            "Enter second number: 90\n",
            "Enter operator (+, -, *, /, %, //, **): -\n",
            "Result: -67.0\n"
          ]
        }
      ]
    },
    {
      "cell_type": "code",
      "source": [
        "#task12-write all file concept commands\n",
        "# Writing to a file\n",
        "f = open(\"example.txt\", \"w\")\n",
        "f.write(\"Hello, this is a file write example.\\n\")\n",
        "f.close()\n",
        "\n",
        "# Reading from a file\n",
        "f = open(\"example.txt\", \"r\")\n",
        "print(\"File Content:\\n\", f.read())\n",
        "f.close()\n",
        "\n",
        "# Appending to a file\n",
        "f = open(\"example.txt\", \"a\")\n",
        "f.write(\"This line is appended.\\n\")\n",
        "f.close()\n",
        "\n",
        "# Reading line by line\n",
        "f = open(\"example.txt\", \"r\")\n",
        "for line in f:\n",
        "    print(\"Line:\", line.strip())\n",
        "f.close()\n",
        "\n",
        "# Using with-statement (auto-closes file)\n",
        "with open(\"example.txt\", \"r\") as f:\n",
        "    data = f.read()\n",
        "    print(\"\\nUsing with-statement:\\n\", data)\n"
      ],
      "metadata": {
        "colab": {
          "base_uri": "https://localhost:8080/"
        },
        "id": "eex5pGX7PSAz",
        "outputId": "b0075b97-031c-4e5a-c81e-d711d48b2121"
      },
      "execution_count": null,
      "outputs": [
        {
          "output_type": "stream",
          "name": "stdout",
          "text": [
            "File Content:\n",
            " Hello, this is a file write example.\n",
            "\n",
            "Line: Hello, this is a file write example.\n",
            "Line: This line is appended.\n",
            "\n",
            "Using with-statement:\n",
            " Hello, this is a file write example.\n",
            "This line is appended.\n",
            "\n"
          ]
        }
      ]
    },
    {
      "cell_type": "code",
      "source": [
        "# Import sqlite3 module\n",
        "import sqlite3"
      ],
      "metadata": {
        "id": "Al8UK6k3QUS9"
      },
      "execution_count": null,
      "outputs": []
    },
    {
      "cell_type": "code",
      "source": [
        "# Create connection to a local database file in Colab\n",
        "connection = sqlite3.connect('hotel_data.db')"
      ],
      "metadata": {
        "id": "xBVjDl2jQjCp"
      },
      "execution_count": null,
      "outputs": []
    },
    {
      "cell_type": "code",
      "source": [
        "# Create table (only if not exists to avoid errors on rerun)\n",
        "connection.execute('''\n",
        "CREATE TABLE IF NOT EXISTS hotel (\n",
        "    FIND INTEGER PRIMARY KEY NOT NULL,\n",
        "    FNAME TEXT NOT NULL,\n",
        "    COST INTEGER NOT NULL,\n",
        "    WEIGHT INTEGER\n",
        ");\n",
        "''')"
      ],
      "metadata": {
        "colab": {
          "base_uri": "https://localhost:8080/"
        },
        "id": "6yc8iNcZQmb5",
        "outputId": "4854df90-6107-4e73-be75-c458fe17ea5e"
      },
      "execution_count": null,
      "outputs": [
        {
          "output_type": "execute_result",
          "data": {
            "text/plain": [
              "<sqlite3.Cursor at 0x783c04578ec0>"
            ]
          },
          "metadata": {},
          "execution_count": 19
        }
      ]
    },
    {
      "cell_type": "code",
      "source": [
        "# Insert data into the table\n",
        "connection.execute(\"INSERT INTO hotel VALUES (1, 'cakes', 800, 10)\")\n",
        "connection.execute(\"INSERT INTO hotel VALUES (2, 'biscuits', 100, 20)\")\n",
        "connection.execute(\"INSERT INTO hotel VALUES (3, 'chocos', 1000, 30)\")"
      ],
      "metadata": {
        "colab": {
          "base_uri": "https://localhost:8080/"
        },
        "id": "B91muxi5Qv-9",
        "outputId": "1c2558b1-eeeb-43cc-f9c2-34eca0546b5f"
      },
      "execution_count": null,
      "outputs": [
        {
          "output_type": "execute_result",
          "data": {
            "text/plain": [
              "<sqlite3.Cursor at 0x783c04579040>"
            ]
          },
          "metadata": {},
          "execution_count": 20
        }
      ]
    },
    {
      "cell_type": "code",
      "source": [
        "# Commit changes to save data\n",
        "connection.commit()\n",
        "\n",
        "print(\"All data in hotel table:\\n\")"
      ],
      "metadata": {
        "colab": {
          "base_uri": "https://localhost:8080/"
        },
        "id": "nu8ldW3yQ0CW",
        "outputId": "c55db9f9-9770-4397-821b-97cd1c8e8267"
      },
      "execution_count": null,
      "outputs": [
        {
          "output_type": "stream",
          "name": "stdout",
          "text": [
            "All data in hotel table:\n",
            "\n"
          ]
        }
      ]
    },
    {
      "cell_type": "code",
      "source": [
        "# Clear old data to avoid duplicate key errors\n",
        "connection.execute(\"DELETE FROM hotel\")"
      ],
      "metadata": {
        "colab": {
          "base_uri": "https://localhost:8080/"
        },
        "id": "X3VEmyGaRGy1",
        "outputId": "fbe68369-9d4a-4e85-f548-60aa2e0a5ac8"
      },
      "execution_count": null,
      "outputs": [
        {
          "output_type": "execute_result",
          "data": {
            "text/plain": [
              "<sqlite3.Cursor at 0x783c045790c0>"
            ]
          },
          "metadata": {},
          "execution_count": 23
        }
      ]
    },
    {
      "cell_type": "code",
      "source": [
        "# Insert new rows\n",
        "connection.execute(\"INSERT INTO hotel VALUES (1, 'cakes', 800, 10)\")\n",
        "connection.execute(\"INSERT INTO hotel VALUES (2, 'biscuits', 100, 20)\")\n",
        "connection.execute(\"INSERT INTO hotel VALUES (3, 'chocos', 1000, 30)\")"
      ],
      "metadata": {
        "colab": {
          "base_uri": "https://localhost:8080/"
        },
        "id": "ytpaHjjZRKZB",
        "outputId": "4191f3f8-e49e-48de-fc3c-7000d5ac1e3d"
      },
      "execution_count": null,
      "outputs": [
        {
          "output_type": "execute_result",
          "data": {
            "text/plain": [
              "<sqlite3.Cursor at 0x783c045791c0>"
            ]
          },
          "metadata": {},
          "execution_count": 24
        }
      ]
    },
    {
      "cell_type": "code",
      "source": [
        "# Save the data\n",
        "connection.commit()\n",
        "connection.close()\n",
        "\n",
        "print(\"✅ Data inserted successfully!\")"
      ],
      "metadata": {
        "colab": {
          "base_uri": "https://localhost:8080/"
        },
        "id": "SpZio9IMRljn",
        "outputId": "8e3e8ff5-87b0-4fd2-89b8-befc8b1f9c69"
      },
      "execution_count": null,
      "outputs": [
        {
          "output_type": "stream",
          "name": "stdout",
          "text": [
            "✅ Data inserted successfully!\n"
          ]
        }
      ]
    },
    {
      "cell_type": "code",
      "source": [
        "import sqlite3\n",
        "\n",
        "connection = sqlite3.connect('/content/hotel_data.db')\n",
        "\n",
        "print(\"All data in hotel table:\\n\")\n",
        "\n",
        "cursor = connection.execute(\"SELECT * FROM hotel\")\n",
        "\n",
        "rows = cursor.fetchall()\n",
        "\n",
        "if not rows:\n",
        "    print(\"⚠️ No data found in table!\")\n",
        "else:\n",
        "    for row in rows:\n",
        "        print(row)\n",
        "\n",
        "connection.close()\n"
      ],
      "metadata": {
        "colab": {
          "base_uri": "https://localhost:8080/"
        },
        "id": "GnNCwm2NRq-b",
        "outputId": "fec83f63-a01f-4e42-9380-cd6c68e53831"
      },
      "execution_count": null,
      "outputs": [
        {
          "output_type": "stream",
          "name": "stdout",
          "text": [
            "All data in hotel table:\n",
            "\n",
            "(1, 'cakes', 800, 10)\n",
            "(2, 'biscuits', 100, 20)\n",
            "(3, 'chocos', 1000, 30)\n"
          ]
        }
      ]
    },
    {
      "cell_type": "code",
      "source": [
        "# Create table (only if not exists to avoid errors on rerun)\n",
        "MySchool.execute('''\n",
        "CREATE TABLE IF NOT EXISTS student2 (\n",
        "    id INTEGER PRIMARY KEY NOT NULL,\n",
        "    name TEXT NOT NULL,\n",
        "    marks REAL\n",
        ");\n",
        "''')\n",
        "\n",
        "# Insert some initial data (optional, but helpful for testing the update)\n",
        "MySchool.execute(\"INSERT INTO student2 (name, marks) VALUES ('sony', 95.5)\")\n",
        "MySchool.execute(\"INSERT INTO student2 (name, marks) VALUES ('john', 88.0)\")\n",
        "MySchool.execute(\"INSERT INTO student2 (name, marks) VALUES ('jane', 76.2)\")\n",
        "\n",
        "MySchool.commit()\n",
        "print(\"Table 'student2' created and initial data inserted.\")"
      ],
      "metadata": {
        "colab": {
          "base_uri": "https://localhost:8080/"
        },
        "id": "ZRPdFnuUUB1m",
        "outputId": "f1474ff2-77f9-4be1-8870-9eaec0d06190"
      },
      "execution_count": null,
      "outputs": [
        {
          "output_type": "stream",
          "name": "stdout",
          "text": [
            "Table 'student2' created and initial data inserted.\n"
          ]
        }
      ]
    },
    {
      "cell_type": "code",
      "source": [
        "#UPDATING RECORD : Updating a Record - Example\n",
        "\n",
        "import sqlite3\n",
        "\n",
        "MySchool=sqlite3.connect('schoolweekend.db')\n",
        "\n",
        "#take input of the name\n",
        "\n",
        "nm=input(\"enter name: \")   # displays a record connected to a name that will be input by a user.\n",
        "\n",
        "#create a string of select query to fetch the record\n",
        "\n",
        "sql=\"SELECT * from student2 WHERE name='\"+nm+\"';\"\n",
        "\n",
        "#executing query\n",
        "\n",
        "curschool=MySchool.cursor()\n",
        "\n",
        "curschool.execute(sql)\n",
        "\n",
        "record=curschool.fetchone()\n",
        "\n",
        "print (record)\n",
        "\n",
        "#another input is accepted from the user as a replacement value for marks field. It is used to update the\n",
        "\n",
        "    #corresponding record in the student table.\n",
        "\n",
        "#Then run & marks gets updated.\n",
        "\n",
        "m=float(input(\"enter new marks: \"))\n",
        "\n",
        "sql=\"UPDATE student2 SET marks='\"+str(m)+\"' WHERE name='\"+nm+\"';\"\n",
        "\n",
        "try:\n",
        "\n",
        "    curschool.execute(sql)\n",
        "\n",
        "    MySchool.commit()\n",
        "\n",
        "    print (\"record updated successfully\")\n",
        "\n",
        "except:\n",
        "\n",
        "    print (\"error in update operation\")\n",
        "\n",
        "    MySchool.rollback()\n",
        "\n"
      ],
      "metadata": {
        "colab": {
          "base_uri": "https://localhost:8080/"
        },
        "id": "OB2exY9CSmRr",
        "outputId": "abaa0d2b-44cf-4cbe-9fac-d2753f388435"
      },
      "execution_count": null,
      "outputs": [
        {
          "output_type": "stream",
          "name": "stdout",
          "text": [
            "enter name: sony\n",
            "(1, 'sony', 95.5)\n",
            "enter new marks: 56\n",
            "record updated successfully\n"
          ]
        }
      ]
    },
    {
      "cell_type": "code",
      "source": [
        "#Deleting a Record\n",
        "\n",
        "import sqlite3\n",
        "\n",
        "MySchool=sqlite3.connect('anand.db')\n",
        "\n",
        "#accepting a name and retrieving the corresponding record\n",
        "\n",
        "nm=input(\"enter name: \")\n",
        "\n",
        "sql=\"SELECT * from student2 WHERE name='\"+nm+\"';\"\n",
        "\n",
        "curschool=MySchool.cursor()\n",
        "\n",
        "curschool.execute(sql)\n",
        "\n",
        "record=curschool.fetchone()\n",
        "\n",
        "print (record)\n",
        "\n",
        "#deleting the retrieved record\n",
        "\n",
        "res=input(\"do you want to delete this record?(Y/N): \")\n",
        "\n",
        "sql=\"DELETE FROM student2 WHERE name='\"+nm+\"';\"\n",
        "\n",
        "if res=='Y':\n",
        "\n",
        "    try:\n",
        "\n",
        "        curschool.execute(sql)\n",
        "\n",
        "        MySchool.commit()\n",
        "\n",
        "        print (\"record deleted successfully\")\n",
        "\n",
        "    except:\n",
        "\n",
        "        print (\"error in update operation\")\n",
        "\n",
        "        MySchool.rollback()\n",
        "\n",
        "MySchool.close()\n",
        "\n"
      ],
      "metadata": {
        "colab": {
          "base_uri": "https://localhost:8080/"
        },
        "id": "9YXCZon6T1Q1",
        "outputId": "e5d389e8-d3e4-4903-fc4b-c5462b24c5ec"
      },
      "execution_count": null,
      "outputs": [
        {
          "name": "stdout",
          "output_type": "stream",
          "text": [
            "enter name: sony\n",
            "(1, 'sony', 95.5)\n",
            "do you want to delete this record?(Y/N): y\n"
          ]
        }
      ]
    },
    {
      "cell_type": "code",
      "source": [
        "# ---------- MATPLOTLIB USAGE-------------------"
      ],
      "metadata": {
        "id": "sQLsqB2XgyOI"
      },
      "execution_count": null,
      "outputs": []
    },
    {
      "cell_type": "code",
      "source": [
        "!pip install matplotlib"
      ],
      "metadata": {
        "colab": {
          "base_uri": "https://localhost:8080/"
        },
        "id": "fRs35xy2fdNZ",
        "outputId": "43c3b8ab-74d2-43c7-d709-16ead68986f6"
      },
      "execution_count": null,
      "outputs": [
        {
          "output_type": "stream",
          "name": "stdout",
          "text": [
            "Requirement already satisfied: matplotlib in /usr/local/lib/python3.12/dist-packages (3.10.0)\n",
            "Requirement already satisfied: contourpy>=1.0.1 in /usr/local/lib/python3.12/dist-packages (from matplotlib) (1.3.3)\n",
            "Requirement already satisfied: cycler>=0.10 in /usr/local/lib/python3.12/dist-packages (from matplotlib) (0.12.1)\n",
            "Requirement already satisfied: fonttools>=4.22.0 in /usr/local/lib/python3.12/dist-packages (from matplotlib) (4.60.1)\n",
            "Requirement already satisfied: kiwisolver>=1.3.1 in /usr/local/lib/python3.12/dist-packages (from matplotlib) (1.4.9)\n",
            "Requirement already satisfied: numpy>=1.23 in /usr/local/lib/python3.12/dist-packages (from matplotlib) (2.0.2)\n",
            "Requirement already satisfied: packaging>=20.0 in /usr/local/lib/python3.12/dist-packages (from matplotlib) (25.0)\n",
            "Requirement already satisfied: pillow>=8 in /usr/local/lib/python3.12/dist-packages (from matplotlib) (11.3.0)\n",
            "Requirement already satisfied: pyparsing>=2.3.1 in /usr/local/lib/python3.12/dist-packages (from matplotlib) (3.2.5)\n",
            "Requirement already satisfied: python-dateutil>=2.7 in /usr/local/lib/python3.12/dist-packages (from matplotlib) (2.9.0.post0)\n",
            "Requirement already satisfied: six>=1.5 in /usr/local/lib/python3.12/dist-packages (from python-dateutil>=2.7->matplotlib) (1.17.0)\n"
          ]
        }
      ]
    },
    {
      "cell_type": "code",
      "source": [
        "#1.Simple linear plot\n",
        "\n",
        "import matplotlib\n",
        "\n",
        "# Use a backend compatible with Colab\n",
        "matplotlib.use('module://ipykernel.pylab.backend_inline')\n",
        "\n",
        "import matplotlib.pyplot as plt    #from matplotlib import pyplot as plt\n",
        "\n",
        "plt.plot(range(10))   #matplotlib.pyplot.plot\n",
        "\n",
        "#[<matplotlib.lines.Line2D object at 0x0000012F96C69A00>]\n",
        "\n",
        "plt.show()"
      ],
      "metadata": {
        "colab": {
          "base_uri": "https://localhost:8080/",
          "height": 430
        },
        "id": "q4L1rsWwg6aX",
        "outputId": "217e1703-a042-476d-c22a-6616ff0d1b30"
      },
      "execution_count": null,
      "outputs": [
        {
          "output_type": "display_data",
          "data": {
            "text/plain": [
              "<Figure size 640x480 with 1 Axes>"
            ],
            "image/png": "[encoded data removed]"
          },
          "metadata": {}
        }
      ]
    },
    {
      "cell_type": "code",
      "source": [
        "#Pie Chart - A pie chart is a circular chart divided into sectors, each representing a proportion of the whole. They are commonly used to show relative proportions of a set of values or to compare parts of a whole. Pie charts are easy to read and provide a quick visual summary of the data.\n",
        "\n",
        "import matplotlib.pyplot as plt\n",
        "\n",
        "x = ['Apples', 'Bananas', 'Oranges']\n",
        "\n",
        "y = [15, 20, 25]\n",
        "\n",
        "plt.pie(y, labels=x)\n",
        "\n",
        "plt.title('Simple Pie Chart')\n",
        "\n",
        "plt.show()\n"
      ],
      "metadata": {
        "colab": {
          "base_uri": "https://localhost:8080/",
          "height": 428
        },
        "id": "GN4Xqd9pjOoh",
        "outputId": "f14d58d6-cd04-48ea-e418-4f52c528303e"
      },
      "execution_count": null,
      "outputs": [
        {
          "output_type": "display_data",
          "data": {
            "text/plain": [
              "<Figure size 640x480 with 1 Axes>"
            ],
            "image/png": "[encoded data removed]"
          },
          "metadata": {}
        }
      ]
    },
    {
      "cell_type": "code",
      "source": [
        "#Pie Chart - A pie chart is a circular chart divided into sectors, each representing a proportion of the whole. They are commonly used to show relative proportions of a set of values or to compare parts of a whole. Pie charts are easy to read and provide a quick visual summary of the data.\n",
        "\n",
        "import matplotlib.pyplot as plt\n",
        "\n",
        "x = ['Apples', 'Bananas', 'Oranges']\n",
        "\n",
        "y = [15, 20, 25]\n",
        "\n",
        "plt.bar(x, height=y, label=x)\n",
        "\n",
        "plt.title('Simple bar chart')\n",
        "\n",
        "plt.show()"
      ],
      "metadata": {
        "colab": {
          "base_uri": "https://localhost:8080/",
          "height": 452
        },
        "id": "9uCdVJkWjSae",
        "outputId": "ff801ebe-c35d-4bf2-9131-65d1fd1fadd0"
      },
      "execution_count": null,
      "outputs": [
        {
          "output_type": "display_data",
          "data": {
            "text/plain": [
              "<Figure size 640x480 with 1 Axes>"
            ],
            "image/png": "[encoded data removed]"
          },
          "metadata": {}
        }
      ]
    },
    {
      "cell_type": "code",
      "source": [
        "#Pie Chart - A pie chart is a circular chart divided into sectors, each representing a proportion of the whole. They are commonly used to show relative proportions of a set of values or to compare parts of a whole. Pie charts are easy to read and provide a quick visual summary of the data.\n",
        "\n",
        "import matplotlib.pyplot as plt\n",
        "\n",
        "x = ['Apples', 'Bananas', 'Oranges']\n",
        "\n",
        "y = [15, 20, 25]\n",
        "\n",
        "plt.plot(x, y)\n",
        "\n",
        "plt.title('Simple Line Chart')\n",
        "\n",
        "plt.show()"
      ],
      "metadata": {
        "colab": {
          "base_uri": "https://localhost:8080/",
          "height": 452
        },
        "id": "nlp0vYSPjkon",
        "outputId": "3d79d416-2668-4ef0-e1ce-dc2cb2859eb4"
      },
      "execution_count": null,
      "outputs": [
        {
          "output_type": "display_data",
          "data": {
            "text/plain": [
              "<Figure size 640x480 with 1 Axes>"
            ],
            "image/png": "[encoded data removed]"
          },
          "metadata": {}
        }
      ]
    },
    {
      "cell_type": "code",
      "source": [
        "#TYPES OF ML\n",
        "\n",
        "#1. Supervised Learning\n",
        "\n",
        "#Goal: Learn from labeled data.\n",
        "\n",
        "#Types & Algorithms:\n",
        "\n",
        "#Regression =  Linear, SVR, Random Forest, XGBoost\n",
        "\n",
        "#Classification → Logistic, KNN, SVM, Decision Tree, Naive Bayes\n",
        "\n",
        "#2. Unsupervised Learning\n",
        "\n",
        "#Goal: Find patterns in unlabeled data.\n",
        "\n",
        "#Types & Algorithms:\n",
        "\n",
        "#Clustering = K-Means, Hierarchical, DBSCAN\n",
        "\n",
        "#3. Semi-Supervised Learning\n",
        "\n",
        "#Goal: Small labeled + large unlabeled data.\n",
        "\n",
        "#Algorithms: Label Propagation, Semi-Supervised SVM\n",
        "\n",
        "#4. Reinforcement Learning\n",
        "\n",
        "#Goal: Learn by rewards/penalties.\n",
        "\n",
        "#Algorithms: Q-Learning, DQN, Policy Gradient, Actor-Critic\n",
        "\n",
        "#5. Ensemble & Deep Learning\n",
        "\n",
        "#Ensemble: Random Forest, AdaBoost, XGBoost\n",
        "\n",
        "#Deep Learning: CNN (images), RNN (sequences), Transformers (NLP), GANs (generation)"
      ],
      "metadata": {
        "id": "Vg5R36ejC-vl"
      },
      "execution_count": null,
      "outputs": []
    },
    {
      "cell_type": "code",
      "source": [
        "#Different Catagories ML used:\n",
        "\n",
        "#1. Supervised Learning\n",
        "\n",
        "#Goal: Learn from labeled data\n",
        "\n",
        "#Use: Predict prices, detect spam, classify diseases\n",
        "\n",
        "#Algorithms: Linear/Logistic Regression, Decision Trees, SVM, KNN\n",
        "\n",
        "#2. Unsupervised Learning\n",
        "\n",
        "#Goal: Find patterns in unlabeled data\n",
        "\n",
        "#Use: Customer segmentation, anomaly detection, data clustering\n",
        "\n",
        "#Algorithms: K-Means, Hierarchical Clustering, PCA\n",
        "\n",
        "#3. Reinforcement Learning\n",
        "\n",
        "#Goal: Learn by trial & error using rewards\n",
        "\n",
        "#Use: Game AI, robotics, recommendation systems\n",
        "\n",
        "#Algorithms: Q-Learning, Deep Q-Networks\n",
        "\n",
        "#4. Semi-Supervised Learning\n",
        "\n",
        "#Goal: Use small labeled + large unlabeled data\n",
        "\n",
        "#Use: Web content classification, medical data analysis"
      ],
      "metadata": {
        "id": "ysiJLRQOEAMO"
      },
      "execution_count": null,
      "outputs": []
    },
    {
      "cell_type": "code",
      "source": [
        "# ====================================================================================================================================================="
      ],
      "metadata": {
        "id": "7CtPuEjm1MVS"
      },
      "execution_count": null,
      "outputs": []
    },
    {
      "cell_type": "code",
      "execution_count": 15,
      "metadata": {
        "id": "OyWCYUoFlo1F"
      },
      "outputs": [],
      "source": [
        "# Install & Setup Kaggle API\n",
        "!pip install kaggle -q"
      ]
    },
    {
      "cell_type": "code",
      "source": [
        "# Upload kaggle.json (from your Kaggle account → API → Create New Token)\n",
        "from google.colab import files\n",
        "files.upload()   # Upload kaggle.json here"
      ],
      "metadata": {
        "colab": {
          "base_uri": "https://localhost:8080/",
          "height": 90
        },
        "id": "00vhdzornq1h",
        "outputId": "fcc00ba5-a319-467a-9f65-dc5303841d63"
      },
      "execution_count": 16,
      "outputs": [
        {
          "output_type": "display_data",
          "data": {
            "text/plain": [
              "<IPython.core.display.HTML object>"
            ],
            "text/html": [
              "\n",
              "     <input type=\"file\" id=\"files-8083b9f1-ee52-4cea-9742-cfa58f3b6c3e\" name=\"files[]\" multiple disabled\n",
              "        style=\"border:none\" />\n",
              "     <output id=\"result-8083b9f1-ee52-4cea-9742-cfa58f3b6c3e\">\n",
              "      Upload widget is only available when the cell has been executed in the\n",
              "      current browser session. Please rerun this cell to enable.\n",
              "      </output>\n",
              "      <script>// Copyright 2017 Google LLC\n",
              "//\n",
              "// Licensed under the Apache License, Version 2.0 (the \"License\");\n",
              "// you may not use this file except in compliance with the License.\n",
              "// You may obtain a copy of the License at\n",
              "//\n",
              "//      http://www.apache.org/licenses/LICENSE-2.0\n",
              "//\n",
              "// Unless required by applicable law or agreed to in writing, software\n",
              "// distributed under the License is distributed on an \"AS IS\" BASIS,\n",
              "// WITHOUT WARRANTIES OR CONDITIONS OF ANY KIND, either express or implied.\n",
              "// See the License for the specific language governing permissions and\n",
              "// limitations under the License.\n",
              "\n",
              "/**\n",
              " * @fileoverview Helpers for google.colab Python module.\n",
              " */\n",
              "(function(scope) {\n",
              "function span(text, styleAttributes = {}) {\n",
              "  const element = document.createElement('span');\n",
              "  element.textContent = text;\n",
              "  for (const key of Object.keys(styleAttributes)) {\n",
              "    element.style[key] = styleAttributes[key];\n",
              "  }\n",
              "  return element;\n",
              "}\n",
              "\n",
              "// Max number of bytes which will be uploaded at a time.\n",
              "const MAX_PAYLOAD_SIZE = 100 * 1024;\n",
              "\n",
              "function _uploadFiles(inputId, outputId) {\n",
              "  const steps = uploadFilesStep(inputId, outputId);\n",
              "  const outputElement = document.getElementById(outputId);\n",
              "  // Cache steps on the outputElement to make it available for the next call\n",
              "  // to uploadFilesContinue from Python.\n",
              "  outputElement.steps = steps;\n",
              "\n",
              "  return _uploadFilesContinue(outputId);\n",
              "}\n",
              "\n",
              "// This is roughly an async generator (not supported in the browser yet),\n",
              "// where there are multiple asynchronous steps and the Python side is going\n",
              "// to poll for completion of each step.\n",
              "// This uses a Promise to block the python side on completion of each step,\n",
              "// then passes the result of the previous step as the input to the next step.\n",
              "function _uploadFilesContinue(outputId) {\n",
              "  const outputElement = document.getElementById(outputId);\n",
              "  const steps = outputElement.steps;\n",
              "\n",
              "  const next = steps.next(outputElement.lastPromiseValue);\n",
              "  return Promise.resolve(next.value.promise).then((value) => {\n",
              "    // Cache the last promise value to make it available to the next\n",
              "    // step of the generator.\n",
              "    outputElement.lastPromiseValue = value;\n",
              "    return next.value.response;\n",
              "  });\n",
              "}\n",
              "\n",
              "/**\n",
              " * Generator function which is called between each async step of the upload\n",
              " * process.\n",
              " * @param {string} inputId Element ID of the input file picker element.\n",
              " * @param {string} outputId Element ID of the output display.\n",
              " * @return {!Iterable<!Object>} Iterable of next steps.\n",
              " */\n",
              "function* uploadFilesStep(inputId, outputId) {\n",
              "  const inputElement = document.getElementById(inputId);\n",
              "  inputElement.disabled = false;\n",
              "\n",
              "  const outputElement = document.getElementById(outputId);\n",
              "  outputElement.innerHTML = '';\n",
              "\n",
              "  const pickedPromise = new Promise((resolve) => {\n",
              "    inputElement.addEventListener('change', (e) => {\n",
              "      resolve(e.target.files);\n",
              "    });\n",
              "  });\n",
              "\n",
              "  const cancel = document.createElement('button');\n",
              "  inputElement.parentElement.appendChild(cancel);\n",
              "  cancel.textContent = 'Cancel upload';\n",
              "  const cancelPromise = new Promise((resolve) => {\n",
              "    cancel.onclick = () => {\n",
              "      resolve(null);\n",
              "    };\n",
              "  });\n",
              "\n",
              "  // Wait for the user to pick the files.\n",
              "  const files = yield {\n",
              "    promise: Promise.race([pickedPromise, cancelPromise]),\n",
              "    response: {\n",
              "      action: 'starting',\n",
              "    }\n",
              "  };\n",
              "\n",
              "  cancel.remove();\n",
              "\n",
              "  // Disable the input element since further picks are not allowed.\n",
              "  inputElement.disabled = true;\n",
              "\n",
              "  if (!files) {\n",
              "    return {\n",
              "      response: {\n",
              "        action: 'complete',\n",
              "      }\n",
              "    };\n",
              "  }\n",
              "\n",
              "  for (const file of files) {\n",
              "    const li = document.createElement('li');\n",
              "    li.append(span(file.name, {fontWeight: 'bold'}));\n",
              "    li.append(span(\n",
              "        `(${file.type || 'n/a'}) - ${file.size} bytes, ` +\n",
              "        `last modified: ${\n",
              "            file.lastModifiedDate ? file.lastModifiedDate.toLocaleDateString() :\n",
              "                                    'n/a'} - `));\n",
              "    const percent = span('0% done');\n",
              "    li.appendChild(percent);\n",
              "\n",
              "    outputElement.appendChild(li);\n",
              "\n",
              "    const fileDataPromise = new Promise((resolve) => {\n",
              "      const reader = new FileReader();\n",
              "      reader.onload = (e) => {\n",
              "        resolve(e.target.result);\n",
              "      };\n",
              "      reader.readAsArrayBuffer(file);\n",
              "    });\n",
              "    // Wait for the data to be ready.\n",
              "    let fileData = yield {\n",
              "      promise: fileDataPromise,\n",
              "      response: {\n",
              "        action: 'continue',\n",
              "      }\n",
              "    };\n",
              "\n",
              "    // Use a chunked sending to avoid message size limits. See b/62115660.\n",
              "    let position = 0;\n",
              "    do {\n",
              "      const length = Math.min(fileData.byteLength - position, MAX_PAYLOAD_SIZE);\n",
              "      const chunk = new Uint8Array(fileData, position, length);\n",
              "      position += length;\n",
              "\n",
              "      const base64 = btoa(String.fromCharCode.apply(null, chunk));\n",
              "      yield {\n",
              "        response: {\n",
              "          action: 'append',\n",
              "          file: file.name,\n",
              "          data: base64,\n",
              "        },\n",
              "      };\n",
              "\n",
              "      let percentDone = fileData.byteLength === 0 ?\n",
              "          100 :\n",
              "          Math.round((position / fileData.byteLength) * 100);\n",
              "      percent.textContent = `${percentDone}% done`;\n",
              "\n",
              "    } while (position < fileData.byteLength);\n",
              "  }\n",
              "\n",
              "  // All done.\n",
              "  yield {\n",
              "    response: {\n",
              "      action: 'complete',\n",
              "    }\n",
              "  };\n",
              "}\n",
              "\n",
              "scope.google = scope.google || {};\n",
              "scope.google.colab = scope.google.colab || {};\n",
              "scope.google.colab._files = {\n",
              "  _uploadFiles,\n",
              "  _uploadFilesContinue,\n",
              "};\n",
              "})(self);\n",
              "</script> "
            ]
          },
          "metadata": {}
        },
        {
          "output_type": "stream",
          "name": "stdout",
          "text": [
            "Saving kaggle.json to kaggle (1).json\n"
          ]
        },
        {
          "output_type": "execute_result",
          "data": {
            "text/plain": [
              "{'kaggle (1).json': b'{\"username\":\"pravalikareddi\",\"key\":\"cc23ca85e0877e600aaa326978d10bad\"}'}"
            ]
          },
          "metadata": {},
          "execution_count": 16
        }
      ]
    },
    {
      "cell_type": "code",
      "source": [
        "# Move kaggle.json to correct path\n",
        "!mkdir -p ~/.kaggle\n",
        "!cp kaggle.json ~/.kaggle/\n",
        "!chmod 600 ~/.kaggle/kaggle.json"
      ],
      "metadata": {
        "id": "Kgr_E3xUnxJ4"
      },
      "execution_count": 3,
      "outputs": []
    },
    {
      "cell_type": "code",
      "source": [
        "# Download Dataset\n",
        "!kaggle datasets download -d taweilo/taiwan-air-quality-data-20162024 -p ./ --unzip"
      ],
      "metadata": {
        "colab": {
          "base_uri": "https://localhost:8080/"
        },
        "id": "hasa02knn5X4",
        "outputId": "e557c712-28b5-4f86-875f-076cac61839a"
      },
      "execution_count": 4,
      "outputs": [
        {
          "output_type": "stream",
          "name": "stdout",
          "text": [
            "Dataset URL: https://www.kaggle.com/datasets/taweilo/taiwan-air-quality-data-20162024\n",
            "License(s): CC0-1.0\n",
            "Downloading taiwan-air-quality-data-20162024.zip to .\n",
            " 51% 88.0M/172M [00:00<00:00, 918MB/s]\n",
            "100% 172M/172M [00:00<00:00, 684MB/s] \n"
          ]
        }
      ]
    },
    {
      "cell_type": "code",
      "source": [
        "#  Setup: Install and Import Libraries\n",
        "\n",
        "!pip install kaggle -q\n",
        "!pip install xgboost -q\n",
        "\n",
        "import pandas as pd\n",
        "import numpy as np\n",
        "import matplotlib.pyplot as plt\n",
        "import seaborn as sns\n",
        "from sklearn.model_selection import train_test_split\n",
        "from sklearn.preprocessing import LabelEncoder, StandardScaler\n",
        "from sklearn.metrics import r2_score, mean_absolute_error, mean_squared_error\n",
        "from sklearn.ensemble import RandomForestRegressor\n",
        "from xgboost import XGBRegressor\n",
        "\n",
        "sns.set(style=\"whitegrid\")\n",
        "plt.rcParams['figure.figsize'] = (8,5)"
      ],
      "metadata": {
        "id": "yJDgbW_Tdf16"
      },
      "execution_count": 5,
      "outputs": []
    },
    {
      "cell_type": "code",
      "source": [
        "#  Load the Dataset\n",
        "\n",
        "df = pd.read_csv(\"air_quality.csv\", low_memory=False)\n",
        "print(\" Dataset Loaded Successfully!\")\n",
        "print(\"Shape:\", df.shape)\n",
        "df.head()\n"
      ],
      "metadata": {
        "colab": {
          "base_uri": "https://localhost:8080/",
          "height": 463
        },
        "id": "dShqBRXDdpdI",
        "outputId": "2b1bfc92-d370-4bdd-ca0c-f68d1f08666a"
      },
      "execution_count": 6,
      "outputs": [
        {
          "output_type": "stream",
          "name": "stdout",
          "text": [
            " Dataset Loaded Successfully!\n",
            "Shape: (5882208, 25)\n"
          ]
        },
        {
          "output_type": "execute_result",
          "data": {
            "text/plain": [
              "               date   sitename          county   aqi pollutant    status  so2  \\\n",
              "0  2024-08-31 23:00      Hukou  Hsinchu County  62.0     PM2.5  Moderate  0.9   \n",
              "1  2024-08-31 23:00  Zhongming   Taichung City  50.0       NaN      Good  1.6   \n",
              "2  2024-08-31 23:00    Zhudong  Hsinchu County  45.0       NaN      Good  0.4   \n",
              "3  2024-08-31 23:00    Hsinchu    Hsinchu City  42.0       NaN      Good  0.8   \n",
              "4  2024-08-31 23:00     Toufen   Miaoli County  50.0       NaN      Good  1.0   \n",
              "\n",
              "     co    o3 o3_8hr  ... windspeed winddirec unit co_8hr pm2.5_avg pm10_avg  \\\n",
              "0  0.17  35.0   40.2  ...       2.3       225  NaN    0.2      20.1     26.0   \n",
              "1  0.32  27.9   35.1  ...       1.1       184  NaN    0.2      15.3     23.0   \n",
              "2  0.17  25.1   40.6  ...       0.4       210  NaN    0.2      13.8     24.0   \n",
              "3   0.2  30.0   35.9  ...       1.9       239  NaN    0.2      13.0     26.0   \n",
              "4  0.16  33.5   35.9  ...       1.8       259  NaN    0.1      15.3     28.0   \n",
              "\n",
              "  so2_avg   longitude   latitude siteid  \n",
              "0     1.0  121.038869  24.900097   22.0  \n",
              "1     1.0  120.641092  24.151958   31.0  \n",
              "2     0.0  121.088955  24.740914   23.0  \n",
              "3     1.0  120.972368  24.805636   24.0  \n",
              "4     1.0  120.898693  24.696907   25.0  \n",
              "\n",
              "[5 rows x 25 columns]"
            ],
            "text/html": [
              "\n",
              "  <div id=\"df-e67335db-5daa-4381-9e6a-914f0a7c8860\" class=\"colab-df-container\">\n",
              "    <div>\n",
              "<style scoped>\n",
              "    .dataframe tbody tr th:only-of-type {\n",
              "        vertical-align: middle;\n",
              "    }\n",
              "\n",
              "    .dataframe tbody tr th {\n",
              "        vertical-align: top;\n",
              "    }\n",
              "\n",
              "    .dataframe thead th {\n",
              "        text-align: right;\n",
              "    }\n",
              "</style>\n",
              "<table border=\"1\" class=\"dataframe\">\n",
              "  <thead>\n",
              "    <tr style=\"text-align: right;\">\n",
              "      <th></th>\n",
              "      <th>date</th>\n",
              "      <th>sitename</th>\n",
              "      <th>county</th>\n",
              "      <th>aqi</th>\n",
              "      <th>pollutant</th>\n",
              "      <th>status</th>\n",
              "      <th>so2</th>\n",
              "      <th>co</th>\n",
              "      <th>o3</th>\n",
              "      <th>o3_8hr</th>\n",
              "      <th>...</th>\n",
              "      <th>windspeed</th>\n",
              "      <th>winddirec</th>\n",
              "      <th>unit</th>\n",
              "      <th>co_8hr</th>\n",
              "      <th>pm2.5_avg</th>\n",
              "      <th>pm10_avg</th>\n",
              "      <th>so2_avg</th>\n",
              "      <th>longitude</th>\n",
              "      <th>latitude</th>\n",
              "      <th>siteid</th>\n",
              "    </tr>\n",
              "  </thead>\n",
              "  <tbody>\n",
              "    <tr>\n",
              "      <th>0</th>\n",
              "      <td>2024-08-31 23:00</td>\n",
              "      <td>Hukou</td>\n",
              "      <td>Hsinchu County</td>\n",
              "      <td>62.0</td>\n",
              "      <td>PM2.5</td>\n",
              "      <td>Moderate</td>\n",
              "      <td>0.9</td>\n",
              "      <td>0.17</td>\n",
              "      <td>35.0</td>\n",
              "      <td>40.2</td>\n",
              "      <td>...</td>\n",
              "      <td>2.3</td>\n",
              "      <td>225</td>\n",
              "      <td>NaN</td>\n",
              "      <td>0.2</td>\n",
              "      <td>20.1</td>\n",
              "      <td>26.0</td>\n",
              "      <td>1.0</td>\n",
              "      <td>121.038869</td>\n",
              "      <td>24.900097</td>\n",
              "      <td>22.0</td>\n",
              "    </tr>\n",
              "    <tr>\n",
              "      <th>1</th>\n",
              "      <td>2024-08-31 23:00</td>\n",
              "      <td>Zhongming</td>\n",
              "      <td>Taichung City</td>\n",
              "      <td>50.0</td>\n",
              "      <td>NaN</td>\n",
              "      <td>Good</td>\n",
              "      <td>1.6</td>\n",
              "      <td>0.32</td>\n",
              "      <td>27.9</td>\n",
              "      <td>35.1</td>\n",
              "      <td>...</td>\n",
              "      <td>1.1</td>\n",
              "      <td>184</td>\n",
              "      <td>NaN</td>\n",
              "      <td>0.2</td>\n",
              "      <td>15.3</td>\n",
              "      <td>23.0</td>\n",
              "      <td>1.0</td>\n",
              "      <td>120.641092</td>\n",
              "      <td>24.151958</td>\n",
              "      <td>31.0</td>\n",
              "    </tr>\n",
              "    <tr>\n",
              "      <th>2</th>\n",
              "      <td>2024-08-31 23:00</td>\n",
              "      <td>Zhudong</td>\n",
              "      <td>Hsinchu County</td>\n",
              "      <td>45.0</td>\n",
              "      <td>NaN</td>\n",
              "      <td>Good</td>\n",
              "      <td>0.4</td>\n",
              "      <td>0.17</td>\n",
              "      <td>25.1</td>\n",
              "      <td>40.6</td>\n",
              "      <td>...</td>\n",
              "      <td>0.4</td>\n",
              "      <td>210</td>\n",
              "      <td>NaN</td>\n",
              "      <td>0.2</td>\n",
              "      <td>13.8</td>\n",
              "      <td>24.0</td>\n",
              "      <td>0.0</td>\n",
              "      <td>121.088955</td>\n",
              "      <td>24.740914</td>\n",
              "      <td>23.0</td>\n",
              "    </tr>\n",
              "    <tr>\n",
              "      <th>3</th>\n",
              "      <td>2024-08-31 23:00</td>\n",
              "      <td>Hsinchu</td>\n",
              "      <td>Hsinchu City</td>\n",
              "      <td>42.0</td>\n",
              "      <td>NaN</td>\n",
              "      <td>Good</td>\n",
              "      <td>0.8</td>\n",
              "      <td>0.2</td>\n",
              "      <td>30.0</td>\n",
              "      <td>35.9</td>\n",
              "      <td>...</td>\n",
              "      <td>1.9</td>\n",
              "      <td>239</td>\n",
              "      <td>NaN</td>\n",
              "      <td>0.2</td>\n",
              "      <td>13.0</td>\n",
              "      <td>26.0</td>\n",
              "      <td>1.0</td>\n",
              "      <td>120.972368</td>\n",
              "      <td>24.805636</td>\n",
              "      <td>24.0</td>\n",
              "    </tr>\n",
              "    <tr>\n",
              "      <th>4</th>\n",
              "      <td>2024-08-31 23:00</td>\n",
              "      <td>Toufen</td>\n",
              "      <td>Miaoli County</td>\n",
              "      <td>50.0</td>\n",
              "      <td>NaN</td>\n",
              "      <td>Good</td>\n",
              "      <td>1.0</td>\n",
              "      <td>0.16</td>\n",
              "      <td>33.5</td>\n",
              "      <td>35.9</td>\n",
              "      <td>...</td>\n",
              "      <td>1.8</td>\n",
              "      <td>259</td>\n",
              "      <td>NaN</td>\n",
              "      <td>0.1</td>\n",
              "      <td>15.3</td>\n",
              "      <td>28.0</td>\n",
              "      <td>1.0</td>\n",
              "      <td>120.898693</td>\n",
              "      <td>24.696907</td>\n",
              "      <td>25.0</td>\n",
              "    </tr>\n",
              "  </tbody>\n",
              "</table>\n",
              "<p>5 rows × 25 columns</p>\n",
              "</div>\n",
              "    <div class=\"colab-df-buttons\">\n",
              "\n",
              "  <div class=\"colab-df-container\">\n",
              "    <button class=\"colab-df-convert\" onclick=\"convertToInteractive('df-e67335db-5daa-4381-9e6a-914f0a7c8860')\"\n",
              "            title=\"Convert this dataframe to an interactive table.\"\n",
              "            style=\"display:none;\">\n",
              "\n",
              "  <svg xmlns=\"http://www.w3.org/2000/svg\" height=\"24px\" viewBox=\"0 -960 960 960\">\n",
              "    <path d=\"M120-120v-720h720v720H120Zm60-500h600v-160H180v160Zm220 220h160v-160H400v160Zm0 220h160v-160H400v160ZM180-400h160v-160H180v160Zm440 0h160v-160H620v160ZM180-180h160v-160H180v160Zm440 0h160v-160H620v160Z\"/>\n",
              "  </svg>\n",
              "    </button>\n",
              "\n",
              "  <style>\n",
              "    .colab-df-container {\n",
              "      display:flex;\n",
              "      gap: 12px;\n",
              "    }\n",
              "\n",
              "    .colab-df-convert {\n",
              "      background-color: #E8F0FE;\n",
              "      border: none;\n",
              "      border-radius: 50%;\n",
              "      cursor: pointer;\n",
              "      display: none;\n",
              "      fill: #1967D2;\n",
              "      height: 32px;\n",
              "      padding: 0 0 0 0;\n",
              "      width: 32px;\n",
              "    }\n",
              "\n",
              "    .colab-df-convert:hover {\n",
              "      background-color: #E2EBFA;\n",
              "      box-shadow: 0px 1px 2px rgba(60, 64, 67, 0.3), 0px 1px 3px 1px rgba(60, 64, 67, 0.15);\n",
              "      fill: #174EA6;\n",
              "    }\n",
              "\n",
              "    .colab-df-buttons div {\n",
              "      margin-bottom: 4px;\n",
              "    }\n",
              "\n",
              "    [theme=dark] .colab-df-convert {\n",
              "      background-color: #3B4455;\n",
              "      fill: #D2E3FC;\n",
              "    }\n",
              "\n",
              "    [theme=dark] .colab-df-convert:hover {\n",
              "      background-color: #434B5C;\n",
              "      box-shadow: 0px 1px 3px 1px rgba(0, 0, 0, 0.15);\n",
              "      filter: drop-shadow(0px 1px 2px rgba(0, 0, 0, 0.3));\n",
              "      fill: #FFFFFF;\n",
              "    }\n",
              "  </style>\n",
              "\n",
              "    <script>\n",
              "      const buttonEl =\n",
              "        document.querySelector('#df-e67335db-5daa-4381-9e6a-914f0a7c8860 button.colab-df-convert');\n",
              "      buttonEl.style.display =\n",
              "        google.colab.kernel.accessAllowed ? 'block' : 'none';\n",
              "\n",
              "      async function convertToInteractive(key) {\n",
              "        const element = document.querySelector('#df-e67335db-5daa-4381-9e6a-914f0a7c8860');\n",
              "        const dataTable =\n",
              "          await google.colab.kernel.invokeFunction('convertToInteractive',\n",
              "                                                    [key], {});\n",
              "        if (!dataTable) return;\n",
              "\n",
              "        const docLinkHtml = 'Like what you see? Visit the ' +\n",
              "          '<a target=\"_blank\" href=https://colab.research.google.com/notebooks/data_table.ipynb>data table notebook</a>'\n",
              "          + ' to learn more about interactive tables.';\n",
              "        element.innerHTML = '';\n",
              "        dataTable['output_type'] = 'display_data';\n",
              "        await google.colab.output.renderOutput(dataTable, element);\n",
              "        const docLink = document.createElement('div');\n",
              "        docLink.innerHTML = docLinkHtml;\n",
              "        element.appendChild(docLink);\n",
              "      }\n",
              "    </script>\n",
              "  </div>\n",
              "\n",
              "\n",
              "    <div id=\"df-d6e36bc0-f918-401f-982f-1fd2718e3e68\">\n",
              "      <button class=\"colab-df-quickchart\" onclick=\"quickchart('df-d6e36bc0-f918-401f-982f-1fd2718e3e68')\"\n",
              "                title=\"Suggest charts\"\n",
              "                style=\"display:none;\">\n",
              "\n",
              "<svg xmlns=\"http://www.w3.org/2000/svg\" height=\"24px\"viewBox=\"0 0 24 24\"\n",
              "     width=\"24px\">\n",
              "    <g>\n",
              "        <path d=\"M19 3H5c-1.1 0-2 .9-2 2v14c0 1.1.9 2 2 2h14c1.1 0 2-.9 2-2V5c0-1.1-.9-2-2-2zM9 17H7v-7h2v7zm4 0h-2V7h2v10zm4 0h-2v-4h2v4z\"/>\n",
              "    </g>\n",
              "</svg>\n",
              "      </button>\n",
              "\n",
              "<style>\n",
              "  .colab-df-quickchart {\n",
              "      --bg-color: #E8F0FE;\n",
              "      --fill-color: #1967D2;\n",
              "      --hover-bg-color: #E2EBFA;\n",
              "      --hover-fill-color: #174EA6;\n",
              "      --disabled-fill-color: #AAA;\n",
              "      --disabled-bg-color: #DDD;\n",
              "  }\n",
              "\n",
              "  [theme=dark] .colab-df-quickchart {\n",
              "      --bg-color: #3B4455;\n",
              "      --fill-color: #D2E3FC;\n",
              "      --hover-bg-color: #434B5C;\n",
              "      --hover-fill-color: #FFFFFF;\n",
              "      --disabled-bg-color: #3B4455;\n",
              "      --disabled-fill-color: #666;\n",
              "  }\n",
              "\n",
              "  .colab-df-quickchart {\n",
              "    background-color: var(--bg-color);\n",
              "    border: none;\n",
              "    border-radius: 50%;\n",
              "    cursor: pointer;\n",
              "    display: none;\n",
              "    fill: var(--fill-color);\n",
              "    height: 32px;\n",
              "    padding: 0;\n",
              "    width: 32px;\n",
              "  }\n",
              "\n",
              "  .colab-df-quickchart:hover {\n",
              "    background-color: var(--hover-bg-color);\n",
              "    box-shadow: 0 1px 2px rgba(60, 64, 67, 0.3), 0 1px 3px 1px rgba(60, 64, 67, 0.15);\n",
              "    fill: var(--button-hover-fill-color);\n",
              "  }\n",
              "\n",
              "  .colab-df-quickchart-complete:disabled,\n",
              "  .colab-df-quickchart-complete:disabled:hover {\n",
              "    background-color: var(--disabled-bg-color);\n",
              "    fill: var(--disabled-fill-color);\n",
              "    box-shadow: none;\n",
              "  }\n",
              "\n",
              "  .colab-df-spinner {\n",
              "    border: 2px solid var(--fill-color);\n",
              "    border-color: transparent;\n",
              "    border-bottom-color: var(--fill-color);\n",
              "    animation:\n",
              "      spin 1s steps(1) infinite;\n",
              "  }\n",
              "\n",
              "  @keyframes spin {\n",
              "    0% {\n",
              "      border-color: transparent;\n",
              "      border-bottom-color: var(--fill-color);\n",
              "      border-left-color: var(--fill-color);\n",
              "    }\n",
              "    20% {\n",
              "      border-color: transparent;\n",
              "      border-left-color: var(--fill-color);\n",
              "      border-top-color: var(--fill-color);\n",
              "    }\n",
              "    30% {\n",
              "      border-color: transparent;\n",
              "      border-left-color: var(--fill-color);\n",
              "      border-top-color: var(--fill-color);\n",
              "      border-right-color: var(--fill-color);\n",
              "    }\n",
              "    40% {\n",
              "      border-color: transparent;\n",
              "      border-right-color: var(--fill-color);\n",
              "      border-top-color: var(--fill-color);\n",
              "    }\n",
              "    60% {\n",
              "      border-color: transparent;\n",
              "      border-right-color: var(--fill-color);\n",
              "    }\n",
              "    80% {\n",
              "      border-color: transparent;\n",
              "      border-right-color: var(--fill-color);\n",
              "      border-bottom-color: var(--fill-color);\n",
              "    }\n",
              "    90% {\n",
              "      border-color: transparent;\n",
              "      border-bottom-color: var(--fill-color);\n",
              "    }\n",
              "  }\n",
              "</style>\n",
              "\n",
              "      <script>\n",
              "        async function quickchart(key) {\n",
              "          const quickchartButtonEl =\n",
              "            document.querySelector('#' + key + ' button');\n",
              "          quickchartButtonEl.disabled = true;  // To prevent multiple clicks.\n",
              "          quickchartButtonEl.classList.add('colab-df-spinner');\n",
              "          try {\n",
              "            const charts = await google.colab.kernel.invokeFunction(\n",
              "                'suggestCharts', [key], {});\n",
              "          } catch (error) {\n",
              "            console.error('Error during call to suggestCharts:', error);\n",
              "          }\n",
              "          quickchartButtonEl.classList.remove('colab-df-spinner');\n",
              "          quickchartButtonEl.classList.add('colab-df-quickchart-complete');\n",
              "        }\n",
              "        (() => {\n",
              "          let quickchartButtonEl =\n",
              "            document.querySelector('#df-d6e36bc0-f918-401f-982f-1fd2718e3e68 button');\n",
              "          quickchartButtonEl.style.display =\n",
              "            google.colab.kernel.accessAllowed ? 'block' : 'none';\n",
              "        })();\n",
              "      </script>\n",
              "    </div>\n",
              "\n",
              "    </div>\n",
              "  </div>\n"
            ],
            "application/vnd.google.colaboratory.intrinsic+json": {
              "type": "dataframe",
              "variable_name": "df"
            }
          },
          "metadata": {},
          "execution_count": 6
        }
      ]
    },
    {
      "cell_type": "code",
      "source": [
        "#  Basic Info and Missing Values\n",
        "\n",
        "print(\"\\n--- Basic Info ---\")\n",
        "print(df.info())\n",
        "print(\"\\n--- Missing Values ---\")\n",
        "print(df.isnull().sum())"
      ],
      "metadata": {
        "colab": {
          "base_uri": "https://localhost:8080/"
        },
        "id": "VnaKnr7weJMh",
        "outputId": "000e911d-0070-4f3a-8fda-37d36fa44b01"
      },
      "execution_count": 7,
      "outputs": [
        {
          "output_type": "stream",
          "name": "stdout",
          "text": [
            "\n",
            "--- Basic Info ---\n",
            "<class 'pandas.core.frame.DataFrame'>\n",
            "RangeIndex: 5882208 entries, 0 to 5882207\n",
            "Data columns (total 25 columns):\n",
            " #   Column     Dtype  \n",
            "---  ------     -----  \n",
            " 0   date       object \n",
            " 1   sitename   object \n",
            " 2   county     object \n",
            " 3   aqi        float64\n",
            " 4   pollutant  object \n",
            " 5   status     object \n",
            " 6   so2        object \n",
            " 7   co         object \n",
            " 8   o3         object \n",
            " 9   o3_8hr     object \n",
            " 10  pm10       object \n",
            " 11  pm2.5      object \n",
            " 12  no2        object \n",
            " 13  nox        object \n",
            " 14  no         object \n",
            " 15  windspeed  object \n",
            " 16  winddirec  object \n",
            " 17  unit       float64\n",
            " 18  co_8hr     object \n",
            " 19  pm2.5_avg  object \n",
            " 20  pm10_avg   object \n",
            " 21  so2_avg    object \n",
            " 22  longitude  float64\n",
            " 23  latitude   float64\n",
            " 24  siteid     float64\n",
            "dtypes: float64(5), object(20)\n",
            "memory usage: 1.1+ GB\n",
            "None\n",
            "\n",
            "--- Missing Values ---\n",
            "date               0\n",
            "sitename           0\n",
            "county             0\n",
            "aqi            43020\n",
            "pollutant    3235012\n",
            "status        142718\n",
            "so2           139768\n",
            "co            113504\n",
            "o3            125017\n",
            "o3_8hr        131081\n",
            "pm10          140358\n",
            "pm2.5         131438\n",
            "no2           165977\n",
            "nox           169124\n",
            "no            169455\n",
            "windspeed     219498\n",
            "winddirec     219736\n",
            "unit         5882208\n",
            "co_8hr         81229\n",
            "pm2.5_avg      79941\n",
            "pm10_avg       89875\n",
            "so2_avg       629162\n",
            "longitude     933620\n",
            "latitude      933620\n",
            "siteid       1779469\n",
            "dtype: int64\n"
          ]
        }
      ]
    },
    {
      "cell_type": "code",
      "source": [
        "#  Data Cleaning\n",
        "\n",
        "# Convert pollutant columns to numeric\n",
        "for col in ['pm2.5', 'pm10', 'o3']:\n",
        "    if col in df.columns:\n",
        "        df[col] = pd.to_numeric(df[col], errors='coerce')\n",
        "\n",
        "# Fill missing numeric values with mean\n",
        "for col in df.select_dtypes(include=[np.number]).columns:\n",
        "    df[col] = df[col].fillna(df[col].mean())\n",
        "\n",
        "# Fill categorical columns with mode\n",
        "for col in df.select_dtypes(include=['object']).columns:\n",
        "    df[col] = df[col].fillna(df[col].mode()[0])\n",
        "\n",
        "print(\"\\n Data Cleaning Done!\")"
      ],
      "metadata": {
        "colab": {
          "base_uri": "https://localhost:8080/"
        },
        "id": "03f9LIKweU-I",
        "outputId": "901d8f80-bd1d-4795-9c7b-acdcce304185"
      },
      "execution_count": 8,
      "outputs": [
        {
          "output_type": "stream",
          "name": "stdout",
          "text": [
            "\n",
            " Data Cleaning Done!\n"
          ]
        }
      ]
    },
    {
      "cell_type": "code",
      "source": [
        "#  Exploratory Data Analysis (EDA)\n",
        "\n",
        "print(\"\\n--- Statistical Summary ---\")\n",
        "print(df.describe())\n",
        "\n",
        "# Correlation Heatmap\n",
        "corr = df.corr(numeric_only=True)\n",
        "sns.heatmap(corr, annot=False, cmap='coolwarm')\n",
        "plt.title(\"Correlation Heatmap of Air Quality Features\")\n",
        "plt.show()\n",
        "\n",
        "# Distribution of PM2.5\n",
        "if 'pm2.5' in df.columns:\n",
        "    sns.histplot(df['pm2.5'], kde=True)\n",
        "    plt.title(\"Distribution of PM2.5 Concentration\")\n",
        "    plt.show()\n"
      ],
      "metadata": {
        "colab": {
          "base_uri": "https://localhost:8080/",
          "height": 1000
        },
        "id": "BJIb8_Q-e22h",
        "outputId": "f286c351-9029-41b3-ddcc-03adbf69cd0e"
      },
      "execution_count": 9,
      "outputs": [
        {
          "output_type": "stream",
          "name": "stdout",
          "text": [
            "\n",
            "--- Statistical Summary ---\n",
            "                aqi            o3          pm10         pm2.5  unit  \\\n",
            "count  5.882208e+06  5.882208e+06  5.882208e+06  5.882208e+06   0.0   \n",
            "mean   5.419277e+01  3.042044e+01  3.438227e+01  1.684545e+01   NaN   \n",
            "std    2.974925e+01  1.802696e+01  2.398997e+01  1.249928e+01   NaN   \n",
            "min   -1.000000e+00 -9.990000e+02 -9.990000e+02 -9.990000e+02   NaN   \n",
            "25%    3.200000e+01  1.650000e+01  1.800000e+01  8.000000e+00   NaN   \n",
            "50%    4.700000e+01  2.910000e+01  2.900000e+01  1.400000e+01   NaN   \n",
            "75%    7.000000e+01  4.140000e+01  4.400000e+01  2.200000e+01   NaN   \n",
            "max    5.000000e+02  4.100000e+02  1.407000e+03  1.000000e+03   NaN   \n",
            "\n",
            "          longitude      latitude        siteid  \n",
            "count  5.882208e+06  5.882208e+06  5.882208e+06  \n",
            "mean   1.208235e+02  2.404500e+01  5.608608e+01  \n",
            "std    8.845717e-01  9.190606e-01  5.205919e+01  \n",
            "min    0.000000e+00  0.000000e+00  0.000000e+00  \n",
            "25%    1.204097e+02  2.346278e+01  3.100000e+01  \n",
            "50%    1.208235e+02  2.404500e+01  5.608608e+01  \n",
            "75%    1.213087e+02  2.495328e+01  5.608608e+01  \n",
            "max    1.218157e+02  2.625800e+01  3.140000e+02  \n"
          ]
        },
        {
          "output_type": "display_data",
          "data": {
            "text/plain": [
              "<Figure size 800x500 with 2 Axes>"
            ],
            "image/png": "[encoded data removed]"
          },
          "metadata": {}
        },
        {
          "output_type": "display_data",
          "data": {
            "text/plain": [
              "<Figure size 800x500 with 1 Axes>"
            ],
            "image/png": "[encoded data removed]"
          },
          "metadata": {}
        }
      ]
    },
    {
      "cell_type": "code",
      "source": [
        "# Convert Categorical to Numerical\n",
        "\n",
        "le = LabelEncoder()\n",
        "for col in df.select_dtypes(include=['object']).columns:\n",
        "    df[col] = le.fit_transform(df[col])\n",
        "\n",
        "print(\"Converted Categorical Columns to Numeric\")"
      ],
      "metadata": {
        "colab": {
          "base_uri": "https://localhost:8080/"
        },
        "id": "ISz1F-fofjRq",
        "outputId": "3b0c64d4-fb68-43e3-938a-34c2688d0410"
      },
      "execution_count": 10,
      "outputs": [
        {
          "output_type": "stream",
          "name": "stdout",
          "text": [
            "Converted Categorical Columns to Numeric\n"
          ]
        }
      ]
    },
    {
      "cell_type": "code",
      "source": [
        "#  Feature Selection\n",
        "# If AQI or PM2.5 is the target, adjust accordingly\n",
        "target_col = 'pm2.5' if 'pm2.5' in df.columns else 'AQI'\n",
        "\n",
        "# Remove the 'unit' column as it has zero variance and won't be useful for modeling\n",
        "X = df.drop([target_col, 'unit'], axis=1)\n",
        "y = df[target_col]\n",
        "\n",
        "# Handle potential infinite values before scaling\n",
        "X.replace([np.inf, -np.inf], np.nan, inplace=True)\n",
        "X.fillna(X.mean(), inplace=True)\n",
        "\n",
        "# Scale features\n",
        "scaler = StandardScaler()\n",
        "X_scaled = scaler.fit_transform(X)"
      ],
      "metadata": {
        "id": "TWSJnefzfyIc"
      },
      "execution_count": 11,
      "outputs": []
    },
    {
      "cell_type": "code",
      "source": [
        "#  Split Data into Train/Test\n",
        "\n",
        "# Take a smaller random sample for faster exploration (e.g., 100000 rows)\n",
        "sample_size = 20\n",
        "df_sampled = df.sample(n=min(sample_size, len(df)), random_state=42)\n",
        "\n",
        "target_col = 'pm2.5' if 'pm2.5' in df_sampled.columns else 'AQI'\n",
        "\n",
        "X_sampled = df_sampled.drop(target_col, axis=1)\n",
        "y_sampled = df_sampled[target_col]\n",
        "\n",
        "\n",
        "# Handle potential infinite values before scaling\n",
        "X_sampled.replace([np.inf, -np.inf], np.nan, inplace=True)\n",
        "X_sampled.fillna(X_sampled.mean(), inplace=True)\n",
        "\n",
        "# Scale features using the scaler fitted on the full dataset or a subset of the full dataset.\n",
        "# For now, we will fit a new scaler on the sampled data for speed.\n",
        "scaler_sampled = StandardScaler()\n",
        "X_scaled_sampled = scaler_sampled.fit_transform(X_sampled)\n",
        "\n",
        "\n",
        "X_train, X_test, y_train, y_test = train_test_split(\n",
        "    X_scaled_sampled, y_sampled, test_size=0.2, random_state=42\n",
        ")\n",
        "\n",
        "print(f\"Training Samples: {len(X_train)}, Testing Samples: {len(X_test)}\")"
      ],
      "metadata": {
        "colab": {
          "base_uri": "https://localhost:8080/"
        },
        "id": "9Ps4vpjwiM_E",
        "outputId": "7f758c35-9052-4311-8b0d-1fe95689bb2d"
      },
      "execution_count": 12,
      "outputs": [
        {
          "output_type": "stream",
          "name": "stdout",
          "text": [
            "Training Samples: 16, Testing Samples: 4\n"
          ]
        },
        {
          "output_type": "stream",
          "name": "stderr",
          "text": [
            "/usr/local/lib/python3.12/dist-packages/sklearn/utils/extmath.py:1101: RuntimeWarning: invalid value encountered in divide\n",
            "  updated_mean = (last_sum + new_sum) / updated_sample_count\n",
            "/usr/local/lib/python3.12/dist-packages/sklearn/utils/extmath.py:1106: RuntimeWarning: invalid value encountered in divide\n",
            "  T = new_sum / new_sample_count\n",
            "/usr/local/lib/python3.12/dist-packages/sklearn/utils/extmath.py:1126: RuntimeWarning: invalid value encountered in divide\n",
            "  new_unnormalized_variance -= correction**2 / new_sample_count\n"
          ]
        }
      ]
    },
    {
      "cell_type": "code",
      "source": [
        "#  Model Training & Evaluation\n",
        "\n",
        "models = {\n",
        "    \"Random Forest\": RandomForestRegressor(random_state=42),\n",
        "    \"XGBoost\": XGBRegressor(random_state=42, n_estimators=300)\n",
        "}\n",
        "\n",
        "results = []\n",
        "\n",
        "for name, model in models.items():\n",
        "    model.fit(X_train, y_train)\n",
        "    y_pred = model.predict(X_test)\n",
        "\n",
        "    r2 = r2_score(y_test, y_pred)\n",
        "    mae = mean_absolute_error(y_test, y_pred)\n",
        "    rmse = np.sqrt(mean_squared_error(y_test, y_pred))\n",
        "\n",
        "    results.append([name, r2, mae, rmse])\n",
        "    print(f\"\\n {name} Results:\")\n",
        "    print(f\"R² Score: {r2:.4f}\")\n",
        "    print(f\"MAE: {mae:.4f}\")\n",
        "    print(f\"RMSE: {rmse:.4f}\")"
      ],
      "metadata": {
        "colab": {
          "base_uri": "https://localhost:8080/"
        },
        "id": "B8SjawpnvMLd",
        "outputId": "995d196f-ef2b-4aea-9f47-7ff8ff3d2107"
      },
      "execution_count": 13,
      "outputs": [
        {
          "output_type": "stream",
          "name": "stdout",
          "text": [
            "\n",
            " Random Forest Results:\n",
            "R² Score: 0.3074\n",
            "MAE: 11.3525\n",
            "RMSE: 15.4855\n",
            "\n",
            " XGBoost Results:\n",
            "R² Score: 0.7643\n",
            "MAE: 7.6101\n",
            "RMSE: 9.0341\n"
          ]
        }
      ]
    },
    {
      "cell_type": "code",
      "source": [
        "# Compare Models\n",
        "\n",
        "results_df = pd.DataFrame(results, columns=[\"Model\", \"R2 Score\", \"MAE\", \"RMSE\"])\n",
        "print(\"\\n\\n Model Comparison:\")\n",
        "print(results_df)\n",
        "\n",
        "sns.barplot(data=results_df, x=\"Model\", y=\"R2 Score\")\n",
        "plt.title(\"Model Performance Comparison (Higher R² = Better)\")\n",
        "plt.show()"
      ],
      "metadata": {
        "colab": {
          "base_uri": "https://localhost:8080/",
          "height": 600
        },
        "id": "94IT0lHfvYxW",
        "outputId": "c8be3d8b-a464-4348-b514-97fdfb7f23f1"
      },
      "execution_count": 14,
      "outputs": [
        {
          "output_type": "stream",
          "name": "stdout",
          "text": [
            "\n",
            "\n",
            " Model Comparison:\n",
            "           Model  R2 Score        MAE       RMSE\n",
            "0  Random Forest  0.307435  11.352500  15.485496\n",
            "1        XGBoost  0.764286   7.610078   9.034146\n"
          ]
        },
        {
          "output_type": "display_data",
          "data": {
            "text/plain": [
              "<Figure size 800x500 with 1 Axes>"
            ],
            "image/png": "[encoded data removed]"
          },
          "metadata": {}
        }
      ]
    },
    {
      "cell_type": "code",
      "source": [
        "# StandardScaler : It ensures all numerical features contribute equally to distance-based learning.\n",
        "# Heatmap : Heatmap shows correlations between pollutants (e.g., PM2.5 vs O3), which is vital for feature understanding.\n",
        "# Histogram : visualize distribution and relationships in environmental data.\n",
        "# RandomForestRegressor : Robust, non-linear, handles missing values, resistant to overfitting, performs well on tabular environmental data.\n",
        "# XGBoostRegressor : Gradient-boosting ensemble that gives high accuracy and handles large feature spaces efficiently.\n",
        "# Evaluation Metrics :\n",
        "# R² Score — Measures model's explanatory power (how much variance is captured).\n",
        "# MAE & RMSE — Show average prediction errors; RMSE penalizes large deviations more.\n",
        "# These three give a balanced view of accuracy and stability."
      ],
      "metadata": {
        "id": "YBDlkXAIwIbR"
      },
      "execution_count": null,
      "outputs": []
    }
  ]
}