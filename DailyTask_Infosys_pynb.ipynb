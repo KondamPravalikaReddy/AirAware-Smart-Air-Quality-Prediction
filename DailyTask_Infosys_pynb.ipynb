{
  "nbformat": 4,
  "nbformat_minor": 0,
  "metadata": {
    "colab": {
      "provenance": [],
      "authorship_tag": "ABX9TyNGhmjgeLoXWlmVaxLNOoyp",
      "include_colab_link": true
    },
    "kernelspec": {
      "name": "python3",
      "display_name": "Python 3"
    },
    "language_info": {
      "name": "python"
    }
  },
  "cells": [
    {
      "cell_type": "markdown",
      "metadata": {
        "id": "view-in-github",
        "colab_type": "text"
      },
      "source": [
        "<a href=\"https://colab.research.google.com/github/KondamPravalikaReddy/AirAware-Smart-Air-Quality-Prediction/blob/main/DailyTask_Infosys_pynb.ipynb\" target=\"_parent\"><img src=\"https://colab.research.google.com/assets/colab-badge.svg\" alt=\"Open In Colab\"/></a>"
      ]
    },
    {
      "cell_type": "code",
      "source": [
        "print('Pravalika')"
      ],
      "metadata": {
        "colab": {
          "base_uri": "https://localhost:8080/"
        },
        "id": "JvvzQoctLHE_",
        "outputId": "edc1466b-6542-4bd7-ead8-26d4e16640ea"
      },
      "execution_count": null,
      "outputs": [
        {
          "output_type": "stream",
          "name": "stdout",
          "text": [
            "Pravalika\n"
          ]
        }
      ]
    },
    {
      "cell_type": "code",
      "source": [
        "company='Infosys'\n",
        "age=17\n",
        "Percentage=97.2\n",
        "print(type(age))\n",
        "print(type(company))\n",
        "print(type(Percentage))"
      ],
      "metadata": {
        "colab": {
          "base_uri": "https://localhost:8080/"
        },
        "id": "4Ss_lDtvLr-7",
        "outputId": "58061921-c4fa-4406-c420-be18ccfaef0a"
      },
      "execution_count": null,
      "outputs": [
        {
          "output_type": "stream",
          "name": "stdout",
          "text": [
            "<class 'int'>\n",
            "<class 'str'>\n",
            "<class 'float'>\n"
          ]
        }
      ]
    },
    {
      "cell_type": "code",
      "source": [
        "id(age) #gives address of variable 'age'"
      ],
      "metadata": {
        "colab": {
          "base_uri": "https://localhost:8080/"
        },
        "id": "lbiKVe8zLycn",
        "outputId": "bba7c36d-bb93-424b-b2a2-08ff6ff20f08"
      },
      "execution_count": null,
      "outputs": [
        {
          "output_type": "execute_result",
          "data": {
            "text/plain": [
              "11642600"
            ]
          },
          "metadata": {},
          "execution_count": 3
        }
      ]
    },
    {
      "cell_type": "code",
      "source": [
        "#TASK:1--codes for 1.numeric, 2.integer(Positive,Negative, Binary,Octal,Hexadecimal),3.Float, 4.Boolean(True,False)\n",
        "number=88\n",
        "print(\"Decimal Integer:\" ,number)\n",
        "Positive=24\n",
        "Negative=-4\n",
        "print(\"Positive Integer:\",Positive)\n",
        "print(\"Negative Integer:\",Negative)\n",
        "bin=0b101\n",
        "print(\"Binary: \",bin)\n",
        "Octal=0o5\n",
        "print(\"Octal Number:\",Octal)\n",
        "Hexa=0x2F\n",
        "print(\"Hexadecimal Number:\",Hexa)\n",
        "F=9.78\n",
        "print(\"Float: \",F)\n",
        "Value1=1\n",
        "Value2=0\n",
        "print(\"Hexadecimal Number:\",Hexa)\n",
        "print(\"Boolean True :\",Value1)\n",
        "print(\"Boolean  False :\",Value2)\n",
        "is_bool=89\n",
        "print(bool(is_bool))"
      ],
      "metadata": {
        "colab": {
          "base_uri": "https://localhost:8080/"
        },
        "id": "qVNPs5q5MWpZ",
        "outputId": "64690cc5-a1bb-4c78-af3a-405b6d6c8ecd"
      },
      "execution_count": null,
      "outputs": [
        {
          "output_type": "stream",
          "name": "stdout",
          "text": [
            "Decimal Integer: 88\n",
            "Positive Integer: 24\n",
            "Negative Integer: -4\n",
            "Binary:  5\n",
            "Octal Number: 5\n",
            "Hexadecimal Number: 47\n",
            "Float:  9.78\n",
            "Hexadecimal Number: 47\n",
            "Boolean True : 1\n",
            "Boolean  False : 0\n",
            "True\n"
          ]
        }
      ]
    },
    {
      "cell_type": "code",
      "source": [
        "#Task 2:Code for all Arithmetic Operators(+,-,*,/,//)\n",
        "a = 10\n",
        "b = 3\n",
        "\n",
        "print(\"Addition:\", a + b)\n",
        "print(\"Subtraction:\", a - b)\n",
        "print(\"Multiplication:\", a * b)\n",
        "print(\"Division:\", a / b)\n",
        "print(\"Floor Division:\", a // b)\n",
        "print(\"Modulus:\", a % b)\n",
        "print(\"Exponentiation:\", a ** b)"
      ],
      "metadata": {
        "colab": {
          "base_uri": "https://localhost:8080/"
        },
        "id": "qW3PAk0QMjU9",
        "outputId": "640feeb1-5d8b-4e9d-f6ff-13b90d226050"
      },
      "execution_count": null,
      "outputs": [
        {
          "output_type": "stream",
          "name": "stdout",
          "text": [
            "Addition: 13\n",
            "Subtraction: 7\n",
            "Multiplication: 30\n",
            "Division: 3.3333333333333335\n",
            "Floor Division: 3\n",
            "Modulus: 1\n",
            "Exponentiation: 1000\n"
          ]
        }
      ]
    },
    {
      "cell_type": "code",
      "source": [
        "#Task 3:String Operators\n",
        "str1 = \"Hello\"\n",
        "str2 = \"World\"\n",
        "\n",
        "# 1. Concatenation [+]\n",
        "print(\"Concatenation:\", str1 + \" \" + str2)\n",
        "\n",
        "# 2. Repetition [*]\n",
        "print(\"Repetition:\", str1 * 3)\n",
        "\n",
        "# 3. Slice []\n",
        "print(\"Slice:\", str1[1])\n",
        "\n",
        "# 4. Range Slice [:]\n",
        "print(\"Range Slice:\", str1[1:4])\n",
        "\n",
        "# 5. In Membership [in]\n",
        "print(\"In Membership:\", \"H\" in str1)\n",
        "\n",
        "# 6. Not in Membership [not in]\n",
        "print(\"Not in Membership:\", \"z\" not in str1)"
      ],
      "metadata": {
        "colab": {
          "base_uri": "https://localhost:8080/"
        },
        "id": "DmRGDeOZMwHc",
        "outputId": "33fbb30e-dd16-4a3d-c6c8-9390adbec4c7"
      },
      "execution_count": null,
      "outputs": [
        {
          "output_type": "stream",
          "name": "stdout",
          "text": [
            "Concatenation: Hello World\n",
            "Repetition: HelloHelloHello\n",
            "Slice: e\n",
            "Range Slice: ell\n",
            "In Membership: True\n",
            "Not in Membership: True\n"
          ]
        }
      ]
    },
    {
      "cell_type": "code",
      "source": [
        "#Task4:Write a code to create google form which has all data types using input command-giving user input at runtime.\n",
        "name = input(\"Enter your name: \")\n",
        "age = int(input(\"Enter your age: \"))\n",
        "marks = float(input(\"Enter your marks: \"))\n",
        "is_student = input(\"Are you a student? (yes/no): \")\n",
        "\n",
        "# Output with different methods\n",
        "print(\"Name:\", name, \"Age:\", age, \"Marks:\", marks, \"Student:\", is_student)\n",
        "print(\"Name: \" + name + \" Age: \" + str(age))\n",
        "print(\"Marks: %0.2f\" % marks)\n",
        "print(\"Student: {} Age: {}\".format(is_student, age))\n",
        "print(f\"Name: {name} Age: {age}\")"
      ],
      "metadata": {
        "colab": {
          "base_uri": "https://localhost:8080/"
        },
        "id": "28FFs-s7M-ZN",
        "outputId": "6f12ea28-437c-4043-850d-f65494975f98"
      },
      "execution_count": null,
      "outputs": [
        {
          "output_type": "stream",
          "name": "stdout",
          "text": [
            "Enter your name: SONY\n",
            "Enter your age: 20\n",
            "Enter your marks: 98\n",
            "Are you a student? (yes/no): YES\n",
            "Name: SONY Age: 20 Marks: 98.0 Student: YES\n",
            "Name: SONY Age: 20\n",
            "Marks: 98.00\n",
            "Student: YES Age: 20\n",
            "Name: SONY Age: 20\n"
          ]
        }
      ]
    },
    {
      "cell_type": "code",
      "source": [
        "#Task5: Functions Manupulating Lists only\n",
        "Data=['MANI','Male','5.9']\n",
        "#max(Data)\n",
        "#min(Data)\n",
        "print(max(Data))\n",
        "print(min(Data))\n",
        "Data.append('RAJU') #Adds at end of the list\n",
        "print(Data)\n",
        "Data.insert(1,'REDDY') #insert according to index position\n",
        "print(Data)\n",
        "Data.pop() #Removes last element\n",
        "print(Data)\n",
        "print(Data[2]) #Accessing through Index\n",
        "Data[2:6] #Range Slicing\n",
        "Data.remove(\"5.9\") #Removes the element from the list\n",
        "print(Data)\n",
        "print(Data.count('35')) #Counts the repetition\n",
        "print(Data.index('Male')) #Index position of an element"
      ],
      "metadata": {
        "colab": {
          "base_uri": "https://localhost:8080/"
        },
        "id": "LsOLo9OfNMXM",
        "outputId": "2ac4d1b2-0d21-4f9d-c2ca-6f269d1059f9"
      },
      "execution_count": null,
      "outputs": [
        {
          "output_type": "stream",
          "name": "stdout",
          "text": [
            "Male\n",
            "5.9\n",
            "['MANI', 'Male', '5.9', 'RAJU']\n",
            "['MANI', 'REDDY', 'Male', '5.9', 'RAJU']\n",
            "['MANI', 'REDDY', 'Male', '5.9']\n",
            "Male\n",
            "['MANI', 'REDDY', 'Male']\n",
            "0\n",
            "2\n"
          ]
        }
      ]
    },
    {
      "cell_type": "code",
      "source": [
        "#Task6: Builtin Functions for DICTIONARY\n",
        "d = {'x': 1, 'y': 2}\n",
        "print(d.keys())\n",
        "print(d.values())\n",
        "print(d.items())"
      ],
      "metadata": {
        "colab": {
          "base_uri": "https://localhost:8080/"
        },
        "id": "dD0qd2EDNujU",
        "outputId": "329dac99-75cf-490b-b751-566e3b0ec377"
      },
      "execution_count": null,
      "outputs": [
        {
          "output_type": "stream",
          "name": "stdout",
          "text": [
            "dict_keys(['x', 'y'])\n",
            "dict_values([1, 2])\n",
            "dict_items([('x', 1), ('y', 2)])\n"
          ]
        }
      ]
    },
    {
      "cell_type": "code",
      "source": [
        "#Task7: Functions to modify set\n",
        "a={\"C\",\"France\",\"Python\"}\n",
        "b=a.copy()\n",
        "a.add(\"Ruby\")\n",
        "print(a)\n",
        "a.update(\"DJANGO\",\"POWER SHELL\")\n",
        "print(a)\n",
        "a.discard(\"ROM\") #Doesn't show any error for an item is not presented in list\n",
        "#a.remove(\"RAM\") --Shows error if item is not present\n",
        "print(a)\n",
        "print(b)\n",
        "print(a.clear()) #made set empty\n",
        "print(a)"
      ],
      "metadata": {
        "colab": {
          "base_uri": "https://localhost:8080/"
        },
        "id": "RaD1q8sbN1Oi",
        "outputId": "89182254-1390-4021-e841-ccf620e2012e"
      },
      "execution_count": null,
      "outputs": [
        {
          "output_type": "stream",
          "name": "stdout",
          "text": [
            "{'C', 'Python', 'France', 'Ruby'}\n",
            "{'O', 'C', 'A', ' ', 'S', 'R', 'H', 'E', 'L', 'France', 'Python', 'N', 'P', 'W', 'D', 'Ruby', 'G', 'J'}\n",
            "{'O', 'C', 'A', ' ', 'S', 'R', 'H', 'E', 'L', 'France', 'Python', 'N', 'P', 'W', 'D', 'Ruby', 'G', 'J'}\n",
            "{'C', 'Python', 'France'}\n",
            "None\n",
            "set()\n"
          ]
        }
      ]
    },
    {
      "cell_type": "code",
      "source": [
        "#Task8:SET operations\n",
        "a = {1, 2, 3}\n",
        "b = {3, 4, 5}\n",
        "\n",
        "print(a.union(b))\n",
        "print(a.intersection(b))\n",
        "print(a.difference(b))\n",
        "print(a.symmetric_difference(b))"
      ],
      "metadata": {
        "colab": {
          "base_uri": "https://localhost:8080/"
        },
        "id": "HgmzsKOJOQNf",
        "outputId": "6165583b-de21-45b6-968e-4e2a2a3f1807"
      },
      "execution_count": null,
      "outputs": [
        {
          "output_type": "stream",
          "name": "stdout",
          "text": [
            "{1, 2, 3, 4, 5}\n",
            "{3}\n",
            "{1, 2}\n",
            "{1, 2, 4, 5}\n"
          ]
        }
      ]
    },
    {
      "cell_type": "code",
      "source": [
        "# Task 9: Calculator with + - * / % // ** using if elif else\n",
        "\n",
        "a = float(input(\"Enter first number: \"))\n",
        "b = float(input(\"Enter second number: \"))\n",
        "op = input(\"Enter operator (+, -, *, /, %, //, **): \")\n",
        "\n",
        "if op == '+':\n",
        "    print(\"Result:\", a + b)\n",
        "elif op == '-':\n",
        "    print(\"Result:\", a - b)\n",
        "elif op == '*':\n",
        "    print(\"Result:\", a * b)\n",
        "elif op == '/':\n",
        "    if b != 0:\n",
        "        print(\"Result:\", a / b)\n",
        "    else:\n",
        "        print(\"Error: Division by zero!\")\n",
        "elif op == '%':\n",
        "    print(\"Result:\", a % b)\n",
        "elif op == '//':\n",
        "    print(\"Result:\", a // b)\n",
        "elif op == '':\n",
        "    print(\"Result:\", a ** b)\n",
        "else:\n",
        "    print(\"Invalid Operator\")\n"
      ],
      "metadata": {
        "colab": {
          "base_uri": "https://localhost:8080/"
        },
        "id": "I676_wT8OiaT",
        "outputId": "3caf30a7-e878-4b47-b37e-61d9d397bef8"
      },
      "execution_count": null,
      "outputs": [
        {
          "output_type": "stream",
          "name": "stdout",
          "text": [
            "Enter first number: 22\n",
            "Enter second number: 23\n",
            "Enter operator (+, -, *, /, %, //, **): +\n",
            "Result: 45.0\n"
          ]
        }
      ]
    },
    {
      "cell_type": "code",
      "source": [
        "#Task 10: For loop using tuple, dictionary, set\n",
        "# Tuple\n",
        "my_tuple = (10, 20, 30, 40)\n",
        "print(\"Tuple elements:\")\n",
        "for item in my_tuple:\n",
        "    print(item)\n",
        "\n",
        "# Dictionary\n",
        "my_dict = {\"name\": \"Alice\", \"age\": 22, \"city\": \"Hyderabad\"}\n",
        "print(\"\\nDictionary elements:\")\n",
        "for key, value in my_dict.items():\n",
        "    print(key, \":\", value)\n",
        "\n",
        "# Set\n",
        "my_set = {100, 200, 300, 400}\n",
        "print(\"\\nSet elements:\")\n",
        "for item in my_set:\n",
        "    print(item)"
      ],
      "metadata": {
        "colab": {
          "base_uri": "https://localhost:8080/"
        },
        "id": "Y4m_1CcaOwvM",
        "outputId": "9a8232c8-6052-4930-b33f-341eb4fbba40"
      },
      "execution_count": null,
      "outputs": [
        {
          "output_type": "stream",
          "name": "stdout",
          "text": [
            "Tuple elements:\n",
            "10\n",
            "20\n",
            "30\n",
            "40\n",
            "\n",
            "Dictionary elements:\n",
            "name : Alice\n",
            "age : 22\n",
            "city : Hyderabad\n",
            "\n",
            "Set elements:\n",
            "200\n",
            "100\n",
            "400\n",
            "300\n"
          ]
        }
      ]
    },
    {
      "cell_type": "code",
      "source": [
        "#task11-Structural Pattern Matching Calculator\n",
        "\n",
        "a = float(input(\"Enter first number: \"))\n",
        "b = float(input(\"Enter second number: \"))\n",
        "op = input(\"Enter operator (+, -, *, /, %, //, **): \")\n",
        "\n",
        "match op:\n",
        "    case '+':\n",
        "        print(\"Result:\", a + b)\n",
        "    case '-':\n",
        "        print(\"Result:\", a - b)\n",
        "    case '*':\n",
        "        print(\"Result:\", a * b)\n",
        "    case '/':\n",
        "        if b != 0:\n",
        "            print(\"Result:\", a / b)\n",
        "        else:\n",
        "            print(\"Error: Division by zero!\")\n",
        "    case '%':\n",
        "        print(\"Result:\", a % b)\n",
        "    case '//':\n",
        "        print(\"Result:\", a // b)\n",
        "    case '':\n",
        "        print(\"Result:\", a ** b)\n",
        "    case _:\n",
        "        print(\"Invalid Operator\")\n"
      ],
      "metadata": {
        "colab": {
          "base_uri": "https://localhost:8080/"
        },
        "id": "b_SfFnm8O7Zi",
        "outputId": "dfba5707-34d3-43a1-b69c-f23b49820fa8"
      },
      "execution_count": null,
      "outputs": [
        {
          "output_type": "stream",
          "name": "stdout",
          "text": [
            "Enter first number: 23\n",
            "Enter second number: 90\n",
            "Enter operator (+, -, *, /, %, //, **): -\n",
            "Result: -67.0\n"
          ]
        }
      ]
    },
    {
      "cell_type": "code",
      "source": [
        "#task12-write all file concept commands\n",
        "# Writing to a file\n",
        "f = open(\"example.txt\", \"w\")\n",
        "f.write(\"Hello, this is a file write example.\\n\")\n",
        "f.close()\n",
        "\n",
        "# Reading from a file\n",
        "f = open(\"example.txt\", \"r\")\n",
        "print(\"File Content:\\n\", f.read())\n",
        "f.close()\n",
        "\n",
        "# Appending to a file\n",
        "f = open(\"example.txt\", \"a\")\n",
        "f.write(\"This line is appended.\\n\")\n",
        "f.close()\n",
        "\n",
        "# Reading line by line\n",
        "f = open(\"example.txt\", \"r\")\n",
        "for line in f:\n",
        "    print(\"Line:\", line.strip())\n",
        "f.close()\n",
        "\n",
        "# Using with-statement (auto-closes file)\n",
        "with open(\"example.txt\", \"r\") as f:\n",
        "    data = f.read()\n",
        "    print(\"\\nUsing with-statement:\\n\", data)\n"
      ],
      "metadata": {
        "colab": {
          "base_uri": "https://localhost:8080/"
        },
        "id": "eex5pGX7PSAz",
        "outputId": "b0075b97-031c-4e5a-c81e-d711d48b2121"
      },
      "execution_count": null,
      "outputs": [
        {
          "output_type": "stream",
          "name": "stdout",
          "text": [
            "File Content:\n",
            " Hello, this is a file write example.\n",
            "\n",
            "Line: Hello, this is a file write example.\n",
            "Line: This line is appended.\n",
            "\n",
            "Using with-statement:\n",
            " Hello, this is a file write example.\n",
            "This line is appended.\n",
            "\n"
          ]
        }
      ]
    },
    {
      "cell_type": "code",
      "source": [
        "# Import sqlite3 module\n",
        "import sqlite3"
      ],
      "metadata": {
        "id": "Al8UK6k3QUS9"
      },
      "execution_count": null,
      "outputs": []
    },
    {
      "cell_type": "code",
      "source": [
        "# Create connection to a local database file in Colab\n",
        "connection = sqlite3.connect('hotel_data.db')"
      ],
      "metadata": {
        "id": "xBVjDl2jQjCp"
      },
      "execution_count": null,
      "outputs": []
    },
    {
      "cell_type": "code",
      "source": [
        "# Create table (only if not exists to avoid errors on rerun)\n",
        "connection.execute('''\n",
        "CREATE TABLE IF NOT EXISTS hotel (\n",
        "    FIND INTEGER PRIMARY KEY NOT NULL,\n",
        "    FNAME TEXT NOT NULL,\n",
        "    COST INTEGER NOT NULL,\n",
        "    WEIGHT INTEGER\n",
        ");\n",
        "''')"
      ],
      "metadata": {
        "colab": {
          "base_uri": "https://localhost:8080/"
        },
        "id": "6yc8iNcZQmb5",
        "outputId": "4854df90-6107-4e73-be75-c458fe17ea5e"
      },
      "execution_count": null,
      "outputs": [
        {
          "output_type": "execute_result",
          "data": {
            "text/plain": [
              "<sqlite3.Cursor at 0x783c04578ec0>"
            ]
          },
          "metadata": {},
          "execution_count": 19
        }
      ]
    },
    {
      "cell_type": "code",
      "source": [
        "# Insert data into the table\n",
        "connection.execute(\"INSERT INTO hotel VALUES (1, 'cakes', 800, 10)\")\n",
        "connection.execute(\"INSERT INTO hotel VALUES (2, 'biscuits', 100, 20)\")\n",
        "connection.execute(\"INSERT INTO hotel VALUES (3, 'chocos', 1000, 30)\")"
      ],
      "metadata": {
        "colab": {
          "base_uri": "https://localhost:8080/"
        },
        "id": "B91muxi5Qv-9",
        "outputId": "1c2558b1-eeeb-43cc-f9c2-34eca0546b5f"
      },
      "execution_count": null,
      "outputs": [
        {
          "output_type": "execute_result",
          "data": {
            "text/plain": [
              "<sqlite3.Cursor at 0x783c04579040>"
            ]
          },
          "metadata": {},
          "execution_count": 20
        }
      ]
    },
    {
      "cell_type": "code",
      "source": [
        "# Commit changes to save data\n",
        "connection.commit()\n",
        "\n",
        "print(\"All data in hotel table:\\n\")"
      ],
      "metadata": {
        "colab": {
          "base_uri": "https://localhost:8080/"
        },
        "id": "nu8ldW3yQ0CW",
        "outputId": "c55db9f9-9770-4397-821b-97cd1c8e8267"
      },
      "execution_count": null,
      "outputs": [
        {
          "output_type": "stream",
          "name": "stdout",
          "text": [
            "All data in hotel table:\n",
            "\n"
          ]
        }
      ]
    },
    {
      "cell_type": "code",
      "source": [
        "# Clear old data to avoid duplicate key errors\n",
        "connection.execute(\"DELETE FROM hotel\")"
      ],
      "metadata": {
        "colab": {
          "base_uri": "https://localhost:8080/"
        },
        "id": "X3VEmyGaRGy1",
        "outputId": "fbe68369-9d4a-4e85-f548-60aa2e0a5ac8"
      },
      "execution_count": null,
      "outputs": [
        {
          "output_type": "execute_result",
          "data": {
            "text/plain": [
              "<sqlite3.Cursor at 0x783c045790c0>"
            ]
          },
          "metadata": {},
          "execution_count": 23
        }
      ]
    },
    {
      "cell_type": "code",
      "source": [
        "# Insert new rows\n",
        "connection.execute(\"INSERT INTO hotel VALUES (1, 'cakes', 800, 10)\")\n",
        "connection.execute(\"INSERT INTO hotel VALUES (2, 'biscuits', 100, 20)\")\n",
        "connection.execute(\"INSERT INTO hotel VALUES (3, 'chocos', 1000, 30)\")"
      ],
      "metadata": {
        "colab": {
          "base_uri": "https://localhost:8080/"
        },
        "id": "ytpaHjjZRKZB",
        "outputId": "4191f3f8-e49e-48de-fc3c-7000d5ac1e3d"
      },
      "execution_count": null,
      "outputs": [
        {
          "output_type": "execute_result",
          "data": {
            "text/plain": [
              "<sqlite3.Cursor at 0x783c045791c0>"
            ]
          },
          "metadata": {},
          "execution_count": 24
        }
      ]
    },
    {
      "cell_type": "code",
      "source": [
        "# Save the data\n",
        "connection.commit()\n",
        "connection.close()\n",
        "\n",
        "print(\"✅ Data inserted successfully!\")"
      ],
      "metadata": {
        "colab": {
          "base_uri": "https://localhost:8080/"
        },
        "id": "SpZio9IMRljn",
        "outputId": "8e3e8ff5-87b0-4fd2-89b8-befc8b1f9c69"
      },
      "execution_count": null,
      "outputs": [
        {
          "output_type": "stream",
          "name": "stdout",
          "text": [
            "✅ Data inserted successfully!\n"
          ]
        }
      ]
    },
    {
      "cell_type": "code",
      "source": [
        "import sqlite3\n",
        "\n",
        "connection = sqlite3.connect('/content/hotel_data.db')\n",
        "\n",
        "print(\"All data in hotel table:\\n\")\n",
        "\n",
        "cursor = connection.execute(\"SELECT * FROM hotel\")\n",
        "\n",
        "rows = cursor.fetchall()\n",
        "\n",
        "if not rows:\n",
        "    print(\"⚠️ No data found in table!\")\n",
        "else:\n",
        "    for row in rows:\n",
        "        print(row)\n",
        "\n",
        "connection.close()\n"
      ],
      "metadata": {
        "colab": {
          "base_uri": "https://localhost:8080/"
        },
        "id": "GnNCwm2NRq-b",
        "outputId": "fec83f63-a01f-4e42-9380-cd6c68e53831"
      },
      "execution_count": null,
      "outputs": [
        {
          "output_type": "stream",
          "name": "stdout",
          "text": [
            "All data in hotel table:\n",
            "\n",
            "(1, 'cakes', 800, 10)\n",
            "(2, 'biscuits', 100, 20)\n",
            "(3, 'chocos', 1000, 30)\n"
          ]
        }
      ]
    },
    {
      "cell_type": "code",
      "source": [
        "# Create table (only if not exists to avoid errors on rerun)\n",
        "MySchool.execute('''\n",
        "CREATE TABLE IF NOT EXISTS student2 (\n",
        "    id INTEGER PRIMARY KEY NOT NULL,\n",
        "    name TEXT NOT NULL,\n",
        "    marks REAL\n",
        ");\n",
        "''')\n",
        "\n",
        "# Insert some initial data (optional, but helpful for testing the update)\n",
        "MySchool.execute(\"INSERT INTO student2 (name, marks) VALUES ('sony', 95.5)\")\n",
        "MySchool.execute(\"INSERT INTO student2 (name, marks) VALUES ('john', 88.0)\")\n",
        "MySchool.execute(\"INSERT INTO student2 (name, marks) VALUES ('jane', 76.2)\")\n",
        "\n",
        "MySchool.commit()\n",
        "print(\"Table 'student2' created and initial data inserted.\")"
      ],
      "metadata": {
        "colab": {
          "base_uri": "https://localhost:8080/"
        },
        "id": "ZRPdFnuUUB1m",
        "outputId": "f1474ff2-77f9-4be1-8870-9eaec0d06190"
      },
      "execution_count": null,
      "outputs": [
        {
          "output_type": "stream",
          "name": "stdout",
          "text": [
            "Table 'student2' created and initial data inserted.\n"
          ]
        }
      ]
    },
    {
      "cell_type": "code",
      "source": [
        "#UPDATING RECORD : Updating a Record - Example\n",
        "\n",
        "import sqlite3\n",
        "\n",
        "MySchool=sqlite3.connect('schoolweekend.db')\n",
        "\n",
        "#take input of the name\n",
        "\n",
        "nm=input(\"enter name: \")   # displays a record connected to a name that will be input by a user.\n",
        "\n",
        "#create a string of select query to fetch the record\n",
        "\n",
        "sql=\"SELECT * from student2 WHERE name='\"+nm+\"';\"\n",
        "\n",
        "#executing query\n",
        "\n",
        "curschool=MySchool.cursor()\n",
        "\n",
        "curschool.execute(sql)\n",
        "\n",
        "record=curschool.fetchone()\n",
        "\n",
        "print (record)\n",
        "\n",
        "#another input is accepted from the user as a replacement value for marks field. It is used to update the\n",
        "\n",
        "    #corresponding record in the student table.\n",
        "\n",
        "#Then run & marks gets updated.\n",
        "\n",
        "m=float(input(\"enter new marks: \"))\n",
        "\n",
        "sql=\"UPDATE student2 SET marks='\"+str(m)+\"' WHERE name='\"+nm+\"';\"\n",
        "\n",
        "try:\n",
        "\n",
        "    curschool.execute(sql)\n",
        "\n",
        "    MySchool.commit()\n",
        "\n",
        "    print (\"record updated successfully\")\n",
        "\n",
        "except:\n",
        "\n",
        "    print (\"error in update operation\")\n",
        "\n",
        "    MySchool.rollback()\n",
        "\n"
      ],
      "metadata": {
        "colab": {
          "base_uri": "https://localhost:8080/"
        },
        "id": "OB2exY9CSmRr",
        "outputId": "abaa0d2b-44cf-4cbe-9fac-d2753f388435"
      },
      "execution_count": null,
      "outputs": [
        {
          "output_type": "stream",
          "name": "stdout",
          "text": [
            "enter name: sony\n",
            "(1, 'sony', 95.5)\n",
            "enter new marks: 56\n",
            "record updated successfully\n"
          ]
        }
      ]
    },
    {
      "cell_type": "code",
      "source": [
        "#Deleting a Record\n",
        "\n",
        "import sqlite3\n",
        "\n",
        "MySchool=sqlite3.connect('anand.db')\n",
        "\n",
        "#accepting a name and retrieving the corresponding record\n",
        "\n",
        "nm=input(\"enter name: \")\n",
        "\n",
        "sql=\"SELECT * from student2 WHERE name='\"+nm+\"';\"\n",
        "\n",
        "curschool=MySchool.cursor()\n",
        "\n",
        "curschool.execute(sql)\n",
        "\n",
        "record=curschool.fetchone()\n",
        "\n",
        "print (record)\n",
        "\n",
        "#deleting the retrieved record\n",
        "\n",
        "res=input(\"do you want to delete this record?(Y/N): \")\n",
        "\n",
        "sql=\"DELETE FROM student2 WHERE name='\"+nm+\"';\"\n",
        "\n",
        "if res=='Y':\n",
        "\n",
        "    try:\n",
        "\n",
        "        curschool.execute(sql)\n",
        "\n",
        "        MySchool.commit()\n",
        "\n",
        "        print (\"record deleted successfully\")\n",
        "\n",
        "    except:\n",
        "\n",
        "        print (\"error in update operation\")\n",
        "\n",
        "        MySchool.rollback()\n",
        "\n",
        "MySchool.close()\n",
        "\n"
      ],
      "metadata": {
        "colab": {
          "base_uri": "https://localhost:8080/"
        },
        "id": "9YXCZon6T1Q1",
        "outputId": "e5d389e8-d3e4-4903-fc4b-c5462b24c5ec"
      },
      "execution_count": null,
      "outputs": [
        {
          "name": "stdout",
          "output_type": "stream",
          "text": [
            "enter name: sony\n",
            "(1, 'sony', 95.5)\n",
            "do you want to delete this record?(Y/N): y\n"
          ]
        }
      ]
    },
    {
      "cell_type": "code",
      "source": [
        "# ---------- MATPLOTLIB USAGE-------------------"
      ],
      "metadata": {
        "id": "sQLsqB2XgyOI"
      },
      "execution_count": null,
      "outputs": []
    },
    {
      "cell_type": "code",
      "source": [
        "!pip install matplotlib"
      ],
      "metadata": {
        "colab": {
          "base_uri": "https://localhost:8080/"
        },
        "id": "fRs35xy2fdNZ",
        "outputId": "43c3b8ab-74d2-43c7-d709-16ead68986f6"
      },
      "execution_count": null,
      "outputs": [
        {
          "output_type": "stream",
          "name": "stdout",
          "text": [
            "Requirement already satisfied: matplotlib in /usr/local/lib/python3.12/dist-packages (3.10.0)\n",
            "Requirement already satisfied: contourpy>=1.0.1 in /usr/local/lib/python3.12/dist-packages (from matplotlib) (1.3.3)\n",
            "Requirement already satisfied: cycler>=0.10 in /usr/local/lib/python3.12/dist-packages (from matplotlib) (0.12.1)\n",
            "Requirement already satisfied: fonttools>=4.22.0 in /usr/local/lib/python3.12/dist-packages (from matplotlib) (4.60.1)\n",
            "Requirement already satisfied: kiwisolver>=1.3.1 in /usr/local/lib/python3.12/dist-packages (from matplotlib) (1.4.9)\n",
            "Requirement already satisfied: numpy>=1.23 in /usr/local/lib/python3.12/dist-packages (from matplotlib) (2.0.2)\n",
            "Requirement already satisfied: packaging>=20.0 in /usr/local/lib/python3.12/dist-packages (from matplotlib) (25.0)\n",
            "Requirement already satisfied: pillow>=8 in /usr/local/lib/python3.12/dist-packages (from matplotlib) (11.3.0)\n",
            "Requirement already satisfied: pyparsing>=2.3.1 in /usr/local/lib/python3.12/dist-packages (from matplotlib) (3.2.5)\n",
            "Requirement already satisfied: python-dateutil>=2.7 in /usr/local/lib/python3.12/dist-packages (from matplotlib) (2.9.0.post0)\n",
            "Requirement already satisfied: six>=1.5 in /usr/local/lib/python3.12/dist-packages (from python-dateutil>=2.7->matplotlib) (1.17.0)\n"
          ]
        }
      ]
    },
    {
      "cell_type": "code",
      "source": [
        "#1.Simple linear plot\n",
        "\n",
        "import matplotlib\n",
        "\n",
        "# Use a backend compatible with Colab\n",
        "matplotlib.use('module://ipykernel.pylab.backend_inline')\n",
        "\n",
        "import matplotlib.pyplot as plt    #from matplotlib import pyplot as plt\n",
        "\n",
        "plt.plot(range(10))   #matplotlib.pyplot.plot\n",
        "\n",
        "#[<matplotlib.lines.Line2D object at 0x0000012F96C69A00>]\n",
        "\n",
        "plt.show()"
      ],
      "metadata": {
        "colab": {
          "base_uri": "https://localhost:8080/",
          "height": 430
        },
        "id": "q4L1rsWwg6aX",
        "outputId": "217e1703-a042-476d-c22a-6616ff0d1b30"
      },
      "execution_count": null,
      "outputs": [
        {
          "output_type": "display_data",
          "data": {
            "text/plain": [
              "<Figure size 640x480 with 1 Axes>"
            ],
            "image/png": "[encoded data removed]"
          },
          "metadata": {}
        }
      ]
    },
    {
      "cell_type": "code",
      "source": [
        "#Pie Chart - A pie chart is a circular chart divided into sectors, each representing a proportion of the whole. They are commonly used to show relative proportions of a set of values or to compare parts of a whole. Pie charts are easy to read and provide a quick visual summary of the data.\n",
        "\n",
        "import matplotlib.pyplot as plt\n",
        "\n",
        "x = ['Apples', 'Bananas', 'Oranges']\n",
        "\n",
        "y = [15, 20, 25]\n",
        "\n",
        "plt.pie(y, labels=x)\n",
        "\n",
        "plt.title('Simple Pie Chart')\n",
        "\n",
        "plt.show()\n"
      ],
      "metadata": {
        "colab": {
          "base_uri": "https://localhost:8080/",
          "height": 428
        },
        "id": "GN4Xqd9pjOoh",
        "outputId": "f14d58d6-cd04-48ea-e418-4f52c528303e"
      },
      "execution_count": null,
      "outputs": [
        {
          "output_type": "display_data",
          "data": {
            "text/plain": [
              "<Figure size 640x480 with 1 Axes>"
            ],
            "image/png": "[encoded data removed]"
          },
          "metadata": {}
        }
      ]
    },
    {
      "cell_type": "code",
      "source": [
        "#Pie Chart - A pie chart is a circular chart divided into sectors, each representing a proportion of the whole. They are commonly used to show relative proportions of a set of values or to compare parts of a whole. Pie charts are easy to read and provide a quick visual summary of the data.\n",
        "\n",
        "import matplotlib.pyplot as plt\n",
        "\n",
        "x = ['Apples', 'Bananas', 'Oranges']\n",
        "\n",
        "y = [15, 20, 25]\n",
        "\n",
        "plt.bar(x, height=y, label=x)\n",
        "\n",
        "plt.title('Simple bar chart')\n",
        "\n",
        "plt.show()"
      ],
      "metadata": {
        "colab": {
          "base_uri": "https://localhost:8080/",
          "height": 452
        },
        "id": "9uCdVJkWjSae",
        "outputId": "ff801ebe-c35d-4bf2-9131-65d1fd1fadd0"
      },
      "execution_count": null,
      "outputs": [
        {
          "output_type": "display_data",
          "data": {
            "text/plain": [
              "<Figure size 640x480 with 1 Axes>"
            ],
            "image/png": "[encoded data removed]"
          },
          "metadata": {}
        }
      ]
    },
    {
      "cell_type": "code",
      "source": [
        "#Pie Chart - A pie chart is a circular chart divided into sectors, each representing a proportion of the whole. They are commonly used to show relative proportions of a set of values or to compare parts of a whole. Pie charts are easy to read and provide a quick visual summary of the data.\n",
        "\n",
        "import matplotlib.pyplot as plt\n",
        "\n",
        "x = ['Apples', 'Bananas', 'Oranges']\n",
        "\n",
        "y = [15, 20, 25]\n",
        "\n",
        "plt.plot(x, y)\n",
        "\n",
        "plt.title('Simple Line Chart')\n",
        "\n",
        "plt.show()"
      ],
      "metadata": {
        "colab": {
          "base_uri": "https://localhost:8080/",
          "height": 452
        },
        "id": "nlp0vYSPjkon",
        "outputId": "3d79d416-2668-4ef0-e1ce-dc2cb2859eb4"
      },
      "execution_count": null,
      "outputs": [
        {
          "output_type": "display_data",
          "data": {
            "text/plain": [
              "<Figure size 640x480 with 1 Axes>"
            ],
            "image/png": "[encoded data removed]"
          },
          "metadata": {}
        }
      ]
    },
    {
      "cell_type": "code",
      "source": [
        "TYPES OF ML\n",
        "\n",
        "#1. Supervised Learning\n",
        "\n",
        "Goal: Learn from labeled data.\n",
        "\n",
        "Types & Algorithms:\n",
        "\n",
        "Regression =  Linear, SVR, Random Forest, XGBoost\n",
        "\n",
        "Classification → Logistic, KNN, SVM, Decision Tree, Naive Bayes\n",
        "\n",
        "#2. Unsupervised Learning\n",
        "\n",
        "Goal: Find patterns in unlabeled data.\n",
        "\n",
        "Types & Algorithms:\n",
        "\n",
        "Clustering = K-Means, Hierarchical, DBSCAN\n",
        "\n",
        "Dimensionality Reduction → PCA, t-SNE, Autoencoders\n",
        "\n",
        "#3. Semi-Supervised Learning\n",
        "\n",
        "Goal: Small labeled + large unlabeled data.\n",
        "\n",
        "Algorithms: Label Propagation, Semi-Supervised SVM\n",
        "\n",
        "#4. Reinforcement Learning\n",
        "\n",
        "Goal: Learn by rewards/penalties.\n",
        "\n",
        "Algorithms: Q-Learning, DQN, Policy Gradient, Actor-Critic\n",
        "\n",
        "#5. Ensemble & Deep Learning\n",
        "\n",
        "Ensemble: Random Forest, AdaBoost, XGBoost\n",
        "\n",
        "Deep Learning: CNN (images), RNN (sequences), Transformers (NLP), GANs (generation)"
      ],
      "metadata": {
        "id": "Vg5R36ejC-vl"
      },
      "execution_count": null,
      "outputs": []
    },
    {
      "cell_type": "code",
      "source": [
        "Different Catagories ML used:\n",
        "\n",
        "1. Supervised Learning\n",
        "\n",
        "Goal: Learn from labeled data\n",
        "\n",
        "Use: Predict prices, detect spam, classify diseases\n",
        "\n",
        "Algorithms: Linear/Logistic Regression, Decision Trees, SVM, KNN\n",
        "\n",
        "2. Unsupervised Learning\n",
        "\n",
        "Goal: Find patterns in unlabeled data\n",
        "\n",
        "Use: Customer segmentation, anomaly detection, data clustering\n",
        "\n",
        "Algorithms: K-Means, Hierarchical Clustering, PCA\n",
        "\n",
        "3. Reinforcement Learning\n",
        "\n",
        "Goal: Learn by trial & error using rewards\n",
        "\n",
        "Use: Game AI, robotics, recommendation systems\n",
        "\n",
        "Algorithms: Q-Learning, Deep Q-Networks\n",
        "\n",
        "4. Semi-Supervised Learning\n",
        "\n",
        "Goal: Use small labeled + large unlabeled data\n",
        "\n",
        "Use: Web content classification, medical data analysis"
      ],
      "metadata": {
        "id": "ysiJLRQOEAMO"
      },
      "execution_count": null,
      "outputs": []
    }
  ]
}