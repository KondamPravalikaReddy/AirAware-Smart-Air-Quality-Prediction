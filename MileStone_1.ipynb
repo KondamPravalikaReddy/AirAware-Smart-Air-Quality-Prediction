{
  "nbformat": 4,
  "nbformat_minor": 0,
  "metadata": {
    "colab": {
      "provenance": [],
      "authorship_tag": "ABX9TyOp0lClLSKt3KwWlBLao/kX",
      "include_colab_link": true
    },
    "kernelspec": {
      "name": "python3",
      "display_name": "Python 3"
    },
    "language_info": {
      "name": "python"
    }
  },
  "cells": [
    {
      "cell_type": "markdown",
      "metadata": {
        "id": "view-in-github",
        "colab_type": "text"
      },
      "source": [
        "<a href=\"https://colab.research.google.com/github/KondamPravalikaReddy/AirAware-Smart-Air-Quality-Prediction/blob/main/MileStone_1.ipynb\" target=\"_parent\"><img src=\"https://colab.research.google.com/assets/colab-badge.svg\" alt=\"Open In Colab\"/></a>"
      ]
    },
    {
      "cell_type": "code",
      "execution_count": null,
      "metadata": {
        "id": "OyWCYUoFlo1F"
      },
      "outputs": [],
      "source": [
        "# Install & Setup Kaggle API\n",
        "!pip install kaggle -q"
      ]
    },
    {
      "cell_type": "code",
      "source": [
        "# Upload kaggle.json (from your Kaggle account → API → Create New Token)\n",
        "from google.colab import files\n",
        "files.upload()   # Upload kaggle.json here"
      ],
      "metadata": {
        "colab": {
          "base_uri": "https://localhost:8080/",
          "height": 90
        },
        "id": "00vhdzornq1h",
        "outputId": "d2f8579c-3029-4001-fd6c-cab819ad3574"
      },
      "execution_count": null,
      "outputs": [
        {
          "output_type": "display_data",
          "data": {
            "text/plain": [
              "<IPython.core.display.HTML object>"
            ],
            "text/html": [
              "\n",
              "     <input type=\"file\" id=\"files-1df4c6c3-52f4-4459-b664-bcf4f6f5cff3\" name=\"files[]\" multiple disabled\n",
              "        style=\"border:none\" />\n",
              "     <output id=\"result-1df4c6c3-52f4-4459-b664-bcf4f6f5cff3\">\n",
              "      Upload widget is only available when the cell has been executed in the\n",
              "      current browser session. Please rerun this cell to enable.\n",
              "      </output>\n",
              "      <script>// Copyright 2017 Google LLC\n",
              "//\n",
              "// Licensed under the Apache License, Version 2.0 (the \"License\");\n",
              "// you may not use this file except in compliance with the License.\n",
              "// You may obtain a copy of the License at\n",
              "//\n",
              "//      http://www.apache.org/licenses/LICENSE-2.0\n",
              "//\n",
              "// Unless required by applicable law or agreed to in writing, software\n",
              "// distributed under the License is distributed on an \"AS IS\" BASIS,\n",
              "// WITHOUT WARRANTIES OR CONDITIONS OF ANY KIND, either express or implied.\n",
              "// See the License for the specific language governing permissions and\n",
              "// limitations under the License.\n",
              "\n",
              "/**\n",
              " * @fileoverview Helpers for google.colab Python module.\n",
              " */\n",
              "(function(scope) {\n",
              "function span(text, styleAttributes = {}) {\n",
              "  const element = document.createElement('span');\n",
              "  element.textContent = text;\n",
              "  for (const key of Object.keys(styleAttributes)) {\n",
              "    element.style[key] = styleAttributes[key];\n",
              "  }\n",
              "  return element;\n",
              "}\n",
              "\n",
              "// Max number of bytes which will be uploaded at a time.\n",
              "const MAX_PAYLOAD_SIZE = 100 * 1024;\n",
              "\n",
              "function _uploadFiles(inputId, outputId) {\n",
              "  const steps = uploadFilesStep(inputId, outputId);\n",
              "  const outputElement = document.getElementById(outputId);\n",
              "  // Cache steps on the outputElement to make it available for the next call\n",
              "  // to uploadFilesContinue from Python.\n",
              "  outputElement.steps = steps;\n",
              "\n",
              "  return _uploadFilesContinue(outputId);\n",
              "}\n",
              "\n",
              "// This is roughly an async generator (not supported in the browser yet),\n",
              "// where there are multiple asynchronous steps and the Python side is going\n",
              "// to poll for completion of each step.\n",
              "// This uses a Promise to block the python side on completion of each step,\n",
              "// then passes the result of the previous step as the input to the next step.\n",
              "function _uploadFilesContinue(outputId) {\n",
              "  const outputElement = document.getElementById(outputId);\n",
              "  const steps = outputElement.steps;\n",
              "\n",
              "  const next = steps.next(outputElement.lastPromiseValue);\n",
              "  return Promise.resolve(next.value.promise).then((value) => {\n",
              "    // Cache the last promise value to make it available to the next\n",
              "    // step of the generator.\n",
              "    outputElement.lastPromiseValue = value;\n",
              "    return next.value.response;\n",
              "  });\n",
              "}\n",
              "\n",
              "/**\n",
              " * Generator function which is called between each async step of the upload\n",
              " * process.\n",
              " * @param {string} inputId Element ID of the input file picker element.\n",
              " * @param {string} outputId Element ID of the output display.\n",
              " * @return {!Iterable<!Object>} Iterable of next steps.\n",
              " */\n",
              "function* uploadFilesStep(inputId, outputId) {\n",
              "  const inputElement = document.getElementById(inputId);\n",
              "  inputElement.disabled = false;\n",
              "\n",
              "  const outputElement = document.getElementById(outputId);\n",
              "  outputElement.innerHTML = '';\n",
              "\n",
              "  const pickedPromise = new Promise((resolve) => {\n",
              "    inputElement.addEventListener('change', (e) => {\n",
              "      resolve(e.target.files);\n",
              "    });\n",
              "  });\n",
              "\n",
              "  const cancel = document.createElement('button');\n",
              "  inputElement.parentElement.appendChild(cancel);\n",
              "  cancel.textContent = 'Cancel upload';\n",
              "  const cancelPromise = new Promise((resolve) => {\n",
              "    cancel.onclick = () => {\n",
              "      resolve(null);\n",
              "    };\n",
              "  });\n",
              "\n",
              "  // Wait for the user to pick the files.\n",
              "  const files = yield {\n",
              "    promise: Promise.race([pickedPromise, cancelPromise]),\n",
              "    response: {\n",
              "      action: 'starting',\n",
              "    }\n",
              "  };\n",
              "\n",
              "  cancel.remove();\n",
              "\n",
              "  // Disable the input element since further picks are not allowed.\n",
              "  inputElement.disabled = true;\n",
              "\n",
              "  if (!files) {\n",
              "    return {\n",
              "      response: {\n",
              "        action: 'complete',\n",
              "      }\n",
              "    };\n",
              "  }\n",
              "\n",
              "  for (const file of files) {\n",
              "    const li = document.createElement('li');\n",
              "    li.append(span(file.name, {fontWeight: 'bold'}));\n",
              "    li.append(span(\n",
              "        `(${file.type || 'n/a'}) - ${file.size} bytes, ` +\n",
              "        `last modified: ${\n",
              "            file.lastModifiedDate ? file.lastModifiedDate.toLocaleDateString() :\n",
              "                                    'n/a'} - `));\n",
              "    const percent = span('0% done');\n",
              "    li.appendChild(percent);\n",
              "\n",
              "    outputElement.appendChild(li);\n",
              "\n",
              "    const fileDataPromise = new Promise((resolve) => {\n",
              "      const reader = new FileReader();\n",
              "      reader.onload = (e) => {\n",
              "        resolve(e.target.result);\n",
              "      };\n",
              "      reader.readAsArrayBuffer(file);\n",
              "    });\n",
              "    // Wait for the data to be ready.\n",
              "    let fileData = yield {\n",
              "      promise: fileDataPromise,\n",
              "      response: {\n",
              "        action: 'continue',\n",
              "      }\n",
              "    };\n",
              "\n",
              "    // Use a chunked sending to avoid message size limits. See b/62115660.\n",
              "    let position = 0;\n",
              "    do {\n",
              "      const length = Math.min(fileData.byteLength - position, MAX_PAYLOAD_SIZE);\n",
              "      const chunk = new Uint8Array(fileData, position, length);\n",
              "      position += length;\n",
              "\n",
              "      const base64 = btoa(String.fromCharCode.apply(null, chunk));\n",
              "      yield {\n",
              "        response: {\n",
              "          action: 'append',\n",
              "          file: file.name,\n",
              "          data: base64,\n",
              "        },\n",
              "      };\n",
              "\n",
              "      let percentDone = fileData.byteLength === 0 ?\n",
              "          100 :\n",
              "          Math.round((position / fileData.byteLength) * 100);\n",
              "      percent.textContent = `${percentDone}% done`;\n",
              "\n",
              "    } while (position < fileData.byteLength);\n",
              "  }\n",
              "\n",
              "  // All done.\n",
              "  yield {\n",
              "    response: {\n",
              "      action: 'complete',\n",
              "    }\n",
              "  };\n",
              "}\n",
              "\n",
              "scope.google = scope.google || {};\n",
              "scope.google.colab = scope.google.colab || {};\n",
              "scope.google.colab._files = {\n",
              "  _uploadFiles,\n",
              "  _uploadFilesContinue,\n",
              "};\n",
              "})(self);\n",
              "</script> "
            ]
          },
          "metadata": {}
        },
        {
          "output_type": "stream",
          "name": "stdout",
          "text": [
            "Saving kaggle.json to kaggle.json\n"
          ]
        },
        {
          "output_type": "execute_result",
          "data": {
            "text/plain": [
              "{'kaggle.json': b'{\"username\":\"pravalikareddi\",\"key\":\"cc23ca85e0877e600aaa326978d10bad\"}'}"
            ]
          },
          "metadata": {},
          "execution_count": 1
        }
      ]
    },
    {
      "cell_type": "code",
      "source": [
        "# Move kaggle.json to correct path\n",
        "!mkdir -p ~/.kaggle\n",
        "!cp kaggle.json ~/.kaggle/\n",
        "!chmod 600 ~/.kaggle/kaggle.json"
      ],
      "metadata": {
        "id": "Kgr_E3xUnxJ4"
      },
      "execution_count": null,
      "outputs": []
    },
    {
      "cell_type": "code",
      "source": [
        "# Download Dataset\n",
        "!kaggle datasets download -d taweilo/taiwan-air-quality-data-20162024 -p ./ --unzip"
      ],
      "metadata": {
        "colab": {
          "base_uri": "https://localhost:8080/"
        },
        "id": "hasa02knn5X4",
        "outputId": "8ce52378-1802-4926-ab1e-c6a97e48ea07"
      },
      "execution_count": null,
      "outputs": [
        {
          "output_type": "stream",
          "name": "stdout",
          "text": [
            "Dataset URL: https://www.kaggle.com/datasets/taweilo/taiwan-air-quality-data-20162024\n",
            "License(s): CC0-1.0\n",
            "Downloading taiwan-air-quality-data-20162024.zip to .\n",
            " 74% 127M/172M [00:00<00:00, 1.33GB/s]\n",
            "100% 172M/172M [00:00<00:00, 1.12GB/s]\n"
          ]
        }
      ]
    },
    {
      "cell_type": "code",
      "source": [
        "# 3. Import Libraries\n",
        "import pandas as pd\n",
        "import numpy as np\n",
        "import matplotlib.pyplot as plt\n",
        "import seaborn as sns"
      ],
      "metadata": {
        "id": "8DnpgZxFoDfv"
      },
      "execution_count": null,
      "outputs": []
    },
    {
      "cell_type": "code",
      "source": [
        "# 4. Load Dataset\n",
        "import pandas as pd\n",
        "df = pd.read_csv(\"air_quality.csv\", low_memory=False) # file name after unzip\n",
        "print(\"Original Data:\\n\")\n",
        "print(df.head())"
      ],
      "metadata": {
        "colab": {
          "base_uri": "https://localhost:8080/"
        },
        "id": "0D4WhS-hoJVm",
        "outputId": "56da71f7-c2f4-477b-9349-c974c7e73a0e"
      },
      "execution_count": null,
      "outputs": [
        {
          "output_type": "stream",
          "name": "stdout",
          "text": [
            "Original Data:\n",
            "\n",
            "               date   sitename          county   aqi pollutant    status  so2  \\\n",
            "0  2024-08-31 23:00      Hukou  Hsinchu County  62.0     PM2.5  Moderate  0.9   \n",
            "1  2024-08-31 23:00  Zhongming   Taichung City  50.0       NaN      Good  1.6   \n",
            "2  2024-08-31 23:00    Zhudong  Hsinchu County  45.0       NaN      Good  0.4   \n",
            "3  2024-08-31 23:00    Hsinchu    Hsinchu City  42.0       NaN      Good  0.8   \n",
            "4  2024-08-31 23:00     Toufen   Miaoli County  50.0       NaN      Good  1.0   \n",
            "\n",
            "     co    o3 o3_8hr  ... windspeed winddirec unit co_8hr pm2.5_avg pm10_avg  \\\n",
            "0  0.17  35.0   40.2  ...       2.3       225  NaN    0.2      20.1     26.0   \n",
            "1  0.32  27.9   35.1  ...       1.1       184  NaN    0.2      15.3     23.0   \n",
            "2  0.17  25.1   40.6  ...       0.4       210  NaN    0.2      13.8     24.0   \n",
            "3   0.2  30.0   35.9  ...       1.9       239  NaN    0.2      13.0     26.0   \n",
            "4  0.16  33.5   35.9  ...       1.8       259  NaN    0.1      15.3     28.0   \n",
            "\n",
            "  so2_avg   longitude   latitude siteid  \n",
            "0     1.0  121.038869  24.900097   22.0  \n",
            "1     1.0  120.641092  24.151958   31.0  \n",
            "2     0.0  121.088955  24.740914   23.0  \n",
            "3     1.0  120.972368  24.805636   24.0  \n",
            "4     1.0  120.898693  24.696907   25.0  \n",
            "\n",
            "[5 rows x 25 columns]\n"
          ]
        }
      ]
    },
    {
      "cell_type": "code",
      "source": [
        "# Data Cleaning\n",
        "\n",
        "# Check null values\n",
        "print(\"\\nMissing Values:\\n\", df.isnull().sum())\n",
        "\n",
        "# Convert 'pm2.5', 'pm10', and 'o3' to numeric, coercing errors to NaN\n",
        "df['pm2.5'] = pd.to_numeric(df['pm2.5'], errors='coerce')\n",
        "df['pm10'] = pd.to_numeric(df['pm10'], errors='coerce')\n",
        "df['o3'] = pd.to_numeric(df['o3'], errors='coerce')\n",
        "\n",
        "\n",
        "# Example: fill numeric columns with mean\n",
        "for col in df.select_dtypes(include=[np.number]).columns:\n",
        "    df[col] = df[col].fillna(df[col].mean())\n",
        "\n",
        "\n",
        "# Example: fill categorical/text columns with mode\n",
        "for col in df.select_dtypes(include=['object']).columns:\n",
        "    df[col] = df[col].fillna(df[col].mode()[0])\n",
        "\n",
        "# Convert Date column to datetime\n",
        "df['date'] = pd.to_datetime(df['date'], errors='coerce')\n",
        "\n",
        "# Drop duplicates\n",
        "df.drop_duplicates(inplace=True)\n",
        "\n",
        "# Check null values after cleaning\n",
        "print(\"\\nMissing Values After Cleaning:\\n\", df.isnull().sum())"
      ],
      "metadata": {
        "colab": {
          "base_uri": "https://localhost:8080/"
        },
        "id": "XWSz3Z4eoovs",
        "outputId": "c91ed3d3-2d3f-4ae3-fa69-8d984440e1e3"
      },
      "execution_count": null,
      "outputs": [
        {
          "output_type": "stream",
          "name": "stdout",
          "text": [
            "\n",
            "Missing Values:\n",
            " date              85\n",
            "sitename           0\n",
            "county             0\n",
            "aqi                0\n",
            "pollutant          0\n",
            "status             0\n",
            "so2                0\n",
            "co                 0\n",
            "o3                 0\n",
            "o3_8hr             0\n",
            "pm10               0\n",
            "pm2.5              0\n",
            "no2                0\n",
            "nox                0\n",
            "no                 0\n",
            "windspeed          0\n",
            "winddirec          0\n",
            "unit         5881862\n",
            "co_8hr             0\n",
            "pm2.5_avg          0\n",
            "pm10_avg           0\n",
            "so2_avg            0\n",
            "longitude          0\n",
            "latitude           0\n",
            "siteid             0\n",
            "Year              85\n",
            "Month             85\n",
            "dtype: int64\n",
            "\n",
            "Missing Values After Cleaning:\n",
            " date              85\n",
            "sitename           0\n",
            "county             0\n",
            "aqi                0\n",
            "pollutant          0\n",
            "status             0\n",
            "so2                0\n",
            "co                 0\n",
            "o3                 0\n",
            "o3_8hr             0\n",
            "pm10               0\n",
            "pm2.5              0\n",
            "no2                0\n",
            "nox                0\n",
            "no                 0\n",
            "windspeed          0\n",
            "winddirec          0\n",
            "unit         5881806\n",
            "co_8hr             0\n",
            "pm2.5_avg          0\n",
            "pm10_avg           0\n",
            "so2_avg            0\n",
            "longitude          0\n",
            "latitude           0\n",
            "siteid             0\n",
            "Year               0\n",
            "Month              0\n",
            "dtype: int64\n"
          ]
        }
      ]
    },
    {
      "cell_type": "code",
      "source": [
        "#  Basic Overview\n",
        "print(\"\\nShape:\", df.shape)\n",
        "print(\"\\nData Types:\\n\", df.dtypes)\n",
        "print(\"\\nSummary Stats:\\n\", df.describe())"
      ],
      "metadata": {
        "colab": {
          "base_uri": "https://localhost:8080/"
        },
        "id": "9ukDTs4-pitH",
        "outputId": "0bad74b5-dba6-4134-c8f3-b35472751f8b"
      },
      "execution_count": null,
      "outputs": [
        {
          "output_type": "stream",
          "name": "stdout",
          "text": [
            "\n",
            "Shape: (5882189, 25)\n",
            "\n",
            "Data Types:\n",
            " date         datetime64[ns]\n",
            "sitename             object\n",
            "county               object\n",
            "aqi                 float64\n",
            "pollutant            object\n",
            "status               object\n",
            "so2                  object\n",
            "co                   object\n",
            "o3                   object\n",
            "o3_8hr               object\n",
            "pm10                 object\n",
            "pm2.5                object\n",
            "no2                  object\n",
            "nox                  object\n",
            "no                   object\n",
            "windspeed            object\n",
            "winddirec            object\n",
            "unit                float64\n",
            "co_8hr               object\n",
            "pm2.5_avg            object\n",
            "pm10_avg             object\n",
            "so2_avg              object\n",
            "longitude           float64\n",
            "latitude            float64\n",
            "siteid              float64\n",
            "dtype: object\n",
            "\n",
            "Summary Stats:\n",
            "                                 date           aqi  unit     longitude  \\\n",
            "count                        5882104  5.882189e+06   0.0  5.882189e+06   \n",
            "mean   2020-11-22 10:44:45.515795200  5.419279e+01   NaN  1.208235e+02   \n",
            "min              2016-11-25 13:00:00 -1.000000e+00   NaN  0.000000e+00   \n",
            "25%              2019-02-06 01:00:00  3.200000e+01   NaN  1.204097e+02   \n",
            "50%              2021-01-29 23:00:00  4.700000e+01   NaN  1.208235e+02   \n",
            "75%              2022-09-07 17:00:00  7.000000e+01   NaN  1.213087e+02   \n",
            "max              2024-08-31 23:00:00  5.000000e+02   NaN  1.218157e+02   \n",
            "std                              NaN  2.974928e+01   NaN  8.845729e-01   \n",
            "\n",
            "           latitude        siteid  \n",
            "count  5.882189e+06  5.882189e+06  \n",
            "mean   2.404500e+01  5.608588e+01  \n",
            "min    0.000000e+00  0.000000e+00  \n",
            "25%    2.346278e+01  3.100000e+01  \n",
            "50%    2.404500e+01  5.608608e+01  \n",
            "75%    2.495328e+01  5.608608e+01  \n",
            "max    2.625800e+01  3.140000e+02  \n",
            "std    9.190609e-01  5.205861e+01  \n"
          ]
        }
      ]
    },
    {
      "cell_type": "code",
      "source": [
        "#  Univariate Analysis\n",
        "plt.figure(figsize=(8,4))\n",
        "sns.histplot(df[\"pm2.5\"], kde=True, color=\"blue\", bins=30)\n",
        "plt.title(\"PM2.5 Distribution\")\n",
        "plt.show()\n",
        "\n",
        "plt.figure(figsize=(8,4))\n",
        "sns.boxplot(x=df[\"pm2.5\"], color=\"orange\")\n",
        "plt.title(\"PM2.5 Boxplot\")\n",
        "plt.show()"
      ],
      "metadata": {
        "colab": {
          "base_uri": "https://localhost:8080/",
          "height": 410
        },
        "id": "hR9_h8papqnS",
        "outputId": "5515e012-6b9f-4c49-8d9e-acbb961790eb"
      },
      "execution_count": null,
      "outputs": [
        {
          "output_type": "display_data",
          "data": {
            "text/plain": [
              "<Figure size 800x400 with 1 Axes>"
            ],
            "image/png": "[encoded data removed]"
          },
          "metadata": {}
        }
      ]
    },
    {
      "cell_type": "code",
      "source": [
        "#  Bivariate Analysis\n",
        "plt.figure(figsize=(8,4))\n",
        "sns.scatterplot(x=\"pm10\", y=\"pm2.5\", data=df, alpha=0.5)\n",
        "plt.title(\"PM10 vs PM2.5\")\n",
        "plt.show()\n",
        "\n",
        "plt.figure(figsize=(8,6))\n",
        "sns.heatmap(df.corr(numeric_only=True), annot=True, cmap=\"coolwarm\")\n",
        "plt.title(\"Correlation Heatmap\")\n",
        "plt.show()"
      ],
      "metadata": {
        "colab": {
          "base_uri": "https://localhost:8080/",
          "height": 938
        },
        "id": "wzuVRf7709Xq",
        "outputId": "b83e438d-025f-4c01-bf20-206059ccf5de"
      },
      "execution_count": null,
      "outputs": [
        {
          "output_type": "display_data",
          "data": {
            "text/plain": [
              "<Figure size 800x400 with 1 Axes>"
            ],
            "image/png": "[encoded data removed]"
          },
          "metadata": {}
        },
        {
          "output_type": "display_data",
          "data": {
            "text/plain": [
              "<Figure size 800x600 with 2 Axes>"
            ],
            "image/png": "[encoded data removed]"
          },
          "metadata": {}
        }
      ]
    },
    {
      "cell_type": "code",
      "source": [
        "#  Date-Time Analysis\n",
        "df[\"Year\"] = df[\"date\"].dt.year\n",
        "df[\"Month\"] = df[\"date\"].dt.month\n",
        "\n",
        "plt.figure(figsize=(10,4))\n",
        "df[\"Year\"].value_counts().sort_index().plot(kind=\"bar\", color=\"purple\")\n",
        "plt.title(\"Records per Year\")\n",
        "plt.xlabel(\"Year\")\n",
        "plt.ylabel(\"Count\")\n",
        "plt.show()"
      ],
      "metadata": {
        "colab": {
          "base_uri": "https://localhost:8080/",
          "height": 444
        },
        "id": "xEPbq5Rx19XB",
        "outputId": "9fa5ed98-13f6-4d2a-f44b-3a3988484f09"
      },
      "execution_count": null,
      "outputs": [
        {
          "output_type": "display_data",
          "data": {
            "text/plain": [
              "<Figure size 1000x400 with 1 Axes>"
            ],
            "image/png": "[encoded data removed]"
          },
          "metadata": {}
        }
      ]
    },
    {
      "cell_type": "code",
      "source": [
        "#  Outlier Detection\n",
        "plt.figure(figsize=(8,4))\n",
        "sns.boxplot(x=df[\"o3\"], color=\"red\")\n",
        "plt.title(\"Outliers in Ozone (o3)\")\n",
        "plt.show()"
      ],
      "metadata": {
        "colab": {
          "base_uri": "https://localhost:8080/",
          "height": 410
        },
        "id": "7sTK8aTY2Hcb",
        "outputId": "9d431f58-141e-41b0-b17b-36da3f655183"
      },
      "execution_count": null,
      "outputs": [
        {
          "output_type": "display_data",
          "data": {
            "text/plain": [
              "<Figure size 800x400 with 1 Axes>"
            ],
            "image/png": "[encoded data removed]"
          },
          "metadata": {}
        }
      ]
    },
    {
      "cell_type": "code",
      "source": [
        "#  Save Cleaned Dataset\n",
        "df.to_csv(\"taiwan_air_quality_cleaned.csv\", index=False)\n",
        "print(\"\\n Cleaned & EDA-ready dataset saved as 'taiwan_air_quality_cleaned.csv'\")"
      ],
      "metadata": {
        "colab": {
          "base_uri": "https://localhost:8080/"
        },
        "id": "oX4M_iAc3D55",
        "outputId": "edec74c7-448c-417f-e23f-1da512096d8d"
      },
      "execution_count": null,
      "outputs": [
        {
          "output_type": "stream",
          "name": "stdout",
          "text": [
            "\n",
            " Cleaned & EDA-ready dataset saved as 'taiwan_air_quality_cleaned.csv'\n"
          ]
        }
      ]
    },
    {
      "cell_type": "code",
      "source": [
        "#  Setup: Install and Import Libraries\n",
        "\n",
        "!pip install kaggle -q\n",
        "!pip install xgboost -q\n",
        "\n",
        "import pandas as pd\n",
        "import numpy as np\n",
        "import matplotlib.pyplot as plt\n",
        "import seaborn as sns\n",
        "from sklearn.model_selection import train_test_split\n",
        "from sklearn.preprocessing import LabelEncoder, StandardScaler\n",
        "from sklearn.metrics import r2_score, mean_absolute_error, mean_squared_error\n",
        "from sklearn.ensemble import RandomForestRegressor\n",
        "from xgboost import XGBRegressor\n",
        "\n",
        "sns.set(style=\"whitegrid\")\n",
        "plt.rcParams['figure.figsize'] = (8,5)"
      ],
      "metadata": {
        "id": "yJDgbW_Tdf16"
      },
      "execution_count": 5,
      "outputs": []
    },
    {
      "cell_type": "code",
      "source": [
        "#  Load the Dataset\n",
        "\n",
        "df = pd.read_csv(\"air_quality.csv\", low_memory=False)\n",
        "print(\" Dataset Loaded Successfully!\")\n",
        "print(\"Shape:\", df.shape)\n",
        "df.head()\n"
      ],
      "metadata": {
        "colab": {
          "base_uri": "https://localhost:8080/",
          "height": 463
        },
        "id": "dShqBRXDdpdI",
        "outputId": "8352e346-4a6a-463d-afcf-7d2af24f544f"
      },
      "execution_count": 6,
      "outputs": [
        {
          "output_type": "stream",
          "name": "stdout",
          "text": [
            " Dataset Loaded Successfully!\n",
            "Shape: (5882208, 25)\n"
          ]
        },
        {
          "output_type": "execute_result",
          "data": {
            "text/plain": [
              "               date   sitename          county   aqi pollutant    status  so2  \\\n",
              "0  2024-08-31 23:00      Hukou  Hsinchu County  62.0     PM2.5  Moderate  0.9   \n",
              "1  2024-08-31 23:00  Zhongming   Taichung City  50.0       NaN      Good  1.6   \n",
              "2  2024-08-31 23:00    Zhudong  Hsinchu County  45.0       NaN      Good  0.4   \n",
              "3  2024-08-31 23:00    Hsinchu    Hsinchu City  42.0       NaN      Good  0.8   \n",
              "4  2024-08-31 23:00     Toufen   Miaoli County  50.0       NaN      Good  1.0   \n",
              "\n",
              "     co    o3 o3_8hr  ... windspeed winddirec unit co_8hr pm2.5_avg pm10_avg  \\\n",
              "0  0.17  35.0   40.2  ...       2.3       225  NaN    0.2      20.1     26.0   \n",
              "1  0.32  27.9   35.1  ...       1.1       184  NaN    0.2      15.3     23.0   \n",
              "2  0.17  25.1   40.6  ...       0.4       210  NaN    0.2      13.8     24.0   \n",
              "3   0.2  30.0   35.9  ...       1.9       239  NaN    0.2      13.0     26.0   \n",
              "4  0.16  33.5   35.9  ...       1.8       259  NaN    0.1      15.3     28.0   \n",
              "\n",
              "  so2_avg   longitude   latitude siteid  \n",
              "0     1.0  121.038869  24.900097   22.0  \n",
              "1     1.0  120.641092  24.151958   31.0  \n",
              "2     0.0  121.088955  24.740914   23.0  \n",
              "3     1.0  120.972368  24.805636   24.0  \n",
              "4     1.0  120.898693  24.696907   25.0  \n",
              "\n",
              "[5 rows x 25 columns]"
            ],
            "text/html": [
              "\n",
              "  <div id=\"df-5b9d0638-0ca5-4797-9081-9243bc0092f8\" class=\"colab-df-container\">\n",
              "    <div>\n",
              "<style scoped>\n",
              "    .dataframe tbody tr th:only-of-type {\n",
              "        vertical-align: middle;\n",
              "    }\n",
              "\n",
              "    .dataframe tbody tr th {\n",
              "        vertical-align: top;\n",
              "    }\n",
              "\n",
              "    .dataframe thead th {\n",
              "        text-align: right;\n",
              "    }\n",
              "</style>\n",
              "<table border=\"1\" class=\"dataframe\">\n",
              "  <thead>\n",
              "    <tr style=\"text-align: right;\">\n",
              "      <th></th>\n",
              "      <th>date</th>\n",
              "      <th>sitename</th>\n",
              "      <th>county</th>\n",
              "      <th>aqi</th>\n",
              "      <th>pollutant</th>\n",
              "      <th>status</th>\n",
              "      <th>so2</th>\n",
              "      <th>co</th>\n",
              "      <th>o3</th>\n",
              "      <th>o3_8hr</th>\n",
              "      <th>...</th>\n",
              "      <th>windspeed</th>\n",
              "      <th>winddirec</th>\n",
              "      <th>unit</th>\n",
              "      <th>co_8hr</th>\n",
              "      <th>pm2.5_avg</th>\n",
              "      <th>pm10_avg</th>\n",
              "      <th>so2_avg</th>\n",
              "      <th>longitude</th>\n",
              "      <th>latitude</th>\n",
              "      <th>siteid</th>\n",
              "    </tr>\n",
              "  </thead>\n",
              "  <tbody>\n",
              "    <tr>\n",
              "      <th>0</th>\n",
              "      <td>2024-08-31 23:00</td>\n",
              "      <td>Hukou</td>\n",
              "      <td>Hsinchu County</td>\n",
              "      <td>62.0</td>\n",
              "      <td>PM2.5</td>\n",
              "      <td>Moderate</td>\n",
              "      <td>0.9</td>\n",
              "      <td>0.17</td>\n",
              "      <td>35.0</td>\n",
              "      <td>40.2</td>\n",
              "      <td>...</td>\n",
              "      <td>2.3</td>\n",
              "      <td>225</td>\n",
              "      <td>NaN</td>\n",
              "      <td>0.2</td>\n",
              "      <td>20.1</td>\n",
              "      <td>26.0</td>\n",
              "      <td>1.0</td>\n",
              "      <td>121.038869</td>\n",
              "      <td>24.900097</td>\n",
              "      <td>22.0</td>\n",
              "    </tr>\n",
              "    <tr>\n",
              "      <th>1</th>\n",
              "      <td>2024-08-31 23:00</td>\n",
              "      <td>Zhongming</td>\n",
              "      <td>Taichung City</td>\n",
              "      <td>50.0</td>\n",
              "      <td>NaN</td>\n",
              "      <td>Good</td>\n",
              "      <td>1.6</td>\n",
              "      <td>0.32</td>\n",
              "      <td>27.9</td>\n",
              "      <td>35.1</td>\n",
              "      <td>...</td>\n",
              "      <td>1.1</td>\n",
              "      <td>184</td>\n",
              "      <td>NaN</td>\n",
              "      <td>0.2</td>\n",
              "      <td>15.3</td>\n",
              "      <td>23.0</td>\n",
              "      <td>1.0</td>\n",
              "      <td>120.641092</td>\n",
              "      <td>24.151958</td>\n",
              "      <td>31.0</td>\n",
              "    </tr>\n",
              "    <tr>\n",
              "      <th>2</th>\n",
              "      <td>2024-08-31 23:00</td>\n",
              "      <td>Zhudong</td>\n",
              "      <td>Hsinchu County</td>\n",
              "      <td>45.0</td>\n",
              "      <td>NaN</td>\n",
              "      <td>Good</td>\n",
              "      <td>0.4</td>\n",
              "      <td>0.17</td>\n",
              "      <td>25.1</td>\n",
              "      <td>40.6</td>\n",
              "      <td>...</td>\n",
              "      <td>0.4</td>\n",
              "      <td>210</td>\n",
              "      <td>NaN</td>\n",
              "      <td>0.2</td>\n",
              "      <td>13.8</td>\n",
              "      <td>24.0</td>\n",
              "      <td>0.0</td>\n",
              "      <td>121.088955</td>\n",
              "      <td>24.740914</td>\n",
              "      <td>23.0</td>\n",
              "    </tr>\n",
              "    <tr>\n",
              "      <th>3</th>\n",
              "      <td>2024-08-31 23:00</td>\n",
              "      <td>Hsinchu</td>\n",
              "      <td>Hsinchu City</td>\n",
              "      <td>42.0</td>\n",
              "      <td>NaN</td>\n",
              "      <td>Good</td>\n",
              "      <td>0.8</td>\n",
              "      <td>0.2</td>\n",
              "      <td>30.0</td>\n",
              "      <td>35.9</td>\n",
              "      <td>...</td>\n",
              "      <td>1.9</td>\n",
              "      <td>239</td>\n",
              "      <td>NaN</td>\n",
              "      <td>0.2</td>\n",
              "      <td>13.0</td>\n",
              "      <td>26.0</td>\n",
              "      <td>1.0</td>\n",
              "      <td>120.972368</td>\n",
              "      <td>24.805636</td>\n",
              "      <td>24.0</td>\n",
              "    </tr>\n",
              "    <tr>\n",
              "      <th>4</th>\n",
              "      <td>2024-08-31 23:00</td>\n",
              "      <td>Toufen</td>\n",
              "      <td>Miaoli County</td>\n",
              "      <td>50.0</td>\n",
              "      <td>NaN</td>\n",
              "      <td>Good</td>\n",
              "      <td>1.0</td>\n",
              "      <td>0.16</td>\n",
              "      <td>33.5</td>\n",
              "      <td>35.9</td>\n",
              "      <td>...</td>\n",
              "      <td>1.8</td>\n",
              "      <td>259</td>\n",
              "      <td>NaN</td>\n",
              "      <td>0.1</td>\n",
              "      <td>15.3</td>\n",
              "      <td>28.0</td>\n",
              "      <td>1.0</td>\n",
              "      <td>120.898693</td>\n",
              "      <td>24.696907</td>\n",
              "      <td>25.0</td>\n",
              "    </tr>\n",
              "  </tbody>\n",
              "</table>\n",
              "<p>5 rows × 25 columns</p>\n",
              "</div>\n",
              "    <div class=\"colab-df-buttons\">\n",
              "\n",
              "  <div class=\"colab-df-container\">\n",
              "    <button class=\"colab-df-convert\" onclick=\"convertToInteractive('df-5b9d0638-0ca5-4797-9081-9243bc0092f8')\"\n",
              "            title=\"Convert this dataframe to an interactive table.\"\n",
              "            style=\"display:none;\">\n",
              "\n",
              "  <svg xmlns=\"http://www.w3.org/2000/svg\" height=\"24px\" viewBox=\"0 -960 960 960\">\n",
              "    <path d=\"M120-120v-720h720v720H120Zm60-500h600v-160H180v160Zm220 220h160v-160H400v160Zm0 220h160v-160H400v160ZM180-400h160v-160H180v160Zm440 0h160v-160H620v160ZM180-180h160v-160H180v160Zm440 0h160v-160H620v160Z\"/>\n",
              "  </svg>\n",
              "    </button>\n",
              "\n",
              "  <style>\n",
              "    .colab-df-container {\n",
              "      display:flex;\n",
              "      gap: 12px;\n",
              "    }\n",
              "\n",
              "    .colab-df-convert {\n",
              "      background-color: #E8F0FE;\n",
              "      border: none;\n",
              "      border-radius: 50%;\n",
              "      cursor: pointer;\n",
              "      display: none;\n",
              "      fill: #1967D2;\n",
              "      height: 32px;\n",
              "      padding: 0 0 0 0;\n",
              "      width: 32px;\n",
              "    }\n",
              "\n",
              "    .colab-df-convert:hover {\n",
              "      background-color: #E2EBFA;\n",
              "      box-shadow: 0px 1px 2px rgba(60, 64, 67, 0.3), 0px 1px 3px 1px rgba(60, 64, 67, 0.15);\n",
              "      fill: #174EA6;\n",
              "    }\n",
              "\n",
              "    .colab-df-buttons div {\n",
              "      margin-bottom: 4px;\n",
              "    }\n",
              "\n",
              "    [theme=dark] .colab-df-convert {\n",
              "      background-color: #3B4455;\n",
              "      fill: #D2E3FC;\n",
              "    }\n",
              "\n",
              "    [theme=dark] .colab-df-convert:hover {\n",
              "      background-color: #434B5C;\n",
              "      box-shadow: 0px 1px 3px 1px rgba(0, 0, 0, 0.15);\n",
              "      filter: drop-shadow(0px 1px 2px rgba(0, 0, 0, 0.3));\n",
              "      fill: #FFFFFF;\n",
              "    }\n",
              "  </style>\n",
              "\n",
              "    <script>\n",
              "      const buttonEl =\n",
              "        document.querySelector('#df-5b9d0638-0ca5-4797-9081-9243bc0092f8 button.colab-df-convert');\n",
              "      buttonEl.style.display =\n",
              "        google.colab.kernel.accessAllowed ? 'block' : 'none';\n",
              "\n",
              "      async function convertToInteractive(key) {\n",
              "        const element = document.querySelector('#df-5b9d0638-0ca5-4797-9081-9243bc0092f8');\n",
              "        const dataTable =\n",
              "          await google.colab.kernel.invokeFunction('convertToInteractive',\n",
              "                                                    [key], {});\n",
              "        if (!dataTable) return;\n",
              "\n",
              "        const docLinkHtml = 'Like what you see? Visit the ' +\n",
              "          '<a target=\"_blank\" href=https://colab.research.google.com/notebooks/data_table.ipynb>data table notebook</a>'\n",
              "          + ' to learn more about interactive tables.';\n",
              "        element.innerHTML = '';\n",
              "        dataTable['output_type'] = 'display_data';\n",
              "        await google.colab.output.renderOutput(dataTable, element);\n",
              "        const docLink = document.createElement('div');\n",
              "        docLink.innerHTML = docLinkHtml;\n",
              "        element.appendChild(docLink);\n",
              "      }\n",
              "    </script>\n",
              "  </div>\n",
              "\n",
              "\n",
              "    <div id=\"df-3f7af152-794d-4812-b1fd-96c65c1c0412\">\n",
              "      <button class=\"colab-df-quickchart\" onclick=\"quickchart('df-3f7af152-794d-4812-b1fd-96c65c1c0412')\"\n",
              "                title=\"Suggest charts\"\n",
              "                style=\"display:none;\">\n",
              "\n",
              "<svg xmlns=\"http://www.w3.org/2000/svg\" height=\"24px\"viewBox=\"0 0 24 24\"\n",
              "     width=\"24px\">\n",
              "    <g>\n",
              "        <path d=\"M19 3H5c-1.1 0-2 .9-2 2v14c0 1.1.9 2 2 2h14c1.1 0 2-.9 2-2V5c0-1.1-.9-2-2-2zM9 17H7v-7h2v7zm4 0h-2V7h2v10zm4 0h-2v-4h2v4z\"/>\n",
              "    </g>\n",
              "</svg>\n",
              "      </button>\n",
              "\n",
              "<style>\n",
              "  .colab-df-quickchart {\n",
              "      --bg-color: #E8F0FE;\n",
              "      --fill-color: #1967D2;\n",
              "      --hover-bg-color: #E2EBFA;\n",
              "      --hover-fill-color: #174EA6;\n",
              "      --disabled-fill-color: #AAA;\n",
              "      --disabled-bg-color: #DDD;\n",
              "  }\n",
              "\n",
              "  [theme=dark] .colab-df-quickchart {\n",
              "      --bg-color: #3B4455;\n",
              "      --fill-color: #D2E3FC;\n",
              "      --hover-bg-color: #434B5C;\n",
              "      --hover-fill-color: #FFFFFF;\n",
              "      --disabled-bg-color: #3B4455;\n",
              "      --disabled-fill-color: #666;\n",
              "  }\n",
              "\n",
              "  .colab-df-quickchart {\n",
              "    background-color: var(--bg-color);\n",
              "    border: none;\n",
              "    border-radius: 50%;\n",
              "    cursor: pointer;\n",
              "    display: none;\n",
              "    fill: var(--fill-color);\n",
              "    height: 32px;\n",
              "    padding: 0;\n",
              "    width: 32px;\n",
              "  }\n",
              "\n",
              "  .colab-df-quickchart:hover {\n",
              "    background-color: var(--hover-bg-color);\n",
              "    box-shadow: 0 1px 2px rgba(60, 64, 67, 0.3), 0 1px 3px 1px rgba(60, 64, 67, 0.15);\n",
              "    fill: var(--button-hover-fill-color);\n",
              "  }\n",
              "\n",
              "  .colab-df-quickchart-complete:disabled,\n",
              "  .colab-df-quickchart-complete:disabled:hover {\n",
              "    background-color: var(--disabled-bg-color);\n",
              "    fill: var(--disabled-fill-color);\n",
              "    box-shadow: none;\n",
              "  }\n",
              "\n",
              "  .colab-df-spinner {\n",
              "    border: 2px solid var(--fill-color);\n",
              "    border-color: transparent;\n",
              "    border-bottom-color: var(--fill-color);\n",
              "    animation:\n",
              "      spin 1s steps(1) infinite;\n",
              "  }\n",
              "\n",
              "  @keyframes spin {\n",
              "    0% {\n",
              "      border-color: transparent;\n",
              "      border-bottom-color: var(--fill-color);\n",
              "      border-left-color: var(--fill-color);\n",
              "    }\n",
              "    20% {\n",
              "      border-color: transparent;\n",
              "      border-left-color: var(--fill-color);\n",
              "      border-top-color: var(--fill-color);\n",
              "    }\n",
              "    30% {\n",
              "      border-color: transparent;\n",
              "      border-left-color: var(--fill-color);\n",
              "      border-top-color: var(--fill-color);\n",
              "      border-right-color: var(--fill-color);\n",
              "    }\n",
              "    40% {\n",
              "      border-color: transparent;\n",
              "      border-right-color: var(--fill-color);\n",
              "      border-top-color: var(--fill-color);\n",
              "    }\n",
              "    60% {\n",
              "      border-color: transparent;\n",
              "      border-right-color: var(--fill-color);\n",
              "    }\n",
              "    80% {\n",
              "      border-color: transparent;\n",
              "      border-right-color: var(--fill-color);\n",
              "      border-bottom-color: var(--fill-color);\n",
              "    }\n",
              "    90% {\n",
              "      border-color: transparent;\n",
              "      border-bottom-color: var(--fill-color);\n",
              "    }\n",
              "  }\n",
              "</style>\n",
              "\n",
              "      <script>\n",
              "        async function quickchart(key) {\n",
              "          const quickchartButtonEl =\n",
              "            document.querySelector('#' + key + ' button');\n",
              "          quickchartButtonEl.disabled = true;  // To prevent multiple clicks.\n",
              "          quickchartButtonEl.classList.add('colab-df-spinner');\n",
              "          try {\n",
              "            const charts = await google.colab.kernel.invokeFunction(\n",
              "                'suggestCharts', [key], {});\n",
              "          } catch (error) {\n",
              "            console.error('Error during call to suggestCharts:', error);\n",
              "          }\n",
              "          quickchartButtonEl.classList.remove('colab-df-spinner');\n",
              "          quickchartButtonEl.classList.add('colab-df-quickchart-complete');\n",
              "        }\n",
              "        (() => {\n",
              "          let quickchartButtonEl =\n",
              "            document.querySelector('#df-3f7af152-794d-4812-b1fd-96c65c1c0412 button');\n",
              "          quickchartButtonEl.style.display =\n",
              "            google.colab.kernel.accessAllowed ? 'block' : 'none';\n",
              "        })();\n",
              "      </script>\n",
              "    </div>\n",
              "\n",
              "    </div>\n",
              "  </div>\n"
            ],
            "application/vnd.google.colaboratory.intrinsic+json": {
              "type": "dataframe",
              "variable_name": "df"
            }
          },
          "metadata": {},
          "execution_count": 6
        }
      ]
    },
    {
      "cell_type": "code",
      "source": [
        "#  Basic Info and Missing Values\n",
        "\n",
        "print(\"\\n--- Basic Info ---\")\n",
        "print(df.info())\n",
        "print(\"\\n--- Missing Values ---\")\n",
        "print(df.isnull().sum())"
      ],
      "metadata": {
        "colab": {
          "base_uri": "https://localhost:8080/"
        },
        "id": "VnaKnr7weJMh",
        "outputId": "b7a00091-f65d-4308-fe24-e48b877406fe"
      },
      "execution_count": 7,
      "outputs": [
        {
          "output_type": "stream",
          "name": "stdout",
          "text": [
            "\n",
            "--- Basic Info ---\n",
            "<class 'pandas.core.frame.DataFrame'>\n",
            "RangeIndex: 5882208 entries, 0 to 5882207\n",
            "Data columns (total 25 columns):\n",
            " #   Column     Dtype  \n",
            "---  ------     -----  \n",
            " 0   date       object \n",
            " 1   sitename   object \n",
            " 2   county     object \n",
            " 3   aqi        float64\n",
            " 4   pollutant  object \n",
            " 5   status     object \n",
            " 6   so2        object \n",
            " 7   co         object \n",
            " 8   o3         object \n",
            " 9   o3_8hr     object \n",
            " 10  pm10       object \n",
            " 11  pm2.5      object \n",
            " 12  no2        object \n",
            " 13  nox        object \n",
            " 14  no         object \n",
            " 15  windspeed  object \n",
            " 16  winddirec  object \n",
            " 17  unit       float64\n",
            " 18  co_8hr     object \n",
            " 19  pm2.5_avg  object \n",
            " 20  pm10_avg   object \n",
            " 21  so2_avg    object \n",
            " 22  longitude  float64\n",
            " 23  latitude   float64\n",
            " 24  siteid     float64\n",
            "dtypes: float64(5), object(20)\n",
            "memory usage: 1.1+ GB\n",
            "None\n",
            "\n",
            "--- Missing Values ---\n",
            "date               0\n",
            "sitename           0\n",
            "county             0\n",
            "aqi            43020\n",
            "pollutant    3235012\n",
            "status        142718\n",
            "so2           139768\n",
            "co            113504\n",
            "o3            125017\n",
            "o3_8hr        131081\n",
            "pm10          140358\n",
            "pm2.5         131438\n",
            "no2           165977\n",
            "nox           169124\n",
            "no            169455\n",
            "windspeed     219498\n",
            "winddirec     219736\n",
            "unit         5882208\n",
            "co_8hr         81229\n",
            "pm2.5_avg      79941\n",
            "pm10_avg       89875\n",
            "so2_avg       629162\n",
            "longitude     933620\n",
            "latitude      933620\n",
            "siteid       1779469\n",
            "dtype: int64\n"
          ]
        }
      ]
    },
    {
      "cell_type": "code",
      "source": [
        "#  Data Cleaning\n",
        "\n",
        "# Convert pollutant columns to numeric\n",
        "for col in ['pm2.5', 'pm10', 'o3']:\n",
        "    if col in df.columns:\n",
        "        df[col] = pd.to_numeric(df[col], errors='coerce')\n",
        "\n",
        "# Fill missing numeric values with mean\n",
        "for col in df.select_dtypes(include=[np.number]).columns:\n",
        "    df[col] = df[col].fillna(df[col].mean())\n",
        "\n",
        "# Fill categorical columns with mode\n",
        "for col in df.select_dtypes(include=['object']).columns:\n",
        "    df[col] = df[col].fillna(df[col].mode()[0])\n",
        "\n",
        "print(\"\\n Data Cleaning Done!\")"
      ],
      "metadata": {
        "colab": {
          "base_uri": "https://localhost:8080/"
        },
        "id": "03f9LIKweU-I",
        "outputId": "bebed11f-5251-4a9e-959d-8bd6a641ad2e"
      },
      "execution_count": 8,
      "outputs": [
        {
          "output_type": "stream",
          "name": "stdout",
          "text": [
            "\n",
            " Data Cleaning Done!\n"
          ]
        }
      ]
    },
    {
      "cell_type": "code",
      "source": [
        "#  Exploratory Data Analysis (EDA)\n",
        "\n",
        "print(\"\\n--- Statistical Summary ---\")\n",
        "print(df.describe())\n",
        "\n",
        "# Correlation Heatmap\n",
        "corr = df.corr(numeric_only=True)\n",
        "sns.heatmap(corr, annot=False, cmap='coolwarm')\n",
        "plt.title(\"Correlation Heatmap of Air Quality Features\")\n",
        "plt.show()\n",
        "\n",
        "# Distribution of PM2.5\n",
        "if 'pm2.5' in df.columns:\n",
        "    sns.histplot(df['pm2.5'], kde=True)\n",
        "    plt.title(\"Distribution of PM2.5 Concentration\")\n",
        "    plt.show()\n"
      ],
      "metadata": {
        "colab": {
          "base_uri": "https://localhost:8080/",
          "height": 1000
        },
        "id": "BJIb8_Q-e22h",
        "outputId": "ddb6c49e-06f7-4319-ca57-73b414fe59fe"
      },
      "execution_count": 9,
      "outputs": [
        {
          "output_type": "stream",
          "name": "stdout",
          "text": [
            "\n",
            "--- Statistical Summary ---\n",
            "                aqi            o3          pm10         pm2.5  unit  \\\n",
            "count  5.882208e+06  5.882208e+06  5.882208e+06  5.882208e+06   0.0   \n",
            "mean   5.419277e+01  3.042044e+01  3.438227e+01  1.684545e+01   NaN   \n",
            "std    2.974925e+01  1.802696e+01  2.398997e+01  1.249928e+01   NaN   \n",
            "min   -1.000000e+00 -9.990000e+02 -9.990000e+02 -9.990000e+02   NaN   \n",
            "25%    3.200000e+01  1.650000e+01  1.800000e+01  8.000000e+00   NaN   \n",
            "50%    4.700000e+01  2.910000e+01  2.900000e+01  1.400000e+01   NaN   \n",
            "75%    7.000000e+01  4.140000e+01  4.400000e+01  2.200000e+01   NaN   \n",
            "max    5.000000e+02  4.100000e+02  1.407000e+03  1.000000e+03   NaN   \n",
            "\n",
            "          longitude      latitude        siteid  \n",
            "count  5.882208e+06  5.882208e+06  5.882208e+06  \n",
            "mean   1.208235e+02  2.404500e+01  5.608608e+01  \n",
            "std    8.845717e-01  9.190606e-01  5.205919e+01  \n",
            "min    0.000000e+00  0.000000e+00  0.000000e+00  \n",
            "25%    1.204097e+02  2.346278e+01  3.100000e+01  \n",
            "50%    1.208235e+02  2.404500e+01  5.608608e+01  \n",
            "75%    1.213087e+02  2.495328e+01  5.608608e+01  \n",
            "max    1.218157e+02  2.625800e+01  3.140000e+02  \n"
          ]
        },
        {
          "output_type": "display_data",
          "data": {
            "text/plain": [
              "<Figure size 800x500 with 2 Axes>"
            ],
            "image/png": "[encoded data removed]"
          },
          "metadata": {}
        },
        {
          "output_type": "display_data",
          "data": {
            "text/plain": [
              "<Figure size 800x500 with 1 Axes>"
            ],
            "image/png": "[encoded data removed]"
          },
          "metadata": {}
        }
      ]
    },
    {
      "cell_type": "code",
      "source": [
        "# Convert Categorical to Numerical\n",
        "\n",
        "le = LabelEncoder()\n",
        "for col in df.select_dtypes(include=['object']).columns:\n",
        "    df[col] = le.fit_transform(df[col])\n",
        "\n",
        "print(\"Converted Categorical Columns to Numeric\")"
      ],
      "metadata": {
        "colab": {
          "base_uri": "https://localhost:8080/"
        },
        "id": "ISz1F-fofjRq",
        "outputId": "02078776-fcc0-47c6-f673-3aa5ea130009"
      },
      "execution_count": 10,
      "outputs": [
        {
          "output_type": "stream",
          "name": "stdout",
          "text": [
            "Converted Categorical Columns to Numeric\n"
          ]
        }
      ]
    },
    {
      "cell_type": "code",
      "source": [
        "#  Feature Selection\n",
        "# If AQI or PM2.5 is the target, adjust accordingly\n",
        "target_col = 'pm2.5' if 'pm2.5' in df.columns else 'AQI'\n",
        "\n",
        "# Remove the 'unit' column as it has zero variance and won't be useful for modeling\n",
        "X = df.drop([target_col, 'unit'], axis=1)\n",
        "y = df[target_col]\n",
        "\n",
        "# Handle potential infinite values before scaling\n",
        "X.replace([np.inf, -np.inf], np.nan, inplace=True)\n",
        "X.fillna(X.mean(), inplace=True)\n",
        "\n",
        "# Scale features\n",
        "scaler = StandardScaler()\n",
        "X_scaled = scaler.fit_transform(X)"
      ],
      "metadata": {
        "id": "TWSJnefzfyIc"
      },
      "execution_count": 11,
      "outputs": []
    },
    {
      "cell_type": "code",
      "source": [],
      "metadata": {
        "id": "xVmlnQOBuS7-"
      },
      "execution_count": null,
      "outputs": []
    },
    {
      "cell_type": "code",
      "source": [
        "#  Split Data into Train/Test\n",
        "\n",
        "# Take a smaller random sample for faster exploration (e.g., 100000 rows)\n",
        "sample_size = 20\n",
        "df_sampled = df.sample(n=min(sample_size, len(df)), random_state=42)\n",
        "\n",
        "target_col = 'pm2.5' if 'pm2.5' in df_sampled.columns else 'AQI'\n",
        "\n",
        "X_sampled = df_sampled.drop(target_col, axis=1)\n",
        "y_sampled = df_sampled[target_col]\n",
        "\n",
        "\n",
        "# Handle potential infinite values before scaling\n",
        "X_sampled.replace([np.inf, -np.inf], np.nan, inplace=True)\n",
        "X_sampled.fillna(X_sampled.mean(), inplace=True)\n",
        "\n",
        "# Scale features using the scaler fitted on the full dataset or a subset of the full dataset.\n",
        "# For now, we will fit a new scaler on the sampled data for speed.\n",
        "scaler_sampled = StandardScaler()\n",
        "X_scaled_sampled = scaler_sampled.fit_transform(X_sampled)\n",
        "\n",
        "\n",
        "X_train, X_test, y_train, y_test = train_test_split(\n",
        "    X_scaled_sampled, y_sampled, test_size=0.2, random_state=42\n",
        ")\n",
        "\n",
        "print(f\"Training Samples: {len(X_train)}, Testing Samples: {len(X_test)}\")"
      ],
      "metadata": {
        "colab": {
          "base_uri": "https://localhost:8080/"
        },
        "id": "9Ps4vpjwiM_E",
        "outputId": "1af74b28-6570-4404-c16f-aff1f0a9df4d"
      },
      "execution_count": 15,
      "outputs": [
        {
          "output_type": "stream",
          "name": "stdout",
          "text": [
            "Training Samples: 16, Testing Samples: 4\n"
          ]
        },
        {
          "output_type": "stream",
          "name": "stderr",
          "text": [
            "/usr/local/lib/python3.12/dist-packages/sklearn/utils/extmath.py:1101: RuntimeWarning: invalid value encountered in divide\n",
            "  updated_mean = (last_sum + new_sum) / updated_sample_count\n",
            "/usr/local/lib/python3.12/dist-packages/sklearn/utils/extmath.py:1106: RuntimeWarning: invalid value encountered in divide\n",
            "  T = new_sum / new_sample_count\n",
            "/usr/local/lib/python3.12/dist-packages/sklearn/utils/extmath.py:1126: RuntimeWarning: invalid value encountered in divide\n",
            "  new_unnormalized_variance -= correction**2 / new_sample_count\n"
          ]
        }
      ]
    },
    {
      "cell_type": "code",
      "source": [
        "#  Model Training & Evaluation\n",
        "\n",
        "models = {\n",
        "    \"Random Forest\": RandomForestRegressor(random_state=42),\n",
        "    \"XGBoost\": XGBRegressor(random_state=42, n_estimators=300)\n",
        "}\n",
        "\n",
        "results = []\n",
        "\n",
        "for name, model in models.items():\n",
        "    model.fit(X_train, y_train)\n",
        "    y_pred = model.predict(X_test)\n",
        "\n",
        "    r2 = r2_score(y_test, y_pred)\n",
        "    mae = mean_absolute_error(y_test, y_pred)\n",
        "    rmse = np.sqrt(mean_squared_error(y_test, y_pred))\n",
        "\n",
        "    results.append([name, r2, mae, rmse])\n",
        "    print(f\"\\n {name} Results:\")\n",
        "    print(f\"R² Score: {r2:.4f}\")\n",
        "    print(f\"MAE: {mae:.4f}\")\n",
        "    print(f\"RMSE: {rmse:.4f}\")"
      ],
      "metadata": {
        "colab": {
          "base_uri": "https://localhost:8080/"
        },
        "id": "B8SjawpnvMLd",
        "outputId": "a3917521-d8a2-4d12-bfd2-7ee51409b684"
      },
      "execution_count": 16,
      "outputs": [
        {
          "output_type": "stream",
          "name": "stdout",
          "text": [
            "\n",
            " Random Forest Results:\n",
            "R² Score: 0.3074\n",
            "MAE: 11.3525\n",
            "RMSE: 15.4855\n",
            "\n",
            " XGBoost Results:\n",
            "R² Score: 0.7643\n",
            "MAE: 7.6101\n",
            "RMSE: 9.0341\n"
          ]
        }
      ]
    },
    {
      "cell_type": "code",
      "source": [
        "# Compare Models\n",
        "\n",
        "results_df = pd.DataFrame(results, columns=[\"Model\", \"R2 Score\", \"MAE\", \"RMSE\"])\n",
        "print(\"\\n\\n Model Comparison:\")\n",
        "print(results_df)\n",
        "\n",
        "sns.barplot(data=results_df, x=\"Model\", y=\"R2 Score\")\n",
        "plt.title(\"Model Performance Comparison (Higher R² = Better)\")\n",
        "plt.show()"
      ],
      "metadata": {
        "colab": {
          "base_uri": "https://localhost:8080/",
          "height": 600
        },
        "id": "94IT0lHfvYxW",
        "outputId": "4207345b-1fdc-4aca-efd8-495a08caae7e"
      },
      "execution_count": 17,
      "outputs": [
        {
          "output_type": "stream",
          "name": "stdout",
          "text": [
            "\n",
            "\n",
            " Model Comparison:\n",
            "           Model  R2 Score        MAE       RMSE\n",
            "0  Random Forest  0.307435  11.352500  15.485496\n",
            "1        XGBoost  0.764286   7.610078   9.034146\n"
          ]
        },
        {
          "output_type": "display_data",
          "data": {
            "text/plain": [
              "<Figure size 800x500 with 1 Axes>"
            ],
            "image/png": "[encoded data removed]"
          },
          "metadata": {}
        }
      ]
    },
    {
      "cell_type": "code",
      "source": [
        "# StandardScaler : It ensures all numerical features contribute equally to distance-based learning.\n",
        "# Heatmap : Heatmap shows correlations between pollutants (e.g., PM2.5 vs O3), which is vital for feature understanding.\n",
        "# Histogram : visualize distribution and relationships in environmental data.\n",
        "# RandomForestRegressor : Robust, non-linear, handles missing values, resistant to overfitting, performs well on tabular environmental data.\n",
        "# XGBoostRegressor : Gradient-boosting ensemble that gives high accuracy and handles large feature spaces efficiently.\n",
        "# Evaluation Metrics :\n",
        "# R² Score — Measures model's explanatory power (how much variance is captured).\n",
        "# MAE & RMSE — Show average prediction errors; RMSE penalizes large deviations more.\n",
        "# These three give a balanced view of accuracy and stability."
      ],
      "metadata": {
        "id": "YBDlkXAIwIbR"
      },
      "execution_count": null,
      "outputs": []
    }
  ]
}